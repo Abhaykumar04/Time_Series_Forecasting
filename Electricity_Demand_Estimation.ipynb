{
 "cells": [
  {
   "cell_type": "code",
   "execution_count": 1,
   "id": "355c48ed",
   "metadata": {},
   "outputs": [
    {
     "name": "stderr",
     "output_type": "stream",
     "text": [
      "C:\\Users\\hp\\anaconda3\\lib\\site-packages\\numpy\\_distributor_init.py:30: UserWarning: loaded more than 1 DLL from .libs:\n",
      "C:\\Users\\hp\\anaconda3\\lib\\site-packages\\numpy\\.libs\\libopenblas.FB5AE2TYXYH2IJRDKGDGQ3XBKLKTF43H.gfortran-win_amd64.dll\n",
      "C:\\Users\\hp\\anaconda3\\lib\\site-packages\\numpy\\.libs\\libopenblas64__v0.3.23-246-g3d31191b-gcc_10_3_0.dll\n",
      "  warnings.warn(\"loaded more than 1 DLL from .libs:\"\n"
     ]
    }
   ],
   "source": [
    "import numpy as np\n",
    "import pandas as pd\n",
    "import matplotlib.pyplot as plt\n",
    "%matplotlib inline"
   ]
  },
  {
   "cell_type": "code",
   "execution_count": 2,
   "id": "d428dfd5",
   "metadata": {},
   "outputs": [],
   "source": [
    "Electricity_data = pd.read_csv(r\"D:\\Documents\\Analaytix labs\\Study case ML\\13. Capstone Case Study - Demand Estimation\\Electricity Consumption.csv\")"
   ]
  },
  {
   "cell_type": "code",
   "execution_count": 3,
   "id": "ab7eb99a",
   "metadata": {},
   "outputs": [
    {
     "name": "stdout",
     "output_type": "stream",
     "text": [
      "<class 'pandas.core.frame.DataFrame'>\n",
      "RangeIndex: 561 entries, 0 to 560\n",
      "Data columns (total 2 columns):\n",
      " #   Column                        Non-Null Count  Dtype  \n",
      "---  ------                        --------------  -----  \n",
      " 0   DATE                          561 non-null    object \n",
      " 1   Electricty_Consumption_in_TW  561 non-null    float64\n",
      "dtypes: float64(1), object(1)\n",
      "memory usage: 8.9+ KB\n"
     ]
    }
   ],
   "source": [
    "Electricity_data.info()"
   ]
  },
  {
   "cell_type": "code",
   "execution_count": 4,
   "id": "3c6e37e3",
   "metadata": {},
   "outputs": [
    {
     "data": {
      "text/html": [
       "<div>\n",
       "<style scoped>\n",
       "    .dataframe tbody tr th:only-of-type {\n",
       "        vertical-align: middle;\n",
       "    }\n",
       "\n",
       "    .dataframe tbody tr th {\n",
       "        vertical-align: top;\n",
       "    }\n",
       "\n",
       "    .dataframe thead th {\n",
       "        text-align: right;\n",
       "    }\n",
       "</style>\n",
       "<table border=\"1\" class=\"dataframe\">\n",
       "  <thead>\n",
       "    <tr style=\"text-align: right;\">\n",
       "      <th></th>\n",
       "      <th>DATE</th>\n",
       "      <th>Electricty_Consumption_in_TW</th>\n",
       "    </tr>\n",
       "  </thead>\n",
       "  <tbody>\n",
       "    <tr>\n",
       "      <th>0</th>\n",
       "      <td>1/1/1973</td>\n",
       "      <td>35.9728</td>\n",
       "    </tr>\n",
       "    <tr>\n",
       "      <th>1</th>\n",
       "      <td>2/1/1973</td>\n",
       "      <td>36.1334</td>\n",
       "    </tr>\n",
       "    <tr>\n",
       "      <th>2</th>\n",
       "      <td>3/1/1973</td>\n",
       "      <td>35.0625</td>\n",
       "    </tr>\n",
       "    <tr>\n",
       "      <th>3</th>\n",
       "      <td>4/1/1973</td>\n",
       "      <td>33.8416</td>\n",
       "    </tr>\n",
       "    <tr>\n",
       "      <th>4</th>\n",
       "      <td>5/1/1973</td>\n",
       "      <td>33.5107</td>\n",
       "    </tr>\n",
       "    <tr>\n",
       "      <th>...</th>\n",
       "      <td>...</td>\n",
       "      <td>...</td>\n",
       "    </tr>\n",
       "    <tr>\n",
       "      <th>556</th>\n",
       "      <td>5/1/2019</td>\n",
       "      <td>97.5860</td>\n",
       "    </tr>\n",
       "    <tr>\n",
       "      <th>557</th>\n",
       "      <td>6/1/2019</td>\n",
       "      <td>110.8580</td>\n",
       "    </tr>\n",
       "    <tr>\n",
       "      <th>558</th>\n",
       "      <td>7/1/2019</td>\n",
       "      <td>122.1014</td>\n",
       "    </tr>\n",
       "    <tr>\n",
       "      <th>559</th>\n",
       "      <td>8/1/2019</td>\n",
       "      <td>121.7765</td>\n",
       "    </tr>\n",
       "    <tr>\n",
       "      <th>560</th>\n",
       "      <td>9/1/2019</td>\n",
       "      <td>109.7190</td>\n",
       "    </tr>\n",
       "  </tbody>\n",
       "</table>\n",
       "<p>561 rows × 2 columns</p>\n",
       "</div>"
      ],
      "text/plain": [
       "         DATE  Electricty_Consumption_in_TW\n",
       "0    1/1/1973                       35.9728\n",
       "1    2/1/1973                       36.1334\n",
       "2    3/1/1973                       35.0625\n",
       "3    4/1/1973                       33.8416\n",
       "4    5/1/1973                       33.5107\n",
       "..        ...                           ...\n",
       "556  5/1/2019                       97.5860\n",
       "557  6/1/2019                      110.8580\n",
       "558  7/1/2019                      122.1014\n",
       "559  8/1/2019                      121.7765\n",
       "560  9/1/2019                      109.7190\n",
       "\n",
       "[561 rows x 2 columns]"
      ]
     },
     "execution_count": 4,
     "metadata": {},
     "output_type": "execute_result"
    }
   ],
   "source": [
    "Electricity_data"
   ]
  },
  {
   "cell_type": "code",
   "execution_count": 6,
   "id": "f765eb5d",
   "metadata": {},
   "outputs": [],
   "source": [
    "Electricity_data['DATE'] = pd.to_datetime(Electricity_data['DATE'], format='%d/%m/%Y')"
   ]
  },
  {
   "cell_type": "code",
   "execution_count": 7,
   "id": "555b1c75",
   "metadata": {},
   "outputs": [],
   "source": [
    "Electricity_data = Electricity_data.set_index(Electricity_data.DATE)\n",
    "# As we are solving Time Series data , but for that we need to set Date as a Index ."
   ]
  },
  {
   "cell_type": "code",
   "execution_count": 8,
   "id": "8a3b0394",
   "metadata": {},
   "outputs": [
    {
     "name": "stdout",
     "output_type": "stream",
     "text": [
      "<class 'pandas.core.frame.DataFrame'>\n",
      "DatetimeIndex: 561 entries, 1973-01-01 to 2019-01-09\n",
      "Data columns (total 2 columns):\n",
      " #   Column                        Non-Null Count  Dtype         \n",
      "---  ------                        --------------  -----         \n",
      " 0   DATE                          561 non-null    datetime64[ns]\n",
      " 1   Electricty_Consumption_in_TW  561 non-null    float64       \n",
      "dtypes: datetime64[ns](1), float64(1)\n",
      "memory usage: 13.1 KB\n"
     ]
    }
   ],
   "source": [
    "Electricity_data.info()"
   ]
  },
  {
   "cell_type": "code",
   "execution_count": 9,
   "id": "09c68852",
   "metadata": {},
   "outputs": [
    {
     "data": {
      "text/html": [
       "<div>\n",
       "<style scoped>\n",
       "    .dataframe tbody tr th:only-of-type {\n",
       "        vertical-align: middle;\n",
       "    }\n",
       "\n",
       "    .dataframe tbody tr th {\n",
       "        vertical-align: top;\n",
       "    }\n",
       "\n",
       "    .dataframe thead th {\n",
       "        text-align: right;\n",
       "    }\n",
       "</style>\n",
       "<table border=\"1\" class=\"dataframe\">\n",
       "  <thead>\n",
       "    <tr style=\"text-align: right;\">\n",
       "      <th></th>\n",
       "      <th>DATE</th>\n",
       "      <th>Electricty_Consumption_in_TW</th>\n",
       "    </tr>\n",
       "    <tr>\n",
       "      <th>DATE</th>\n",
       "      <th></th>\n",
       "      <th></th>\n",
       "    </tr>\n",
       "  </thead>\n",
       "  <tbody>\n",
       "    <tr>\n",
       "      <th>1973-01-01</th>\n",
       "      <td>1973-01-01</td>\n",
       "      <td>35.9728</td>\n",
       "    </tr>\n",
       "    <tr>\n",
       "      <th>1973-01-02</th>\n",
       "      <td>1973-01-02</td>\n",
       "      <td>36.1334</td>\n",
       "    </tr>\n",
       "    <tr>\n",
       "      <th>1973-01-03</th>\n",
       "      <td>1973-01-03</td>\n",
       "      <td>35.0625</td>\n",
       "    </tr>\n",
       "    <tr>\n",
       "      <th>1973-01-04</th>\n",
       "      <td>1973-01-04</td>\n",
       "      <td>33.8416</td>\n",
       "    </tr>\n",
       "    <tr>\n",
       "      <th>1973-01-05</th>\n",
       "      <td>1973-01-05</td>\n",
       "      <td>33.5107</td>\n",
       "    </tr>\n",
       "    <tr>\n",
       "      <th>...</th>\n",
       "      <td>...</td>\n",
       "      <td>...</td>\n",
       "    </tr>\n",
       "    <tr>\n",
       "      <th>2019-01-05</th>\n",
       "      <td>2019-01-05</td>\n",
       "      <td>97.5860</td>\n",
       "    </tr>\n",
       "    <tr>\n",
       "      <th>2019-01-06</th>\n",
       "      <td>2019-01-06</td>\n",
       "      <td>110.8580</td>\n",
       "    </tr>\n",
       "    <tr>\n",
       "      <th>2019-01-07</th>\n",
       "      <td>2019-01-07</td>\n",
       "      <td>122.1014</td>\n",
       "    </tr>\n",
       "    <tr>\n",
       "      <th>2019-01-08</th>\n",
       "      <td>2019-01-08</td>\n",
       "      <td>121.7765</td>\n",
       "    </tr>\n",
       "    <tr>\n",
       "      <th>2019-01-09</th>\n",
       "      <td>2019-01-09</td>\n",
       "      <td>109.7190</td>\n",
       "    </tr>\n",
       "  </tbody>\n",
       "</table>\n",
       "<p>561 rows × 2 columns</p>\n",
       "</div>"
      ],
      "text/plain": [
       "                 DATE  Electricty_Consumption_in_TW\n",
       "DATE                                               \n",
       "1973-01-01 1973-01-01                       35.9728\n",
       "1973-01-02 1973-01-02                       36.1334\n",
       "1973-01-03 1973-01-03                       35.0625\n",
       "1973-01-04 1973-01-04                       33.8416\n",
       "1973-01-05 1973-01-05                       33.5107\n",
       "...               ...                           ...\n",
       "2019-01-05 2019-01-05                       97.5860\n",
       "2019-01-06 2019-01-06                      110.8580\n",
       "2019-01-07 2019-01-07                      122.1014\n",
       "2019-01-08 2019-01-08                      121.7765\n",
       "2019-01-09 2019-01-09                      109.7190\n",
       "\n",
       "[561 rows x 2 columns]"
      ]
     },
     "execution_count": 9,
     "metadata": {},
     "output_type": "execute_result"
    }
   ],
   "source": [
    "Electricity_data"
   ]
  },
  {
   "cell_type": "code",
   "execution_count": 10,
   "id": "88548609",
   "metadata": {},
   "outputs": [],
   "source": [
    "import calendar"
   ]
  },
  {
   "cell_type": "code",
   "execution_count": 11,
   "id": "42c4395e",
   "metadata": {},
   "outputs": [],
   "source": [
    "Electricity_data['Month']=Electricity_data.DATE.dt.month\n",
    "Electricity_data['Year']=Electricity_data.DATE.dt.year\n",
    "Electricity_data['Day']=Electricity_data.DATE.dt.day\n",
    "\n",
    "# For better understanding we create new column having month , year , Day  & extracting value from Date ."
   ]
  },
  {
   "cell_type": "code",
   "execution_count": 12,
   "id": "838eb930",
   "metadata": {},
   "outputs": [
    {
     "data": {
      "text/html": [
       "<div>\n",
       "<style scoped>\n",
       "    .dataframe tbody tr th:only-of-type {\n",
       "        vertical-align: middle;\n",
       "    }\n",
       "\n",
       "    .dataframe tbody tr th {\n",
       "        vertical-align: top;\n",
       "    }\n",
       "\n",
       "    .dataframe thead th {\n",
       "        text-align: right;\n",
       "    }\n",
       "</style>\n",
       "<table border=\"1\" class=\"dataframe\">\n",
       "  <thead>\n",
       "    <tr style=\"text-align: right;\">\n",
       "      <th></th>\n",
       "      <th>DATE</th>\n",
       "      <th>Electricty_Consumption_in_TW</th>\n",
       "      <th>Month</th>\n",
       "      <th>Year</th>\n",
       "      <th>Day</th>\n",
       "    </tr>\n",
       "    <tr>\n",
       "      <th>DATE</th>\n",
       "      <th></th>\n",
       "      <th></th>\n",
       "      <th></th>\n",
       "      <th></th>\n",
       "      <th></th>\n",
       "    </tr>\n",
       "  </thead>\n",
       "  <tbody>\n",
       "    <tr>\n",
       "      <th>1973-01-01</th>\n",
       "      <td>1973-01-01</td>\n",
       "      <td>35.9728</td>\n",
       "      <td>1</td>\n",
       "      <td>1973</td>\n",
       "      <td>1</td>\n",
       "    </tr>\n",
       "    <tr>\n",
       "      <th>1973-01-02</th>\n",
       "      <td>1973-01-02</td>\n",
       "      <td>36.1334</td>\n",
       "      <td>1</td>\n",
       "      <td>1973</td>\n",
       "      <td>2</td>\n",
       "    </tr>\n",
       "    <tr>\n",
       "      <th>1973-01-03</th>\n",
       "      <td>1973-01-03</td>\n",
       "      <td>35.0625</td>\n",
       "      <td>1</td>\n",
       "      <td>1973</td>\n",
       "      <td>3</td>\n",
       "    </tr>\n",
       "    <tr>\n",
       "      <th>1973-01-04</th>\n",
       "      <td>1973-01-04</td>\n",
       "      <td>33.8416</td>\n",
       "      <td>1</td>\n",
       "      <td>1973</td>\n",
       "      <td>4</td>\n",
       "    </tr>\n",
       "    <tr>\n",
       "      <th>1973-01-05</th>\n",
       "      <td>1973-01-05</td>\n",
       "      <td>33.5107</td>\n",
       "      <td>1</td>\n",
       "      <td>1973</td>\n",
       "      <td>5</td>\n",
       "    </tr>\n",
       "  </tbody>\n",
       "</table>\n",
       "</div>"
      ],
      "text/plain": [
       "                 DATE  Electricty_Consumption_in_TW  Month  Year  Day\n",
       "DATE                                                                 \n",
       "1973-01-01 1973-01-01                       35.9728      1  1973    1\n",
       "1973-01-02 1973-01-02                       36.1334      1  1973    2\n",
       "1973-01-03 1973-01-03                       35.0625      1  1973    3\n",
       "1973-01-04 1973-01-04                       33.8416      1  1973    4\n",
       "1973-01-05 1973-01-05                       33.5107      1  1973    5"
      ]
     },
     "execution_count": 12,
     "metadata": {},
     "output_type": "execute_result"
    }
   ],
   "source": [
    "Electricity_data.head()"
   ]
  },
  {
   "cell_type": "code",
   "execution_count": 13,
   "id": "f1bc7468",
   "metadata": {},
   "outputs": [
    {
     "data": {
      "text/html": [
       "<div>\n",
       "<style scoped>\n",
       "    .dataframe tbody tr th:only-of-type {\n",
       "        vertical-align: middle;\n",
       "    }\n",
       "\n",
       "    .dataframe tbody tr th {\n",
       "        vertical-align: top;\n",
       "    }\n",
       "\n",
       "    .dataframe thead th {\n",
       "        text-align: right;\n",
       "    }\n",
       "</style>\n",
       "<table border=\"1\" class=\"dataframe\">\n",
       "  <thead>\n",
       "    <tr style=\"text-align: right;\">\n",
       "      <th>Month</th>\n",
       "      <th>1</th>\n",
       "    </tr>\n",
       "    <tr>\n",
       "      <th>Year</th>\n",
       "      <th></th>\n",
       "    </tr>\n",
       "  </thead>\n",
       "  <tbody>\n",
       "    <tr>\n",
       "      <th>1973</th>\n",
       "      <td>37.024525</td>\n",
       "    </tr>\n",
       "    <tr>\n",
       "      <th>1974</th>\n",
       "      <td>40.501192</td>\n",
       "    </tr>\n",
       "    <tr>\n",
       "      <th>1975</th>\n",
       "      <td>40.803575</td>\n",
       "    </tr>\n",
       "    <tr>\n",
       "      <th>1976</th>\n",
       "      <td>42.811867</td>\n",
       "    </tr>\n",
       "    <tr>\n",
       "      <th>1977</th>\n",
       "      <td>45.649208</td>\n",
       "    </tr>\n",
       "    <tr>\n",
       "      <th>1978</th>\n",
       "      <td>48.819858</td>\n",
       "    </tr>\n",
       "    <tr>\n",
       "      <th>1979</th>\n",
       "      <td>50.328200</td>\n",
       "    </tr>\n",
       "    <tr>\n",
       "      <th>1980</th>\n",
       "      <td>51.335092</td>\n",
       "    </tr>\n",
       "    <tr>\n",
       "      <th>1981</th>\n",
       "      <td>52.163267</td>\n",
       "    </tr>\n",
       "    <tr>\n",
       "      <th>1982</th>\n",
       "      <td>53.497967</td>\n",
       "    </tr>\n",
       "    <tr>\n",
       "      <th>1983</th>\n",
       "      <td>52.165483</td>\n",
       "    </tr>\n",
       "    <tr>\n",
       "      <th>1984</th>\n",
       "      <td>53.659667</td>\n",
       "    </tr>\n",
       "    <tr>\n",
       "      <th>1985</th>\n",
       "      <td>56.801958</td>\n",
       "    </tr>\n",
       "    <tr>\n",
       "      <th>1986</th>\n",
       "      <td>59.127225</td>\n",
       "    </tr>\n",
       "    <tr>\n",
       "      <th>1987</th>\n",
       "      <td>60.381742</td>\n",
       "    </tr>\n",
       "    <tr>\n",
       "      <th>1988</th>\n",
       "      <td>63.322433</td>\n",
       "    </tr>\n",
       "    <tr>\n",
       "      <th>1989</th>\n",
       "      <td>67.152375</td>\n",
       "    </tr>\n",
       "    <tr>\n",
       "      <th>1990</th>\n",
       "      <td>69.193317</td>\n",
       "    </tr>\n",
       "    <tr>\n",
       "      <th>1991</th>\n",
       "      <td>71.238042</td>\n",
       "    </tr>\n",
       "    <tr>\n",
       "      <th>1992</th>\n",
       "      <td>72.967175</td>\n",
       "    </tr>\n",
       "    <tr>\n",
       "      <th>1993</th>\n",
       "      <td>72.650600</td>\n",
       "    </tr>\n",
       "    <tr>\n",
       "      <th>1994</th>\n",
       "      <td>75.068850</td>\n",
       "    </tr>\n",
       "    <tr>\n",
       "      <th>1995</th>\n",
       "      <td>76.773375</td>\n",
       "    </tr>\n",
       "    <tr>\n",
       "      <th>1996</th>\n",
       "      <td>79.633133</td>\n",
       "    </tr>\n",
       "    <tr>\n",
       "      <th>1997</th>\n",
       "      <td>81.609533</td>\n",
       "    </tr>\n",
       "    <tr>\n",
       "      <th>1998</th>\n",
       "      <td>81.710767</td>\n",
       "    </tr>\n",
       "    <tr>\n",
       "      <th>1999</th>\n",
       "      <td>85.210400</td>\n",
       "    </tr>\n",
       "    <tr>\n",
       "      <th>2000</th>\n",
       "      <td>87.845358</td>\n",
       "    </tr>\n",
       "    <tr>\n",
       "      <th>2001</th>\n",
       "      <td>90.351850</td>\n",
       "    </tr>\n",
       "    <tr>\n",
       "      <th>2002</th>\n",
       "      <td>90.161742</td>\n",
       "    </tr>\n",
       "    <tr>\n",
       "      <th>2003</th>\n",
       "      <td>92.778633</td>\n",
       "    </tr>\n",
       "    <tr>\n",
       "      <th>2004</th>\n",
       "      <td>94.519875</td>\n",
       "    </tr>\n",
       "    <tr>\n",
       "      <th>2005</th>\n",
       "      <td>96.428833</td>\n",
       "    </tr>\n",
       "    <tr>\n",
       "      <th>2006</th>\n",
       "      <td>99.153450</td>\n",
       "    </tr>\n",
       "    <tr>\n",
       "      <th>2007</th>\n",
       "      <td>99.548108</td>\n",
       "    </tr>\n",
       "    <tr>\n",
       "      <th>2008</th>\n",
       "      <td>102.090158</td>\n",
       "    </tr>\n",
       "    <tr>\n",
       "      <th>2009</th>\n",
       "      <td>101.396150</td>\n",
       "    </tr>\n",
       "    <tr>\n",
       "      <th>2010</th>\n",
       "      <td>98.361267</td>\n",
       "    </tr>\n",
       "    <tr>\n",
       "      <th>2011</th>\n",
       "      <td>102.319792</td>\n",
       "    </tr>\n",
       "    <tr>\n",
       "      <th>2012</th>\n",
       "      <td>101.858108</td>\n",
       "    </tr>\n",
       "    <tr>\n",
       "      <th>2013</th>\n",
       "      <td>100.000000</td>\n",
       "    </tr>\n",
       "    <tr>\n",
       "      <th>2014</th>\n",
       "      <td>100.999667</td>\n",
       "    </tr>\n",
       "    <tr>\n",
       "      <th>2015</th>\n",
       "      <td>102.023608</td>\n",
       "    </tr>\n",
       "    <tr>\n",
       "      <th>2016</th>\n",
       "      <td>101.880742</td>\n",
       "    </tr>\n",
       "    <tr>\n",
       "      <th>2017</th>\n",
       "      <td>101.831392</td>\n",
       "    </tr>\n",
       "    <tr>\n",
       "      <th>2018</th>\n",
       "      <td>100.202342</td>\n",
       "    </tr>\n",
       "    <tr>\n",
       "      <th>2019</th>\n",
       "      <td>106.027433</td>\n",
       "    </tr>\n",
       "  </tbody>\n",
       "</table>\n",
       "</div>"
      ],
      "text/plain": [
       "Month           1\n",
       "Year             \n",
       "1973    37.024525\n",
       "1974    40.501192\n",
       "1975    40.803575\n",
       "1976    42.811867\n",
       "1977    45.649208\n",
       "1978    48.819858\n",
       "1979    50.328200\n",
       "1980    51.335092\n",
       "1981    52.163267\n",
       "1982    53.497967\n",
       "1983    52.165483\n",
       "1984    53.659667\n",
       "1985    56.801958\n",
       "1986    59.127225\n",
       "1987    60.381742\n",
       "1988    63.322433\n",
       "1989    67.152375\n",
       "1990    69.193317\n",
       "1991    71.238042\n",
       "1992    72.967175\n",
       "1993    72.650600\n",
       "1994    75.068850\n",
       "1995    76.773375\n",
       "1996    79.633133\n",
       "1997    81.609533\n",
       "1998    81.710767\n",
       "1999    85.210400\n",
       "2000    87.845358\n",
       "2001    90.351850\n",
       "2002    90.161742\n",
       "2003    92.778633\n",
       "2004    94.519875\n",
       "2005    96.428833\n",
       "2006    99.153450\n",
       "2007    99.548108\n",
       "2008   102.090158\n",
       "2009   101.396150\n",
       "2010    98.361267\n",
       "2011   102.319792\n",
       "2012   101.858108\n",
       "2013   100.000000\n",
       "2014   100.999667\n",
       "2015   102.023608\n",
       "2016   101.880742\n",
       "2017   101.831392\n",
       "2018   100.202342\n",
       "2019   106.027433"
      ]
     },
     "execution_count": 13,
     "metadata": {},
     "output_type": "execute_result"
    }
   ],
   "source": [
    "pd.pivot_table(data = Electricity_data ,values=  'Electricty_Consumption_in_TW',index = 'Year', columns = 'Month')\n",
    "# Here we are trying to see is there any missing value present or not ."
   ]
  },
  {
   "cell_type": "code",
   "execution_count": 14,
   "id": "1296b3ef",
   "metadata": {},
   "outputs": [
    {
     "data": {
      "text/plain": [
       "<AxesSubplot:xlabel='DATE'>"
      ]
     },
     "execution_count": 14,
     "metadata": {},
     "output_type": "execute_result"
    },
    {
     "data": {
      "image/png": "[encoded data removed]",
      "text/plain": [
       "<Figure size 640x480 with 1 Axes>"
      ]
     },
     "metadata": {},
     "output_type": "display_data"
    }
   ],
   "source": [
    "Electricity_data.Electricty_Consumption_in_TW.plot()\n",
    "# Here we are trying to see how the value of Electricty_Consumption_in_TW is changing with time & we see that trend is increasing ."
   ]
  },
  {
   "cell_type": "code",
   "execution_count": 15,
   "id": "f3b41f28",
   "metadata": {},
   "outputs": [
    {
     "data": {
      "text/plain": [
       "<AxesSubplot:xlabel='Year'>"
      ]
     },
     "execution_count": 15,
     "metadata": {},
     "output_type": "execute_result"
    },
    {
     "data": {
      "image/png": "[encoded data removed]",
      "text/plain": [
       "<Figure size 640x480 with 1 Axes>"
      ]
     },
     "metadata": {},
     "output_type": "display_data"
    }
   ],
   "source": [
    "#trends, seasonality, patterns ?\n",
    "pd.pivot_table(data = Electricity_data ,values=  'Electricty_Consumption_in_TW',index = 'Month', columns = 'Year').T.plot()"
   ]
  },
  {
   "cell_type": "code",
   "execution_count": 16,
   "id": "9dd6b4a2",
   "metadata": {},
   "outputs": [
    {
     "data": {
      "text/plain": [
       "<AxesSubplot:xlabel='Month'>"
      ]
     },
     "execution_count": 16,
     "metadata": {},
     "output_type": "execute_result"
    },
    {
     "data": {
      "image/png": "[encoded data removed]",
      "text/plain": [
       "<Figure size 640x480 with 1 Axes>"
      ]
     },
     "metadata": {},
     "output_type": "display_data"
    }
   ],
   "source": [
    "pd.pivot_table(data = Electricity_data ,values=  'Electricty_Consumption_in_TW',index = 'Year', columns = 'Month').T.plot()\n",
    "# After seen this plot we can say that their seasonality is present ."
   ]
  },
  {
   "cell_type": "code",
   "execution_count": 17,
   "id": "dc587c96",
   "metadata": {},
   "outputs": [
    {
     "data": {
      "text/plain": [
       "<AxesSubplot:>"
      ]
     },
     "execution_count": 17,
     "metadata": {},
     "output_type": "execute_result"
    },
    {
     "data": {
      "image/png": "[encoded data removed]",
      "text/plain": [
       "<Figure size 640x480 with 1 Axes>"
      ]
     },
     "metadata": {},
     "output_type": "display_data"
    }
   ],
   "source": [
    "pd.pivot_table(data = Electricity_data ,values=  'Electricty_Consumption_in_TW',index = 'Year', columns = 'Month').boxplot()\n",
    "# Here I can able to see variance or range in Electricty_Consumption_in_TW in month with respect to all years ."
   ]
  },
  {
   "cell_type": "code",
   "execution_count": 18,
   "id": "fe90f8bc",
   "metadata": {},
   "outputs": [],
   "source": [
    "ts = Electricity_data.Electricty_Consumption_in_TW"
   ]
  },
  {
   "cell_type": "code",
   "execution_count": 19,
   "id": "b2854ee5",
   "metadata": {},
   "outputs": [
    {
     "data": {
      "text/plain": [
       "DATE\n",
       "1973-01-01     35.9728\n",
       "1973-01-02     36.1334\n",
       "1973-01-03     35.0625\n",
       "1973-01-04     33.8416\n",
       "1973-01-05     33.5107\n",
       "                ...   \n",
       "2019-01-05     97.5860\n",
       "2019-01-06    110.8580\n",
       "2019-01-07    122.1014\n",
       "2019-01-08    121.7765\n",
       "2019-01-09    109.7190\n",
       "Name: Electricty_Consumption_in_TW, Length: 561, dtype: float64"
      ]
     },
     "execution_count": 19,
     "metadata": {},
     "output_type": "execute_result"
    }
   ],
   "source": [
    "ts"
   ]
  },
  {
   "cell_type": "code",
   "execution_count": 20,
   "id": "671583fc",
   "metadata": {},
   "outputs": [
    {
     "data": {
      "text/plain": [
       "DATE\n",
       "1973-01-01           NaN\n",
       "1973-01-02           NaN\n",
       "1973-01-03     35.722900\n",
       "1973-01-04     35.012500\n",
       "1973-01-05     34.138267\n",
       "                 ...    \n",
       "2019-01-05     93.537967\n",
       "2019-01-06     99.210433\n",
       "2019-01-07    110.181800\n",
       "2019-01-08    118.245300\n",
       "2019-01-09    117.865633\n",
       "Name: Electricty_Consumption_in_TW, Length: 561, dtype: float64"
      ]
     },
     "execution_count": 20,
     "metadata": {},
     "output_type": "execute_result"
    }
   ],
   "source": [
    "ts.rolling(3).mean()\n",
    "#  A way to calculate Rolling Average ."
   ]
  },
  {
   "cell_type": "code",
   "execution_count": 28,
   "id": "6b8956f5",
   "metadata": {},
   "outputs": [
    {
     "name": "stdout",
     "output_type": "stream",
     "text": [
      "Collecting stldecompose\n",
      "  Downloading stldecompose-0.0.5-py2.py3-none-any.whl (6.9 kB)\n",
      "Requirement already satisfied: pandas in c:\\users\\hp\\anaconda3\\lib\\site-packages (from stldecompose) (1.5.3)\n",
      "Requirement already satisfied: numpy in c:\\users\\hp\\anaconda3\\lib\\site-packages (from stldecompose) (1.23.5)\n",
      "Requirement already satisfied: scipy in c:\\users\\hp\\anaconda3\\lib\\site-packages (from stldecompose) (1.9.1)\n",
      "Requirement already satisfied: statsmodels in c:\\users\\hp\\anaconda3\\lib\\site-packages (from stldecompose) (0.13.2)\n",
      "Requirement already satisfied: matplotlib in c:\\users\\hp\\anaconda3\\lib\\site-packages (from stldecompose) (3.5.2)\n",
      "Requirement already satisfied: cycler>=0.10 in c:\\users\\hp\\anaconda3\\lib\\site-packages (from matplotlib->stldecompose) (0.11.0)\n",
      "Requirement already satisfied: fonttools>=4.22.0 in c:\\users\\hp\\anaconda3\\lib\\site-packages (from matplotlib->stldecompose) (4.25.0)\n",
      "Requirement already satisfied: kiwisolver>=1.0.1 in c:\\users\\hp\\anaconda3\\lib\\site-packages (from matplotlib->stldecompose) (1.4.2)\n",
      "Requirement already satisfied: packaging>=20.0 in c:\\users\\hp\\anaconda3\\lib\\site-packages (from matplotlib->stldecompose) (21.3)\n",
      "Requirement already satisfied: pillow>=6.2.0 in c:\\users\\hp\\anaconda3\\lib\\site-packages (from matplotlib->stldecompose) (9.2.0)\n",
      "Requirement already satisfied: pyparsing>=2.2.1 in c:\\users\\hp\\anaconda3\\lib\\site-packages (from matplotlib->stldecompose) (3.0.9)\n",
      "Requirement already satisfied: python-dateutil>=2.7 in c:\\users\\hp\\anaconda3\\lib\\site-packages (from matplotlib->stldecompose) (2.8.2)\n",
      "Requirement already satisfied: pytz>=2020.1 in c:\\users\\hp\\anaconda3\\lib\\site-packages (from pandas->stldecompose) (2022.7.1)\n",
      "Requirement already satisfied: patsy>=0.5.2 in c:\\users\\hp\\anaconda3\\lib\\site-packages (from statsmodels->stldecompose) (0.5.2)\n",
      "Requirement already satisfied: six in c:\\users\\hp\\anaconda3\\lib\\site-packages (from patsy>=0.5.2->statsmodels->stldecompose) (1.16.0)\n",
      "Installing collected packages: stldecompose\n",
      "Successfully installed stldecompose-0.0.5\n",
      "Note: you may need to restart the kernel to use updated packages.\n"
     ]
    }
   ],
   "source": [
    "pip install stldecompose"
   ]
  },
  {
   "cell_type": "code",
   "execution_count": 32,
   "id": "81a00862",
   "metadata": {},
   "outputs": [
    {
     "name": "stdout",
     "output_type": "stream",
     "text": [
      "Note: you may need to restart the kernel to use updated packages.\n"
     ]
    },
    {
     "name": "stderr",
     "output_type": "stream",
     "text": [
      "ERROR: Could not find a version that satisfies the requirement upgrade (from versions: none)\n",
      "ERROR: No matching distribution found for upgrade\n"
     ]
    }
   ],
   "source": [
    "pip install upgrade statsmodels"
   ]
  },
  {
   "cell_type": "code",
   "execution_count": 33,
   "id": "7c09e22c",
   "metadata": {},
   "outputs": [
    {
     "ename": "ImportError",
     "evalue": "cannot import name '_maybe_get_pandas_wrapper_freq' from 'statsmodels.tsa.filters._utils' (C:\\Users\\hp\\anaconda3\\lib\\site-packages\\statsmodels\\tsa\\filters\\_utils.py)",
     "output_type": "error",
     "traceback": [
      "\u001b[1;31m---------------------------------------------------------------------------\u001b[0m",
      "\u001b[1;31mImportError\u001b[0m                               Traceback (most recent call last)",
      "\u001b[1;32m~\\AppData\\Local\\Temp\\ipykernel_11928\\4077253615.py\u001b[0m in \u001b[0;36m<module>\u001b[1;34m\u001b[0m\n\u001b[0;32m      2\u001b[0m \u001b[1;32mfrom\u001b[0m \u001b[0mstatsmodels\u001b[0m\u001b[1;33m.\u001b[0m\u001b[0mtsa\u001b[0m\u001b[1;33m.\u001b[0m\u001b[0mseasonal\u001b[0m \u001b[1;32mimport\u001b[0m \u001b[0mseasonal_decompose\u001b[0m  \u001b[1;31m# Decomposition\u001b[0m\u001b[1;33m\u001b[0m\u001b[1;33m\u001b[0m\u001b[0m\n\u001b[0;32m      3\u001b[0m \u001b[1;32mfrom\u001b[0m \u001b[0mstatsmodels\u001b[0m\u001b[1;33m.\u001b[0m\u001b[0mtsa\u001b[0m\u001b[1;33m.\u001b[0m\u001b[0mstattools\u001b[0m \u001b[1;32mimport\u001b[0m \u001b[0madfuller\u001b[0m\u001b[1;33m\u001b[0m\u001b[1;33m\u001b[0m\u001b[0m\n\u001b[1;32m----> 4\u001b[1;33m \u001b[1;32mfrom\u001b[0m \u001b[0mstldecompose\u001b[0m \u001b[1;32mimport\u001b[0m \u001b[0mdecompose\u001b[0m\u001b[1;33m,\u001b[0m \u001b[0mforecast\u001b[0m             \u001b[1;31m# Decomposition & forecasting\u001b[0m\u001b[1;33m\u001b[0m\u001b[1;33m\u001b[0m\u001b[0m\n\u001b[0m\u001b[0;32m      5\u001b[0m \u001b[1;32mfrom\u001b[0m \u001b[0mstatsmodels\u001b[0m\u001b[1;33m.\u001b[0m\u001b[0mtsa\u001b[0m\u001b[1;33m.\u001b[0m\u001b[0mholtwinters\u001b[0m \u001b[1;32mimport\u001b[0m \u001b[0mExponentialSmoothing\u001b[0m \u001b[1;31m#ETS Models\u001b[0m\u001b[1;33m\u001b[0m\u001b[1;33m\u001b[0m\u001b[0m\n\u001b[0;32m      6\u001b[0m \u001b[1;32mfrom\u001b[0m \u001b[0mfbprophet\u001b[0m \u001b[1;32mimport\u001b[0m \u001b[0mProphet\u001b[0m \u001b[1;31m#you need to install fbprophet using pip install\u001b[0m\u001b[1;33m\u001b[0m\u001b[1;33m\u001b[0m\u001b[0m\n",
      "\u001b[1;32m~\\anaconda3\\lib\\site-packages\\stldecompose\\__init__.py\u001b[0m in \u001b[0;36m<module>\u001b[1;34m\u001b[0m\n\u001b[1;32m----> 1\u001b[1;33m \u001b[1;32mfrom\u001b[0m \u001b[1;33m.\u001b[0m\u001b[0mstl\u001b[0m \u001b[1;32mimport\u001b[0m \u001b[0mdecompose\u001b[0m\u001b[1;33m,\u001b[0m \u001b[0mforecast\u001b[0m\u001b[1;33m\u001b[0m\u001b[1;33m\u001b[0m\u001b[0m\n\u001b[0m",
      "\u001b[1;32m~\\anaconda3\\lib\\site-packages\\stldecompose\\stl.py\u001b[0m in \u001b[0;36m<module>\u001b[1;34m\u001b[0m\n\u001b[0;32m      3\u001b[0m \u001b[1;32mfrom\u001b[0m \u001b[0mpandas\u001b[0m\u001b[1;33m.\u001b[0m\u001b[0mcore\u001b[0m\u001b[1;33m.\u001b[0m\u001b[0mnanops\u001b[0m \u001b[1;32mimport\u001b[0m \u001b[0mnanmean\u001b[0m \u001b[1;32mas\u001b[0m \u001b[0mpd_nanmean\u001b[0m\u001b[1;33m\u001b[0m\u001b[1;33m\u001b[0m\u001b[0m\n\u001b[0;32m      4\u001b[0m \u001b[1;32mfrom\u001b[0m \u001b[0mstatsmodels\u001b[0m\u001b[1;33m.\u001b[0m\u001b[0mtsa\u001b[0m\u001b[1;33m.\u001b[0m\u001b[0mseasonal\u001b[0m \u001b[1;32mimport\u001b[0m \u001b[0mDecomposeResult\u001b[0m\u001b[1;33m\u001b[0m\u001b[1;33m\u001b[0m\u001b[0m\n\u001b[1;32m----> 5\u001b[1;33m \u001b[1;32mfrom\u001b[0m \u001b[0mstatsmodels\u001b[0m\u001b[1;33m.\u001b[0m\u001b[0mtsa\u001b[0m\u001b[1;33m.\u001b[0m\u001b[0mfilters\u001b[0m\u001b[1;33m.\u001b[0m\u001b[0m_utils\u001b[0m \u001b[1;32mimport\u001b[0m \u001b[0m_maybe_get_pandas_wrapper_freq\u001b[0m\u001b[1;33m\u001b[0m\u001b[1;33m\u001b[0m\u001b[0m\n\u001b[0m\u001b[0;32m      6\u001b[0m \u001b[1;32mimport\u001b[0m \u001b[0mstatsmodels\u001b[0m\u001b[1;33m.\u001b[0m\u001b[0mapi\u001b[0m \u001b[1;32mas\u001b[0m \u001b[0msm\u001b[0m\u001b[1;33m\u001b[0m\u001b[1;33m\u001b[0m\u001b[0m\n\u001b[0;32m      7\u001b[0m \u001b[1;33m\u001b[0m\u001b[0m\n",
      "\u001b[1;31mImportError\u001b[0m: cannot import name '_maybe_get_pandas_wrapper_freq' from 'statsmodels.tsa.filters._utils' (C:\\Users\\hp\\anaconda3\\lib\\site-packages\\statsmodels\\tsa\\filters\\_utils.py)"
     ]
    }
   ],
   "source": [
    "import statsmodels.tsa.api as smt\n",
    "from statsmodels.tsa.seasonal import seasonal_decompose  # Decomposition\n",
    "from statsmodels.tsa.stattools import adfuller\n",
    "from stldecompose import decompose, forecast             # Decomposition & forecasting\n",
    "from statsmodels.tsa.holtwinters import ExponentialSmoothing #ETS Models\n",
    "from fbprophet import Prophet #you need to install fbprophet using pip install"
   ]
  },
  {
   "cell_type": "code",
   "execution_count": 22,
   "id": "8db9c1ee",
   "metadata": {},
   "outputs": [
    {
     "ename": "ValueError",
     "evalue": "You must specify a period or x must be a pandas object with a PeriodIndex or a DatetimeIndex with a freq not set to None",
     "output_type": "error",
     "traceback": [
      "\u001b[1;31m---------------------------------------------------------------------------\u001b[0m",
      "\u001b[1;31mValueError\u001b[0m                                Traceback (most recent call last)",
      "\u001b[1;32m~\\AppData\\Local\\Temp\\ipykernel_11928\\3654155824.py\u001b[0m in \u001b[0;36m<module>\u001b[1;34m\u001b[0m\n\u001b[1;32m----> 1\u001b[1;33m \u001b[0mdecompose\u001b[0m \u001b[1;33m=\u001b[0m \u001b[0mseasonal_decompose\u001b[0m\u001b[1;33m(\u001b[0m\u001b[0mts\u001b[0m\u001b[1;33m,\u001b[0m \u001b[0mtwo_sided\u001b[0m\u001b[1;33m=\u001b[0m\u001b[1;32mFalse\u001b[0m\u001b[1;33m,\u001b[0m \u001b[0mextrapolate_trend\u001b[0m\u001b[1;33m=\u001b[0m\u001b[1;36m4\u001b[0m \u001b[1;33m,\u001b[0m\u001b[0mmodel\u001b[0m\u001b[1;33m=\u001b[0m\u001b[1;34m'multiplicative'\u001b[0m\u001b[1;33m)\u001b[0m\u001b[1;33m\u001b[0m\u001b[1;33m\u001b[0m\u001b[0m\n\u001b[0m\u001b[0;32m      2\u001b[0m \u001b[1;33m\u001b[0m\u001b[0m\n\u001b[0;32m      3\u001b[0m \u001b[1;31m# two_sided=False means when we are taking Moving Avg.so some value in top is empty .or if we take Centred Moving Avg. then some\u001b[0m\u001b[1;33m\u001b[0m\u001b[1;33m\u001b[0m\u001b[0m\n\u001b[0;32m      4\u001b[0m \u001b[1;31m# value at bottom is empty .\u001b[0m\u001b[1;33m\u001b[0m\u001b[1;33m\u001b[0m\u001b[0m\n\u001b[0;32m      5\u001b[0m \u001b[1;31m# But they will calc. this value bcz SI , Trend is calc. for this value ..\u001b[0m\u001b[1;33m\u001b[0m\u001b[1;33m\u001b[0m\u001b[0m\n",
      "\u001b[1;32m~\\anaconda3\\lib\\site-packages\\statsmodels\\tsa\\seasonal.py\u001b[0m in \u001b[0;36mseasonal_decompose\u001b[1;34m(x, model, filt, period, two_sided, extrapolate_trend)\u001b[0m\n\u001b[0;32m    157\u001b[0m             \u001b[0mperiod\u001b[0m \u001b[1;33m=\u001b[0m \u001b[0mpfreq\u001b[0m\u001b[1;33m\u001b[0m\u001b[1;33m\u001b[0m\u001b[0m\n\u001b[0;32m    158\u001b[0m         \u001b[1;32melse\u001b[0m\u001b[1;33m:\u001b[0m\u001b[1;33m\u001b[0m\u001b[1;33m\u001b[0m\u001b[0m\n\u001b[1;32m--> 159\u001b[1;33m             raise ValueError(\n\u001b[0m\u001b[0;32m    160\u001b[0m                 \u001b[1;34m\"You must specify a period or x must be a pandas object with \"\u001b[0m\u001b[1;33m\u001b[0m\u001b[1;33m\u001b[0m\u001b[0m\n\u001b[0;32m    161\u001b[0m                 \u001b[1;34m\"a PeriodIndex or a DatetimeIndex with a freq not set to None\"\u001b[0m\u001b[1;33m\u001b[0m\u001b[1;33m\u001b[0m\u001b[0m\n",
      "\u001b[1;31mValueError\u001b[0m: You must specify a period or x must be a pandas object with a PeriodIndex or a DatetimeIndex with a freq not set to None"
     ]
    }
   ],
   "source": [
    "decompose = seasonal_decompose(ts, two_sided=False, extrapolate_trend=4 ,model='multiplicative')\n",
    "\n",
    "# two_sided=False means when we are taking Moving Avg.so some value in top is empty .or if we take Centred Moving Avg. then some \n",
    "# value at bottom is empty .\n",
    "# But they will calc. this value bcz SI , Trend is calc. for this value ..\n",
    "# It's optional u can leave it also .."
   ]
  },
  {
   "cell_type": "code",
   "execution_count": null,
   "id": "3b6bde80",
   "metadata": {},
   "outputs": [],
   "source": [
    "decompose.plot()[0]\n",
    "\n",
    "# Original , Trend , Seasonality , Irregularity ."
   ]
  },
  {
   "cell_type": "code",
   "execution_count": null,
   "id": "5c4a1eac",
   "metadata": {},
   "outputs": [],
   "source": [
    "fig = decompose.plot()\n",
    "fig.set_figwidth(12)\n",
    "fig.set_figheight(8)\n",
    "fig.suptitle('Decomposition of multiplicative time series')\n",
    "plt.show()\n",
    "# Here we eaily see the trend & seasonality present ."
   ]
  },
  {
   "cell_type": "code",
   "execution_count": 24,
   "id": "ed963e25",
   "metadata": {},
   "outputs": [
    {
     "ename": "NameError",
     "evalue": "name 'decompose' is not defined",
     "output_type": "error",
     "traceback": [
      "\u001b[1;31m---------------------------------------------------------------------------\u001b[0m",
      "\u001b[1;31mNameError\u001b[0m                                 Traceback (most recent call last)",
      "\u001b[1;32m~\\AppData\\Local\\Temp\\ipykernel_11928\\957876691.py\u001b[0m in \u001b[0;36m<module>\u001b[1;34m\u001b[0m\n\u001b[1;32m----> 1\u001b[1;33m \u001b[0mdecompose\u001b[0m\u001b[1;33m.\u001b[0m\u001b[0mtrend\u001b[0m\u001b[1;33m\u001b[0m\u001b[1;33m\u001b[0m\u001b[0m\n\u001b[0m",
      "\u001b[1;31mNameError\u001b[0m: name 'decompose' is not defined"
     ]
    }
   ],
   "source": [
    "decompose.trend"
   ]
  },
  {
   "cell_type": "code",
   "execution_count": 23,
   "id": "448b9d51",
   "metadata": {},
   "outputs": [
    {
     "ename": "NameError",
     "evalue": "name 'decompose' is not defined",
     "output_type": "error",
     "traceback": [
      "\u001b[1;31m---------------------------------------------------------------------------\u001b[0m",
      "\u001b[1;31mNameError\u001b[0m                                 Traceback (most recent call last)",
      "\u001b[1;32m~\\AppData\\Local\\Temp\\ipykernel_11928\\1667203527.py\u001b[0m in \u001b[0;36m<module>\u001b[1;34m\u001b[0m\n\u001b[1;32m----> 1\u001b[1;33m \u001b[0mdecompose_data\u001b[0m \u001b[1;33m=\u001b[0m \u001b[0mpd\u001b[0m\u001b[1;33m.\u001b[0m\u001b[0mconcat\u001b[0m\u001b[1;33m(\u001b[0m\u001b[1;33m[\u001b[0m\u001b[0mdecompose\u001b[0m\u001b[1;33m.\u001b[0m\u001b[0mtrend\u001b[0m\u001b[1;33m,\u001b[0m \u001b[0mdecompose\u001b[0m\u001b[1;33m.\u001b[0m\u001b[0mseasonal\u001b[0m\u001b[1;33m,\u001b[0m \u001b[0mdecompose\u001b[0m\u001b[1;33m.\u001b[0m\u001b[0mresid\u001b[0m\u001b[1;33m,\u001b[0m \u001b[0mdecompose\u001b[0m\u001b[1;33m.\u001b[0m\u001b[0mobserved\u001b[0m\u001b[1;33m]\u001b[0m\u001b[1;33m,\u001b[0m\u001b[0maxis\u001b[0m\u001b[1;33m=\u001b[0m\u001b[1;36m1\u001b[0m\u001b[1;33m)\u001b[0m\u001b[1;33m\u001b[0m\u001b[1;33m\u001b[0m\u001b[0m\n\u001b[0m\u001b[0;32m      2\u001b[0m \u001b[0mdecompose_data\u001b[0m\u001b[1;33m.\u001b[0m\u001b[0mcolumns\u001b[0m \u001b[1;33m=\u001b[0m \u001b[1;33m[\u001b[0m\u001b[1;34m'Trend'\u001b[0m\u001b[1;33m,\u001b[0m \u001b[1;34m'SI'\u001b[0m\u001b[1;33m,\u001b[0m \u001b[1;34m\"Irregular\"\u001b[0m\u001b[1;33m,\u001b[0m \u001b[1;34m\"Actual\"\u001b[0m\u001b[1;33m]\u001b[0m\u001b[1;33m\u001b[0m\u001b[1;33m\u001b[0m\u001b[0m\n",
      "\u001b[1;31mNameError\u001b[0m: name 'decompose' is not defined"
     ]
    }
   ],
   "source": [
    "decompose_data = pd.concat([decompose.trend, decompose.seasonal, decompose.resid, decompose.observed],axis=1)\n",
    "decompose_data.columns = ['Trend', 'SI', \"Irregular\", \"Actual\"]"
   ]
  },
  {
   "cell_type": "code",
   "execution_count": 26,
   "id": "f3f843ba",
   "metadata": {},
   "outputs": [
    {
     "data": {
      "text/html": [
       "<div>\n",
       "<style scoped>\n",
       "    .dataframe tbody tr th:only-of-type {\n",
       "        vertical-align: middle;\n",
       "    }\n",
       "\n",
       "    .dataframe tbody tr th {\n",
       "        vertical-align: top;\n",
       "    }\n",
       "\n",
       "    .dataframe thead th {\n",
       "        text-align: right;\n",
       "    }\n",
       "</style>\n",
       "<table border=\"1\" class=\"dataframe\">\n",
       "  <thead>\n",
       "    <tr style=\"text-align: right;\">\n",
       "      <th></th>\n",
       "      <th>Trend</th>\n",
       "      <th>SI</th>\n",
       "      <th>Irregular</th>\n",
       "      <th>Actual</th>\n",
       "    </tr>\n",
       "    <tr>\n",
       "      <th>DATE</th>\n",
       "      <th></th>\n",
       "      <th></th>\n",
       "      <th></th>\n",
       "      <th></th>\n",
       "    </tr>\n",
       "  </thead>\n",
       "  <tbody>\n",
       "    <tr>\n",
       "      <th>1973-01-01</th>\n",
       "      <td>34.092018</td>\n",
       "      <td>1.054397</td>\n",
       "      <td>1.000731</td>\n",
       "      <td>35.9728</td>\n",
       "    </tr>\n",
       "    <tr>\n",
       "      <th>1973-02-01</th>\n",
       "      <td>34.357224</td>\n",
       "      <td>0.996618</td>\n",
       "      <td>1.055266</td>\n",
       "      <td>36.1334</td>\n",
       "    </tr>\n",
       "    <tr>\n",
       "      <th>1973-03-01</th>\n",
       "      <td>34.622430</td>\n",
       "      <td>0.946374</td>\n",
       "      <td>1.070096</td>\n",
       "      <td>35.0625</td>\n",
       "    </tr>\n",
       "    <tr>\n",
       "      <th>1973-04-01</th>\n",
       "      <td>34.887636</td>\n",
       "      <td>0.891631</td>\n",
       "      <td>1.087913</td>\n",
       "      <td>33.8416</td>\n",
       "    </tr>\n",
       "    <tr>\n",
       "      <th>1973-05-01</th>\n",
       "      <td>35.152842</td>\n",
       "      <td>0.919530</td>\n",
       "      <td>1.036710</td>\n",
       "      <td>33.5107</td>\n",
       "    </tr>\n",
       "    <tr>\n",
       "      <th>...</th>\n",
       "      <td>...</td>\n",
       "      <td>...</td>\n",
       "      <td>...</td>\n",
       "      <td>...</td>\n",
       "    </tr>\n",
       "    <tr>\n",
       "      <th>2019-05-01</th>\n",
       "      <td>101.805712</td>\n",
       "      <td>0.919530</td>\n",
       "      <td>1.042437</td>\n",
       "      <td>97.5860</td>\n",
       "    </tr>\n",
       "    <tr>\n",
       "      <th>2019-06-01</th>\n",
       "      <td>102.143504</td>\n",
       "      <td>1.030825</td>\n",
       "      <td>1.052862</td>\n",
       "      <td>110.8580</td>\n",
       "    </tr>\n",
       "    <tr>\n",
       "      <th>2019-07-01</th>\n",
       "      <td>102.417300</td>\n",
       "      <td>1.126577</td>\n",
       "      <td>1.058246</td>\n",
       "      <td>122.1014</td>\n",
       "    </tr>\n",
       "    <tr>\n",
       "      <th>2019-08-01</th>\n",
       "      <td>102.787287</td>\n",
       "      <td>1.136293</td>\n",
       "      <td>1.042638</td>\n",
       "      <td>121.7765</td>\n",
       "    </tr>\n",
       "    <tr>\n",
       "      <th>2019-09-01</th>\n",
       "      <td>103.303025</td>\n",
       "      <td>1.038253</td>\n",
       "      <td>1.022976</td>\n",
       "      <td>109.7190</td>\n",
       "    </tr>\n",
       "  </tbody>\n",
       "</table>\n",
       "<p>561 rows × 4 columns</p>\n",
       "</div>"
      ],
      "text/plain": [
       "                 Trend        SI  Irregular    Actual\n",
       "DATE                                                 \n",
       "1973-01-01   34.092018  1.054397   1.000731   35.9728\n",
       "1973-02-01   34.357224  0.996618   1.055266   36.1334\n",
       "1973-03-01   34.622430  0.946374   1.070096   35.0625\n",
       "1973-04-01   34.887636  0.891631   1.087913   33.8416\n",
       "1973-05-01   35.152842  0.919530   1.036710   33.5107\n",
       "...                ...       ...        ...       ...\n",
       "2019-05-01  101.805712  0.919530   1.042437   97.5860\n",
       "2019-06-01  102.143504  1.030825   1.052862  110.8580\n",
       "2019-07-01  102.417300  1.126577   1.058246  122.1014\n",
       "2019-08-01  102.787287  1.136293   1.042638  121.7765\n",
       "2019-09-01  103.303025  1.038253   1.022976  109.7190\n",
       "\n",
       "[561 rows x 4 columns]"
      ]
     },
     "execution_count": 26,
     "metadata": {},
     "output_type": "execute_result"
    }
   ],
   "source": [
    "decompose_data\n",
    "# Here we split the data and look for the contribution of each term on the  Actual value ."
   ]
  },
  {
   "cell_type": "code",
   "execution_count": 27,
   "id": "9a8ad7ff",
   "metadata": {},
   "outputs": [],
   "source": [
    "decompose_data['Decompose_Value'] = decompose_data.Trend*decompose_data.SI*decompose_data.Irregular"
   ]
  },
  {
   "cell_type": "code",
   "execution_count": 28,
   "id": "beb1629b",
   "metadata": {},
   "outputs": [
    {
     "data": {
      "text/html": [
       "<div>\n",
       "<style scoped>\n",
       "    .dataframe tbody tr th:only-of-type {\n",
       "        vertical-align: middle;\n",
       "    }\n",
       "\n",
       "    .dataframe tbody tr th {\n",
       "        vertical-align: top;\n",
       "    }\n",
       "\n",
       "    .dataframe thead th {\n",
       "        text-align: right;\n",
       "    }\n",
       "</style>\n",
       "<table border=\"1\" class=\"dataframe\">\n",
       "  <thead>\n",
       "    <tr style=\"text-align: right;\">\n",
       "      <th></th>\n",
       "      <th>Trend</th>\n",
       "      <th>SI</th>\n",
       "      <th>Irregular</th>\n",
       "      <th>Actual</th>\n",
       "      <th>Decompose_Value</th>\n",
       "    </tr>\n",
       "    <tr>\n",
       "      <th>DATE</th>\n",
       "      <th></th>\n",
       "      <th></th>\n",
       "      <th></th>\n",
       "      <th></th>\n",
       "      <th></th>\n",
       "    </tr>\n",
       "  </thead>\n",
       "  <tbody>\n",
       "    <tr>\n",
       "      <th>1973-01-01</th>\n",
       "      <td>34.092018</td>\n",
       "      <td>1.054397</td>\n",
       "      <td>1.000731</td>\n",
       "      <td>35.9728</td>\n",
       "      <td>35.9728</td>\n",
       "    </tr>\n",
       "    <tr>\n",
       "      <th>1973-02-01</th>\n",
       "      <td>34.357224</td>\n",
       "      <td>0.996618</td>\n",
       "      <td>1.055266</td>\n",
       "      <td>36.1334</td>\n",
       "      <td>36.1334</td>\n",
       "    </tr>\n",
       "    <tr>\n",
       "      <th>1973-03-01</th>\n",
       "      <td>34.622430</td>\n",
       "      <td>0.946374</td>\n",
       "      <td>1.070096</td>\n",
       "      <td>35.0625</td>\n",
       "      <td>35.0625</td>\n",
       "    </tr>\n",
       "    <tr>\n",
       "      <th>1973-04-01</th>\n",
       "      <td>34.887636</td>\n",
       "      <td>0.891631</td>\n",
       "      <td>1.087913</td>\n",
       "      <td>33.8416</td>\n",
       "      <td>33.8416</td>\n",
       "    </tr>\n",
       "    <tr>\n",
       "      <th>1973-05-01</th>\n",
       "      <td>35.152842</td>\n",
       "      <td>0.919530</td>\n",
       "      <td>1.036710</td>\n",
       "      <td>33.5107</td>\n",
       "      <td>33.5107</td>\n",
       "    </tr>\n",
       "    <tr>\n",
       "      <th>...</th>\n",
       "      <td>...</td>\n",
       "      <td>...</td>\n",
       "      <td>...</td>\n",
       "      <td>...</td>\n",
       "      <td>...</td>\n",
       "    </tr>\n",
       "    <tr>\n",
       "      <th>2019-05-01</th>\n",
       "      <td>101.805712</td>\n",
       "      <td>0.919530</td>\n",
       "      <td>1.042437</td>\n",
       "      <td>97.5860</td>\n",
       "      <td>97.5860</td>\n",
       "    </tr>\n",
       "    <tr>\n",
       "      <th>2019-06-01</th>\n",
       "      <td>102.143504</td>\n",
       "      <td>1.030825</td>\n",
       "      <td>1.052862</td>\n",
       "      <td>110.8580</td>\n",
       "      <td>110.8580</td>\n",
       "    </tr>\n",
       "    <tr>\n",
       "      <th>2019-07-01</th>\n",
       "      <td>102.417300</td>\n",
       "      <td>1.126577</td>\n",
       "      <td>1.058246</td>\n",
       "      <td>122.1014</td>\n",
       "      <td>122.1014</td>\n",
       "    </tr>\n",
       "    <tr>\n",
       "      <th>2019-08-01</th>\n",
       "      <td>102.787287</td>\n",
       "      <td>1.136293</td>\n",
       "      <td>1.042638</td>\n",
       "      <td>121.7765</td>\n",
       "      <td>121.7765</td>\n",
       "    </tr>\n",
       "    <tr>\n",
       "      <th>2019-09-01</th>\n",
       "      <td>103.303025</td>\n",
       "      <td>1.038253</td>\n",
       "      <td>1.022976</td>\n",
       "      <td>109.7190</td>\n",
       "      <td>109.7190</td>\n",
       "    </tr>\n",
       "  </tbody>\n",
       "</table>\n",
       "<p>561 rows × 5 columns</p>\n",
       "</div>"
      ],
      "text/plain": [
       "                 Trend        SI  Irregular    Actual  Decompose_Value\n",
       "DATE                                                                  \n",
       "1973-01-01   34.092018  1.054397   1.000731   35.9728          35.9728\n",
       "1973-02-01   34.357224  0.996618   1.055266   36.1334          36.1334\n",
       "1973-03-01   34.622430  0.946374   1.070096   35.0625          35.0625\n",
       "1973-04-01   34.887636  0.891631   1.087913   33.8416          33.8416\n",
       "1973-05-01   35.152842  0.919530   1.036710   33.5107          33.5107\n",
       "...                ...       ...        ...       ...              ...\n",
       "2019-05-01  101.805712  0.919530   1.042437   97.5860          97.5860\n",
       "2019-06-01  102.143504  1.030825   1.052862  110.8580         110.8580\n",
       "2019-07-01  102.417300  1.126577   1.058246  122.1014         122.1014\n",
       "2019-08-01  102.787287  1.136293   1.042638  121.7765         121.7765\n",
       "2019-09-01  103.303025  1.038253   1.022976  109.7190         109.7190\n",
       "\n",
       "[561 rows x 5 columns]"
      ]
     },
     "execution_count": 28,
     "metadata": {},
     "output_type": "execute_result"
    }
   ],
   "source": [
    "decompose_data"
   ]
  },
  {
   "cell_type": "markdown",
   "id": "2e3beff8",
   "metadata": {},
   "source": [
    "#### We will be Calculating Accuracy :"
   ]
  },
  {
   "cell_type": "code",
   "execution_count": 29,
   "id": "0f154835",
   "metadata": {},
   "outputs": [
    {
     "name": "stdout",
     "output_type": "stream",
     "text": [
      "MAPE_test: 5.528337116327108e-17\n",
      "RMSE_test: 7.181019137829238e-15\n",
      "RMSPE_test: 9.403418228458677e-17\n"
     ]
    }
   ],
   "source": [
    "print(\"MAPE_test:\", np.mean(np.abs(decompose_data.Decompose_Value- decompose_data.Actual)/decompose_data.Actual ))\n",
    "\n",
    "print(\"RMSE_test:\", np.sqrt( np.square(np.subtract(decompose_data.Actual,decompose_data.Decompose_Value) ).mean() ))\n",
    "\n",
    "print(\"RMSPE_test:\", np.sqrt(np.mean(np.square(( (decompose_data.Decompose_Value - decompose_data.Actual)/decompose_data.Actual) ))) )"
   ]
  },
  {
   "cell_type": "code",
   "execution_count": null,
   "id": "54a88619",
   "metadata": {},
   "outputs": [],
   "source": []
  },
  {
   "cell_type": "code",
   "execution_count": 30,
   "id": "99068aa0",
   "metadata": {},
   "outputs": [
    {
     "data": {
      "text/plain": [
       "[<matplotlib.lines.Line2D at 0x277625f1af0>]"
      ]
     },
     "execution_count": 30,
     "metadata": {},
     "output_type": "execute_result"
    },
    {
     "data": {
      "image/png": "[encoded data removed]",
      "text/plain": [
       "<Figure size 1008x576 with 4 Axes>"
      ]
     },
     "metadata": {
      "needs_background": "light"
     },
     "output_type": "display_data"
    }
   ],
   "source": [
    "fig, axes = plt.subplots(2, 2, sharey=False, sharex=False)\n",
    "fig.set_figwidth(14)\n",
    "fig.set_figheight(8)\n",
    "axes[0][0].plot(ts.index, ts, label='Original')\n",
    "axes[0][0].plot(ts.index, ts.rolling(window=4).mean(), label='4-Months Rolling Mean')\n",
    "axes[0][1].plot(ts.index, ts, label='Original')\n",
    "axes[0][1].plot(ts.index, ts.rolling(window=6).mean(), label='4-Months Rolling Mean')\n",
    "axes[1][0].plot(ts.index, ts, label='Original')\n",
    "axes[1][0].plot(ts.index, ts.rolling(window=8).mean(), label='4-Months Rolling Mean')\n",
    "axes[1][1].plot(ts.index, ts, label='Original')\n",
    "axes[1][1].plot(ts.index, ts.rolling(window=12).mean(), label='4-Months Rolling Mean')\n",
    "\n",
    "# Here we are taking different moving average ."
   ]
  },
  {
   "cell_type": "markdown",
   "id": "93bd151a",
   "metadata": {},
   "source": [
    "####  Split the data into Train & Test :"
   ]
  },
  {
   "cell_type": "code",
   "execution_count": 31,
   "id": "20c0d6b9",
   "metadata": {},
   "outputs": [],
   "source": [
    "train = ts[:'2018-12-02']\n",
    "test = ts['2019-01-01':]"
   ]
  },
  {
   "cell_type": "code",
   "execution_count": 114,
   "id": "b31603f4",
   "metadata": {},
   "outputs": [
    {
     "data": {
      "text/plain": [
       "DATE\n",
       "2019-01-01    111.8520\n",
       "2019-02-01     97.3261\n",
       "2019-03-01     93.8406\n",
       "2019-04-01     89.1873\n",
       "2019-05-01     97.5860\n",
       "2019-06-01    110.8580\n",
       "2019-07-01    122.1014\n",
       "2019-08-01    121.7765\n",
       "2019-09-01    109.7190\n",
       "Name: Electricty_Consumption_in_TW, dtype: float64"
      ]
     },
     "execution_count": 114,
     "metadata": {},
     "output_type": "execute_result"
    }
   ],
   "source": [
    "test"
   ]
  },
  {
   "cell_type": "markdown",
   "id": "b0e18936",
   "metadata": {},
   "source": [
    "### <a> ETS Models = Econometric Time Series Models"
   ]
  },
  {
   "cell_type": "code",
   "execution_count": null,
   "id": "541d4155",
   "metadata": {},
   "outputs": [],
   "source": [
    "#### let take alpha , beta & gamma value randomly . A way how to perform ETS model ."
   ]
  },
  {
   "cell_type": "code",
   "execution_count": 90,
   "id": "84490aa6",
   "metadata": {},
   "outputs": [
    {
     "name": "stderr",
     "output_type": "stream",
     "text": [
      "C:\\Users\\ashis\\anaconda3\\lib\\site-packages\\statsmodels\\tsa\\base\\tsa_model.py:471: ValueWarning: No frequency information was provided, so inferred frequency MS will be used.\n",
      "  self._init_dates(dates, freq)\n",
      "<ipython-input-90-b9642d7e77f2>:5: FutureWarning: the 'smoothing_slope'' keyword is deprecated, use 'smoothing_trend' instead\n",
      "  ets_model = ets_model.fit(smoothing_level=alpha, smoothing_slope=beta, smoothing_seasonal=gamma)\n",
      "C:\\Users\\ashis\\anaconda3\\lib\\site-packages\\statsmodels\\tsa\\holtwinters\\model.py:83: RuntimeWarning: overflow encountered in matmul\n",
      "  return err.T @ err\n"
     ]
    }
   ],
   "source": [
    "alpha = 0.4\n",
    "beta = 0.5\n",
    "gamma = 0.1\n",
    "ets_model = ExponentialSmoothing(train,  trend='mul', seasonal='mul', seasonal_periods=12) # here we built on train data .\n",
    "ets_model = ets_model.fit(smoothing_level=alpha, smoothing_slope=beta, smoothing_seasonal=gamma)"
   ]
  },
  {
   "cell_type": "code",
   "execution_count": 92,
   "id": "1e2d59df",
   "metadata": {},
   "outputs": [
    {
     "name": "stdout",
     "output_type": "stream",
     "text": [
      "MAPE_test: 0.030027118485402085\n",
      "RMSE_test: 3.252282187307818\n",
      "RMSPE_test: 0.03113332962453582\n"
     ]
    }
   ],
   "source": [
    "ets_model.forecast(steps=9)\n",
    "\n",
    "#forward testing\n",
    "print(\"MAPE_test:\", np.mean(np.abs(ets_model.forecast(steps=9) - test)/test ))\n",
    "\n",
    "print(\"RMSE_test:\", np.sqrt( np.square(np.subtract(test,ets_model.forecast(steps=9)) ).mean() ))\n",
    "\n",
    "print(\"RMSPE_test:\", np.sqrt(np.mean(np.square(( (ets_model.forecast(steps=9) - test)/test) ))) )"
   ]
  },
  {
   "cell_type": "code",
   "execution_count": 93,
   "id": "41b5a76c",
   "metadata": {},
   "outputs": [
    {
     "data": {
      "text/plain": [
       "2019-01-01    107.875387\n",
       "2019-02-01    101.287753\n",
       "2019-03-01     97.486965\n",
       "2019-04-01     92.350555\n",
       "2019-05-01     99.007473\n",
       "2019-06-01    114.260108\n",
       "2019-07-01    125.624832\n",
       "2019-08-01    124.832582\n",
       "2019-09-01    111.963241\n",
       "2019-10-01     99.879850\n",
       "2019-11-01     98.357495\n",
       "2019-12-01    109.343598\n",
       "2020-01-01    115.267669\n",
       "2020-02-01    108.228610\n",
       "2020-03-01    104.167369\n",
       "2020-04-01     98.678982\n",
       "2020-05-01    105.792072\n",
       "2020-06-01    122.089911\n",
       "2020-07-01    134.233415\n",
       "2020-08-01    133.386876\n",
       "2020-09-01    119.635648\n",
       "2020-10-01    106.724230\n",
       "2020-11-01    105.097553\n",
       "2020-12-01    116.836492\n",
       "2021-01-01    123.166517\n",
       "2021-02-01    115.645098\n",
       "2021-03-01    111.305556\n",
       "2021-04-01    105.441070\n",
       "2021-05-01    113.041593\n",
       "2021-06-01    130.456260\n",
       "2021-07-01    143.431912\n",
       "2021-08-01    142.527362\n",
       "2021-09-01    127.833816\n",
       "2021-10-01    114.037629\n",
       "2021-11-01    112.299482\n",
       "2021-12-01    124.842844\n",
       "Freq: MS, dtype: float64"
      ]
     },
     "execution_count": 93,
     "metadata": {},
     "output_type": "execute_result"
    }
   ],
   "source": [
    "ets_model.forecast(36) # forecast for next 3 years ."
   ]
  },
  {
   "cell_type": "markdown",
   "id": "e45afeb2",
   "metadata": {},
   "source": [
    "#### As here Triple exponential works better because both Trend & Seasonality exists."
   ]
  },
  {
   "cell_type": "code",
   "execution_count": 33,
   "id": "37c5ce78",
   "metadata": {},
   "outputs": [],
   "source": [
    "from statsmodels.tsa.holtwinters import ExponentialSmoothing\n",
    "from sklearn.metrics import mean_absolute_error\n",
    "\n",
    "def auto_hwm(timeseries, val_split_date, alpha=[None], beta=[None], gamma=[None], \n",
    "              trend=None, seasonal=None, periods=None, verbose=False):\n",
    "\n",
    "    best_params = []\n",
    "    actual = timeseries[val_split_date:]\n",
    "\n",
    "    print('Evaluating Exponential Smoothing model for', len(alpha) * len(beta) * len(gamma), 'fits\\n')\n",
    "\n",
    "    for a in alpha:\n",
    "        for b in beta:\n",
    "            for g in gamma:\n",
    "\n",
    "                    if(verbose == True):\n",
    "                        print('Checking for', {'alpha': a, 'beta': b, 'gamma': g})\n",
    "\n",
    "                    model = ExponentialSmoothing(timeseries, trend=trend, seasonal=seasonal, seasonal_periods=periods)\n",
    "                    model.fit(smoothing_level=a, smoothing_slope=b, smoothing_seasonal=g)\n",
    "                    f_cast = model.predict(model.params, start=actual.index[0])\n",
    "                    score = np.where(np.float64(mean_absolute_error(actual, f_cast)/actual).mean()>0,np.float64(mean_absolute_error(actual, f_cast)/actual).mean(),0)\n",
    "\n",
    "                    best_params.append({'alpha': a, 'beta': b, 'gamma': g, 'mae': score})\n",
    "\n",
    "    return min(best_params, key=lambda x: x['mae'])"
   ]
  },
  {
   "cell_type": "code",
   "execution_count": 100,
   "id": "ece087b8",
   "metadata": {},
   "outputs": [
    {
     "data": {
      "text/plain": [
       "False"
      ]
     },
     "execution_count": 100,
     "metadata": {},
     "output_type": "execute_result"
    }
   ],
   "source": [
    "np.any(np.isnan(ts)) # checking is there any null value present in ts."
   ]
  },
  {
   "cell_type": "code",
   "execution_count": 101,
   "id": "8a40147a",
   "metadata": {},
   "outputs": [
    {
     "data": {
      "text/plain": [
       "True"
      ]
     },
     "execution_count": 101,
     "metadata": {},
     "output_type": "execute_result"
    }
   ],
   "source": [
    "np.all(np.isfinite(ts)) # checking that all value present in ts should be finite or not ."
   ]
  },
  {
   "cell_type": "code",
   "execution_count": 110,
   "id": "8c441fad",
   "metadata": {},
   "outputs": [
    {
     "data": {
      "text/plain": [
       "DATE\n",
       "1973-01-01     35.9728\n",
       "1973-02-01     36.1334\n",
       "1973-03-01     35.0625\n",
       "1973-04-01     33.8416\n",
       "1973-05-01     33.5107\n",
       "                ...   \n",
       "2019-05-01     97.5860\n",
       "2019-06-01    110.8580\n",
       "2019-07-01    122.1014\n",
       "2019-08-01    121.7765\n",
       "2019-09-01    109.7190\n",
       "Name: Electricty_Consumption_in_TW, Length: 561, dtype: float64"
      ]
     },
     "execution_count": 110,
     "metadata": {},
     "output_type": "execute_result"
    }
   ],
   "source": [
    "ts"
   ]
  },
  {
   "cell_type": "code",
   "execution_count": 114,
   "id": "a5c4ff01",
   "metadata": {},
   "outputs": [
    {
     "name": "stdout",
     "output_type": "stream",
     "text": [
      "Evaluating Exponential Smoothing model for 125 fits\n",
      "\n",
      "Checking for {'alpha': 0.1, 'beta': 0.1, 'gamma': 0.1}\n",
      "Checking for {'alpha': 0.1, 'beta': 0.1, 'gamma': 0.2}\n",
      "Checking for {'alpha': 0.1, 'beta': 0.1, 'gamma': 0.3}\n"
     ]
    },
    {
     "name": "stderr",
     "output_type": "stream",
     "text": [
      "C:\\Users\\ashis\\anaconda3\\lib\\site-packages\\statsmodels\\tsa\\base\\tsa_model.py:471: ValueWarning: No frequency information was provided, so inferred frequency MS will be used.\n",
      "  self._init_dates(dates, freq)\n",
      "<ipython-input-99-a79327837820>:20: FutureWarning: the 'smoothing_slope'' keyword is deprecated, use 'smoothing_trend' instead\n",
      "  model.fit(smoothing_level=a, smoothing_slope=b, smoothing_seasonal=g)\n",
      "C:\\Users\\ashis\\anaconda3\\lib\\site-packages\\statsmodels\\tsa\\holtwinters\\model.py:83: RuntimeWarning: overflow encountered in matmul\n",
      "  return err.T @ err\n",
      "C:\\Users\\ashis\\anaconda3\\lib\\site-packages\\statsmodels\\tsa\\base\\tsa_model.py:471: ValueWarning: No frequency information was provided, so inferred frequency MS will be used.\n",
      "  self._init_dates(dates, freq)\n",
      "<ipython-input-99-a79327837820>:20: FutureWarning: the 'smoothing_slope'' keyword is deprecated, use 'smoothing_trend' instead\n",
      "  model.fit(smoothing_level=a, smoothing_slope=b, smoothing_seasonal=g)\n",
      "C:\\Users\\ashis\\anaconda3\\lib\\site-packages\\statsmodels\\tsa\\holtwinters\\model.py:83: RuntimeWarning: overflow encountered in matmul\n",
      "  return err.T @ err\n",
      "C:\\Users\\ashis\\anaconda3\\lib\\site-packages\\statsmodels\\tsa\\base\\tsa_model.py:471: ValueWarning: No frequency information was provided, so inferred frequency MS will be used.\n",
      "  self._init_dates(dates, freq)\n",
      "<ipython-input-99-a79327837820>:20: FutureWarning: the 'smoothing_slope'' keyword is deprecated, use 'smoothing_trend' instead\n",
      "  model.fit(smoothing_level=a, smoothing_slope=b, smoothing_seasonal=g)\n",
      "C:\\Users\\ashis\\anaconda3\\lib\\site-packages\\statsmodels\\tsa\\holtwinters\\model.py:83: RuntimeWarning: overflow encountered in matmul\n",
      "  return err.T @ err\n",
      "C:\\Users\\ashis\\anaconda3\\lib\\site-packages\\statsmodels\\tsa\\base\\tsa_model.py:471: ValueWarning: No frequency information was provided, so inferred frequency MS will be used.\n",
      "  self._init_dates(dates, freq)\n",
      "<ipython-input-99-a79327837820>:20: FutureWarning: the 'smoothing_slope'' keyword is deprecated, use 'smoothing_trend' instead\n",
      "  model.fit(smoothing_level=a, smoothing_slope=b, smoothing_seasonal=g)\n",
      "C:\\Users\\ashis\\anaconda3\\lib\\site-packages\\statsmodels\\tsa\\holtwinters\\model.py:83: RuntimeWarning: overflow encountered in matmul\n",
      "  return err.T @ err\n",
      "C:\\Users\\ashis\\anaconda3\\lib\\site-packages\\statsmodels\\tsa\\base\\tsa_model.py:471: ValueWarning: No frequency information was provided, so inferred frequency MS will be used.\n",
      "  self._init_dates(dates, freq)\n"
     ]
    },
    {
     "name": "stdout",
     "output_type": "stream",
     "text": [
      "Checking for {'alpha': 0.1, 'beta': 0.1, 'gamma': 0.4}\n",
      "Checking for {'alpha': 0.1, 'beta': 0.1, 'gamma': 0.5}\n"
     ]
    },
    {
     "name": "stderr",
     "output_type": "stream",
     "text": [
      "<ipython-input-99-a79327837820>:20: FutureWarning: the 'smoothing_slope'' keyword is deprecated, use 'smoothing_trend' instead\n",
      "  model.fit(smoothing_level=a, smoothing_slope=b, smoothing_seasonal=g)\n",
      "C:\\Users\\ashis\\anaconda3\\lib\\site-packages\\statsmodels\\tsa\\base\\tsa_model.py:471: ValueWarning: No frequency information was provided, so inferred frequency MS will be used.\n",
      "  self._init_dates(dates, freq)\n",
      "<ipython-input-99-a79327837820>:20: FutureWarning: the 'smoothing_slope'' keyword is deprecated, use 'smoothing_trend' instead\n",
      "  model.fit(smoothing_level=a, smoothing_slope=b, smoothing_seasonal=g)\n",
      "C:\\Users\\ashis\\anaconda3\\lib\\site-packages\\statsmodels\\tsa\\holtwinters\\model.py:83: RuntimeWarning: overflow encountered in matmul\n",
      "  return err.T @ err\n",
      "C:\\Users\\ashis\\anaconda3\\lib\\site-packages\\statsmodels\\tsa\\base\\tsa_model.py:471: ValueWarning: No frequency information was provided, so inferred frequency MS will be used.\n",
      "  self._init_dates(dates, freq)\n"
     ]
    },
    {
     "name": "stdout",
     "output_type": "stream",
     "text": [
      "Checking for {'alpha': 0.1, 'beta': 0.2, 'gamma': 0.1}\n",
      "Checking for {'alpha': 0.1, 'beta': 0.2, 'gamma': 0.2}\n",
      "Checking for {'alpha': 0.1, 'beta': 0.2, 'gamma': 0.3}\n"
     ]
    },
    {
     "name": "stderr",
     "output_type": "stream",
     "text": [
      "<ipython-input-99-a79327837820>:20: FutureWarning: the 'smoothing_slope'' keyword is deprecated, use 'smoothing_trend' instead\n",
      "  model.fit(smoothing_level=a, smoothing_slope=b, smoothing_seasonal=g)\n",
      "C:\\Users\\ashis\\anaconda3\\lib\\site-packages\\statsmodels\\tsa\\holtwinters\\model.py:83: RuntimeWarning: overflow encountered in matmul\n",
      "  return err.T @ err\n",
      "C:\\Users\\ashis\\anaconda3\\lib\\site-packages\\statsmodels\\tsa\\base\\tsa_model.py:471: ValueWarning: No frequency information was provided, so inferred frequency MS will be used.\n",
      "  self._init_dates(dates, freq)\n",
      "<ipython-input-99-a79327837820>:20: FutureWarning: the 'smoothing_slope'' keyword is deprecated, use 'smoothing_trend' instead\n",
      "  model.fit(smoothing_level=a, smoothing_slope=b, smoothing_seasonal=g)\n",
      "C:\\Users\\ashis\\anaconda3\\lib\\site-packages\\statsmodels\\tsa\\holtwinters\\model.py:83: RuntimeWarning: overflow encountered in matmul\n",
      "  return err.T @ err\n"
     ]
    },
    {
     "name": "stdout",
     "output_type": "stream",
     "text": [
      "Checking for {'alpha': 0.1, 'beta': 0.2, 'gamma': 0.4}\n",
      "Checking for {'alpha': 0.1, 'beta': 0.2, 'gamma': 0.5}\n",
      "Checking for {'alpha': 0.1, 'beta': 0.3, 'gamma': 0.1}\n"
     ]
    },
    {
     "name": "stderr",
     "output_type": "stream",
     "text": [
      "C:\\Users\\ashis\\anaconda3\\lib\\site-packages\\statsmodels\\tsa\\base\\tsa_model.py:471: ValueWarning: No frequency information was provided, so inferred frequency MS will be used.\n",
      "  self._init_dates(dates, freq)\n",
      "<ipython-input-99-a79327837820>:20: FutureWarning: the 'smoothing_slope'' keyword is deprecated, use 'smoothing_trend' instead\n",
      "  model.fit(smoothing_level=a, smoothing_slope=b, smoothing_seasonal=g)\n",
      "C:\\Users\\ashis\\anaconda3\\lib\\site-packages\\statsmodels\\tsa\\holtwinters\\model.py:83: RuntimeWarning: overflow encountered in matmul\n",
      "  return err.T @ err\n",
      "C:\\Users\\ashis\\anaconda3\\lib\\site-packages\\statsmodels\\tsa\\base\\tsa_model.py:471: ValueWarning: No frequency information was provided, so inferred frequency MS will be used.\n",
      "  self._init_dates(dates, freq)\n",
      "<ipython-input-99-a79327837820>:20: FutureWarning: the 'smoothing_slope'' keyword is deprecated, use 'smoothing_trend' instead\n",
      "  model.fit(smoothing_level=a, smoothing_slope=b, smoothing_seasonal=g)\n",
      "C:\\Users\\ashis\\anaconda3\\lib\\site-packages\\statsmodels\\tsa\\holtwinters\\model.py:83: RuntimeWarning: overflow encountered in matmul\n",
      "  return err.T @ err\n",
      "C:\\Users\\ashis\\anaconda3\\lib\\site-packages\\statsmodels\\tsa\\base\\tsa_model.py:471: ValueWarning: No frequency information was provided, so inferred frequency MS will be used.\n",
      "  self._init_dates(dates, freq)\n",
      "<ipython-input-99-a79327837820>:20: FutureWarning: the 'smoothing_slope'' keyword is deprecated, use 'smoothing_trend' instead\n",
      "  model.fit(smoothing_level=a, smoothing_slope=b, smoothing_seasonal=g)\n",
      "C:\\Users\\ashis\\anaconda3\\lib\\site-packages\\statsmodels\\tsa\\holtwinters\\model.py:83: RuntimeWarning: overflow encountered in matmul\n",
      "  return err.T @ err\n",
      "C:\\Users\\ashis\\anaconda3\\lib\\site-packages\\statsmodels\\tsa\\base\\tsa_model.py:471: ValueWarning: No frequency information was provided, so inferred frequency MS will be used.\n",
      "  self._init_dates(dates, freq)\n",
      "<ipython-input-99-a79327837820>:20: FutureWarning: the 'smoothing_slope'' keyword is deprecated, use 'smoothing_trend' instead\n",
      "  model.fit(smoothing_level=a, smoothing_slope=b, smoothing_seasonal=g)\n",
      "C:\\Users\\ashis\\anaconda3\\lib\\site-packages\\statsmodels\\tsa\\holtwinters\\model.py:83: RuntimeWarning: overflow encountered in matmul\n",
      "  return err.T @ err\n",
      "C:\\Users\\ashis\\anaconda3\\lib\\site-packages\\statsmodels\\tsa\\base\\tsa_model.py:471: ValueWarning: No frequency information was provided, so inferred frequency MS will be used.\n",
      "  self._init_dates(dates, freq)\n",
      "<ipython-input-99-a79327837820>:20: FutureWarning: the 'smoothing_slope'' keyword is deprecated, use 'smoothing_trend' instead\n",
      "  model.fit(smoothing_level=a, smoothing_slope=b, smoothing_seasonal=g)\n"
     ]
    },
    {
     "name": "stdout",
     "output_type": "stream",
     "text": [
      "Checking for {'alpha': 0.1, 'beta': 0.3, 'gamma': 0.2}\n",
      "Checking for {'alpha': 0.1, 'beta': 0.3, 'gamma': 0.3}\n",
      "Checking for {'alpha': 0.1, 'beta': 0.3, 'gamma': 0.4}\n"
     ]
    },
    {
     "name": "stderr",
     "output_type": "stream",
     "text": [
      "C:\\Users\\ashis\\anaconda3\\lib\\site-packages\\statsmodels\\tsa\\holtwinters\\model.py:83: RuntimeWarning: overflow encountered in matmul\n",
      "  return err.T @ err\n",
      "C:\\Users\\ashis\\anaconda3\\lib\\site-packages\\statsmodels\\tsa\\base\\tsa_model.py:471: ValueWarning: No frequency information was provided, so inferred frequency MS will be used.\n",
      "  self._init_dates(dates, freq)\n",
      "<ipython-input-99-a79327837820>:20: FutureWarning: the 'smoothing_slope'' keyword is deprecated, use 'smoothing_trend' instead\n",
      "  model.fit(smoothing_level=a, smoothing_slope=b, smoothing_seasonal=g)\n",
      "C:\\Users\\ashis\\anaconda3\\lib\\site-packages\\statsmodels\\tsa\\holtwinters\\model.py:83: RuntimeWarning: overflow encountered in matmul\n",
      "  return err.T @ err\n",
      "C:\\Users\\ashis\\anaconda3\\lib\\site-packages\\statsmodels\\tsa\\base\\tsa_model.py:471: ValueWarning: No frequency information was provided, so inferred frequency MS will be used.\n",
      "  self._init_dates(dates, freq)\n",
      "<ipython-input-99-a79327837820>:20: FutureWarning: the 'smoothing_slope'' keyword is deprecated, use 'smoothing_trend' instead\n",
      "  model.fit(smoothing_level=a, smoothing_slope=b, smoothing_seasonal=g)\n",
      "C:\\Users\\ashis\\anaconda3\\lib\\site-packages\\statsmodels\\tsa\\holtwinters\\model.py:83: RuntimeWarning: overflow encountered in matmul\n",
      "  return err.T @ err\n"
     ]
    },
    {
     "name": "stdout",
     "output_type": "stream",
     "text": [
      "Checking for {'alpha': 0.1, 'beta': 0.3, 'gamma': 0.5}\n",
      "Checking for {'alpha': 0.1, 'beta': 0.4, 'gamma': 0.1}\n",
      "Checking for {'alpha': 0.1, 'beta': 0.4, 'gamma': 0.2}\n"
     ]
    },
    {
     "name": "stderr",
     "output_type": "stream",
     "text": [
      "C:\\Users\\ashis\\anaconda3\\lib\\site-packages\\statsmodels\\tsa\\base\\tsa_model.py:471: ValueWarning: No frequency information was provided, so inferred frequency MS will be used.\n",
      "  self._init_dates(dates, freq)\n",
      "<ipython-input-99-a79327837820>:20: FutureWarning: the 'smoothing_slope'' keyword is deprecated, use 'smoothing_trend' instead\n",
      "  model.fit(smoothing_level=a, smoothing_slope=b, smoothing_seasonal=g)\n",
      "C:\\Users\\ashis\\anaconda3\\lib\\site-packages\\statsmodels\\tsa\\holtwinters\\model.py:83: RuntimeWarning: overflow encountered in matmul\n",
      "  return err.T @ err\n",
      "C:\\Users\\ashis\\anaconda3\\lib\\site-packages\\statsmodels\\tsa\\base\\tsa_model.py:471: ValueWarning: No frequency information was provided, so inferred frequency MS will be used.\n",
      "  self._init_dates(dates, freq)\n",
      "<ipython-input-99-a79327837820>:20: FutureWarning: the 'smoothing_slope'' keyword is deprecated, use 'smoothing_trend' instead\n",
      "  model.fit(smoothing_level=a, smoothing_slope=b, smoothing_seasonal=g)\n",
      "C:\\Users\\ashis\\anaconda3\\lib\\site-packages\\statsmodels\\tsa\\holtwinters\\model.py:83: RuntimeWarning: overflow encountered in matmul\n",
      "  return err.T @ err\n",
      "C:\\Users\\ashis\\anaconda3\\lib\\site-packages\\statsmodels\\tsa\\base\\tsa_model.py:471: ValueWarning: No frequency information was provided, so inferred frequency MS will be used.\n",
      "  self._init_dates(dates, freq)\n"
     ]
    },
    {
     "name": "stdout",
     "output_type": "stream",
     "text": [
      "Checking for {'alpha': 0.1, 'beta': 0.4, 'gamma': 0.3}\n",
      "Checking for {'alpha': 0.1, 'beta': 0.4, 'gamma': 0.4}\n"
     ]
    },
    {
     "name": "stderr",
     "output_type": "stream",
     "text": [
      "<ipython-input-99-a79327837820>:20: FutureWarning: the 'smoothing_slope'' keyword is deprecated, use 'smoothing_trend' instead\n",
      "  model.fit(smoothing_level=a, smoothing_slope=b, smoothing_seasonal=g)\n",
      "C:\\Users\\ashis\\anaconda3\\lib\\site-packages\\statsmodels\\tsa\\holtwinters\\model.py:83: RuntimeWarning: overflow encountered in matmul\n",
      "  return err.T @ err\n",
      "C:\\Users\\ashis\\anaconda3\\lib\\site-packages\\statsmodels\\tsa\\base\\tsa_model.py:471: ValueWarning: No frequency information was provided, so inferred frequency MS will be used.\n",
      "  self._init_dates(dates, freq)\n",
      "<ipython-input-99-a79327837820>:20: FutureWarning: the 'smoothing_slope'' keyword is deprecated, use 'smoothing_trend' instead\n",
      "  model.fit(smoothing_level=a, smoothing_slope=b, smoothing_seasonal=g)\n",
      "C:\\Users\\ashis\\anaconda3\\lib\\site-packages\\statsmodels\\tsa\\holtwinters\\model.py:83: RuntimeWarning: overflow encountered in matmul\n",
      "  return err.T @ err\n",
      "C:\\Users\\ashis\\anaconda3\\lib\\site-packages\\statsmodels\\tsa\\base\\tsa_model.py:471: ValueWarning: No frequency information was provided, so inferred frequency MS will be used.\n",
      "  self._init_dates(dates, freq)\n",
      "<ipython-input-99-a79327837820>:20: FutureWarning: the 'smoothing_slope'' keyword is deprecated, use 'smoothing_trend' instead\n",
      "  model.fit(smoothing_level=a, smoothing_slope=b, smoothing_seasonal=g)\n",
      "C:\\Users\\ashis\\anaconda3\\lib\\site-packages\\statsmodels\\tsa\\holtwinters\\model.py:83: RuntimeWarning: overflow encountered in matmul\n",
      "  return err.T @ err\n",
      "C:\\Users\\ashis\\anaconda3\\lib\\site-packages\\statsmodels\\tsa\\base\\tsa_model.py:471: ValueWarning: No frequency information was provided, so inferred frequency MS will be used.\n",
      "  self._init_dates(dates, freq)\n",
      "<ipython-input-99-a79327837820>:20: FutureWarning: the 'smoothing_slope'' keyword is deprecated, use 'smoothing_trend' instead\n",
      "  model.fit(smoothing_level=a, smoothing_slope=b, smoothing_seasonal=g)\n",
      "C:\\Users\\ashis\\anaconda3\\lib\\site-packages\\statsmodels\\tsa\\holtwinters\\model.py:83: RuntimeWarning: overflow encountered in matmul\n",
      "  return err.T @ err\n"
     ]
    },
    {
     "name": "stdout",
     "output_type": "stream",
     "text": [
      "Checking for {'alpha': 0.1, 'beta': 0.4, 'gamma': 0.5}\n",
      "Checking for {'alpha': 0.1, 'beta': 0.5, 'gamma': 0.1}\n",
      "Checking for {'alpha': 0.1, 'beta': 0.5, 'gamma': 0.2}\n",
      "Checking for {'alpha': 0.1, 'beta': 0.5, 'gamma': 0.3}\n",
      "Checking for {'alpha': 0.1, 'beta': 0.5, 'gamma': 0.4}\n"
     ]
    },
    {
     "name": "stderr",
     "output_type": "stream",
     "text": [
      "C:\\Users\\ashis\\anaconda3\\lib\\site-packages\\statsmodels\\tsa\\base\\tsa_model.py:471: ValueWarning: No frequency information was provided, so inferred frequency MS will be used.\n",
      "  self._init_dates(dates, freq)\n",
      "<ipython-input-99-a79327837820>:20: FutureWarning: the 'smoothing_slope'' keyword is deprecated, use 'smoothing_trend' instead\n",
      "  model.fit(smoothing_level=a, smoothing_slope=b, smoothing_seasonal=g)\n",
      "C:\\Users\\ashis\\anaconda3\\lib\\site-packages\\statsmodels\\tsa\\holtwinters\\model.py:83: RuntimeWarning: overflow encountered in matmul\n",
      "  return err.T @ err\n",
      "C:\\Users\\ashis\\anaconda3\\lib\\site-packages\\statsmodels\\tsa\\base\\tsa_model.py:471: ValueWarning: No frequency information was provided, so inferred frequency MS will be used.\n",
      "  self._init_dates(dates, freq)\n",
      "<ipython-input-99-a79327837820>:20: FutureWarning: the 'smoothing_slope'' keyword is deprecated, use 'smoothing_trend' instead\n",
      "  model.fit(smoothing_level=a, smoothing_slope=b, smoothing_seasonal=g)\n",
      "C:\\Users\\ashis\\anaconda3\\lib\\site-packages\\statsmodels\\tsa\\holtwinters\\model.py:83: RuntimeWarning: overflow encountered in matmul\n",
      "  return err.T @ err\n",
      "C:\\Users\\ashis\\anaconda3\\lib\\site-packages\\statsmodels\\tsa\\base\\tsa_model.py:471: ValueWarning: No frequency information was provided, so inferred frequency MS will be used.\n",
      "  self._init_dates(dates, freq)\n",
      "<ipython-input-99-a79327837820>:20: FutureWarning: the 'smoothing_slope'' keyword is deprecated, use 'smoothing_trend' instead\n",
      "  model.fit(smoothing_level=a, smoothing_slope=b, smoothing_seasonal=g)\n",
      "C:\\Users\\ashis\\anaconda3\\lib\\site-packages\\statsmodels\\tsa\\holtwinters\\model.py:83: RuntimeWarning: overflow encountered in matmul\n",
      "  return err.T @ err\n"
     ]
    },
    {
     "name": "stdout",
     "output_type": "stream",
     "text": [
      "Checking for {'alpha': 0.1, 'beta': 0.5, 'gamma': 0.5}\n",
      "Checking for {'alpha': 0.2, 'beta': 0.1, 'gamma': 0.1}\n"
     ]
    },
    {
     "name": "stderr",
     "output_type": "stream",
     "text": [
      "C:\\Users\\ashis\\anaconda3\\lib\\site-packages\\statsmodels\\tsa\\base\\tsa_model.py:471: ValueWarning: No frequency information was provided, so inferred frequency MS will be used.\n",
      "  self._init_dates(dates, freq)\n",
      "<ipython-input-99-a79327837820>:20: FutureWarning: the 'smoothing_slope'' keyword is deprecated, use 'smoothing_trend' instead\n",
      "  model.fit(smoothing_level=a, smoothing_slope=b, smoothing_seasonal=g)\n",
      "C:\\Users\\ashis\\anaconda3\\lib\\site-packages\\statsmodels\\tsa\\holtwinters\\model.py:83: RuntimeWarning: overflow encountered in matmul\n",
      "  return err.T @ err\n",
      "C:\\Users\\ashis\\anaconda3\\lib\\site-packages\\statsmodels\\tsa\\base\\tsa_model.py:471: ValueWarning: No frequency information was provided, so inferred frequency MS will be used.\n",
      "  self._init_dates(dates, freq)\n",
      "<ipython-input-99-a79327837820>:20: FutureWarning: the 'smoothing_slope'' keyword is deprecated, use 'smoothing_trend' instead\n",
      "  model.fit(smoothing_level=a, smoothing_slope=b, smoothing_seasonal=g)\n",
      "C:\\Users\\ashis\\anaconda3\\lib\\site-packages\\statsmodels\\tsa\\holtwinters\\model.py:83: RuntimeWarning: overflow encountered in matmul\n",
      "  return err.T @ err\n"
     ]
    },
    {
     "name": "stdout",
     "output_type": "stream",
     "text": [
      "Checking for {'alpha': 0.2, 'beta': 0.1, 'gamma': 0.2}\n",
      "Checking for {'alpha': 0.2, 'beta': 0.1, 'gamma': 0.3}\n"
     ]
    },
    {
     "name": "stderr",
     "output_type": "stream",
     "text": [
      "C:\\Users\\ashis\\anaconda3\\lib\\site-packages\\statsmodels\\tsa\\base\\tsa_model.py:471: ValueWarning: No frequency information was provided, so inferred frequency MS will be used.\n",
      "  self._init_dates(dates, freq)\n",
      "<ipython-input-99-a79327837820>:20: FutureWarning: the 'smoothing_slope'' keyword is deprecated, use 'smoothing_trend' instead\n",
      "  model.fit(smoothing_level=a, smoothing_slope=b, smoothing_seasonal=g)\n",
      "C:\\Users\\ashis\\anaconda3\\lib\\site-packages\\statsmodels\\tsa\\holtwinters\\model.py:83: RuntimeWarning: overflow encountered in matmul\n",
      "  return err.T @ err\n",
      "C:\\Users\\ashis\\anaconda3\\lib\\site-packages\\statsmodels\\tsa\\base\\tsa_model.py:471: ValueWarning: No frequency information was provided, so inferred frequency MS will be used.\n",
      "  self._init_dates(dates, freq)\n",
      "<ipython-input-99-a79327837820>:20: FutureWarning: the 'smoothing_slope'' keyword is deprecated, use 'smoothing_trend' instead\n",
      "  model.fit(smoothing_level=a, smoothing_slope=b, smoothing_seasonal=g)\n",
      "C:\\Users\\ashis\\anaconda3\\lib\\site-packages\\statsmodels\\tsa\\holtwinters\\model.py:83: RuntimeWarning: overflow encountered in matmul\n",
      "  return err.T @ err\n"
     ]
    },
    {
     "name": "stdout",
     "output_type": "stream",
     "text": [
      "Checking for {'alpha': 0.2, 'beta': 0.1, 'gamma': 0.4}\n",
      "Checking for {'alpha': 0.2, 'beta': 0.1, 'gamma': 0.5}\n"
     ]
    },
    {
     "name": "stderr",
     "output_type": "stream",
     "text": [
      "C:\\Users\\ashis\\anaconda3\\lib\\site-packages\\statsmodels\\tsa\\base\\tsa_model.py:471: ValueWarning: No frequency information was provided, so inferred frequency MS will be used.\n",
      "  self._init_dates(dates, freq)\n",
      "<ipython-input-99-a79327837820>:20: FutureWarning: the 'smoothing_slope'' keyword is deprecated, use 'smoothing_trend' instead\n",
      "  model.fit(smoothing_level=a, smoothing_slope=b, smoothing_seasonal=g)\n",
      "C:\\Users\\ashis\\anaconda3\\lib\\site-packages\\statsmodels\\tsa\\holtwinters\\model.py:83: RuntimeWarning: overflow encountered in matmul\n",
      "  return err.T @ err\n",
      "C:\\Users\\ashis\\anaconda3\\lib\\site-packages\\statsmodels\\tsa\\base\\tsa_model.py:471: ValueWarning: No frequency information was provided, so inferred frequency MS will be used.\n",
      "  self._init_dates(dates, freq)\n",
      "<ipython-input-99-a79327837820>:20: FutureWarning: the 'smoothing_slope'' keyword is deprecated, use 'smoothing_trend' instead\n",
      "  model.fit(smoothing_level=a, smoothing_slope=b, smoothing_seasonal=g)\n",
      "C:\\Users\\ashis\\anaconda3\\lib\\site-packages\\statsmodels\\tsa\\holtwinters\\model.py:83: RuntimeWarning: overflow encountered in matmul\n",
      "  return err.T @ err\n"
     ]
    },
    {
     "name": "stdout",
     "output_type": "stream",
     "text": [
      "Checking for {'alpha': 0.2, 'beta': 0.2, 'gamma': 0.1}\n",
      "Checking for {'alpha': 0.2, 'beta': 0.2, 'gamma': 0.2}\n"
     ]
    },
    {
     "name": "stderr",
     "output_type": "stream",
     "text": [
      "C:\\Users\\ashis\\anaconda3\\lib\\site-packages\\statsmodels\\tsa\\base\\tsa_model.py:471: ValueWarning: No frequency information was provided, so inferred frequency MS will be used.\n",
      "  self._init_dates(dates, freq)\n",
      "<ipython-input-99-a79327837820>:20: FutureWarning: the 'smoothing_slope'' keyword is deprecated, use 'smoothing_trend' instead\n",
      "  model.fit(smoothing_level=a, smoothing_slope=b, smoothing_seasonal=g)\n",
      "C:\\Users\\ashis\\anaconda3\\lib\\site-packages\\statsmodels\\tsa\\holtwinters\\model.py:83: RuntimeWarning: overflow encountered in matmul\n",
      "  return err.T @ err\n",
      "C:\\Users\\ashis\\anaconda3\\lib\\site-packages\\statsmodels\\tsa\\base\\tsa_model.py:471: ValueWarning: No frequency information was provided, so inferred frequency MS will be used.\n",
      "  self._init_dates(dates, freq)\n",
      "<ipython-input-99-a79327837820>:20: FutureWarning: the 'smoothing_slope'' keyword is deprecated, use 'smoothing_trend' instead\n",
      "  model.fit(smoothing_level=a, smoothing_slope=b, smoothing_seasonal=g)\n",
      "C:\\Users\\ashis\\anaconda3\\lib\\site-packages\\statsmodels\\tsa\\holtwinters\\model.py:83: RuntimeWarning: overflow encountered in matmul\n",
      "  return err.T @ err\n"
     ]
    },
    {
     "name": "stdout",
     "output_type": "stream",
     "text": [
      "Checking for {'alpha': 0.2, 'beta': 0.2, 'gamma': 0.3}\n",
      "Checking for {'alpha': 0.2, 'beta': 0.2, 'gamma': 0.4}\n",
      "Checking for {'alpha': 0.2, 'beta': 0.2, 'gamma': 0.5}\n"
     ]
    },
    {
     "name": "stderr",
     "output_type": "stream",
     "text": [
      "C:\\Users\\ashis\\anaconda3\\lib\\site-packages\\statsmodels\\tsa\\base\\tsa_model.py:471: ValueWarning: No frequency information was provided, so inferred frequency MS will be used.\n",
      "  self._init_dates(dates, freq)\n",
      "<ipython-input-99-a79327837820>:20: FutureWarning: the 'smoothing_slope'' keyword is deprecated, use 'smoothing_trend' instead\n",
      "  model.fit(smoothing_level=a, smoothing_slope=b, smoothing_seasonal=g)\n",
      "C:\\Users\\ashis\\anaconda3\\lib\\site-packages\\statsmodels\\tsa\\holtwinters\\model.py:83: RuntimeWarning: overflow encountered in matmul\n",
      "  return err.T @ err\n",
      "C:\\Users\\ashis\\anaconda3\\lib\\site-packages\\statsmodels\\tsa\\base\\tsa_model.py:471: ValueWarning: No frequency information was provided, so inferred frequency MS will be used.\n",
      "  self._init_dates(dates, freq)\n",
      "<ipython-input-99-a79327837820>:20: FutureWarning: the 'smoothing_slope'' keyword is deprecated, use 'smoothing_trend' instead\n",
      "  model.fit(smoothing_level=a, smoothing_slope=b, smoothing_seasonal=g)\n",
      "C:\\Users\\ashis\\anaconda3\\lib\\site-packages\\statsmodels\\tsa\\holtwinters\\model.py:83: RuntimeWarning: overflow encountered in matmul\n",
      "  return err.T @ err\n",
      "C:\\Users\\ashis\\anaconda3\\lib\\site-packages\\statsmodels\\tsa\\base\\tsa_model.py:471: ValueWarning: No frequency information was provided, so inferred frequency MS will be used.\n",
      "  self._init_dates(dates, freq)\n",
      "<ipython-input-99-a79327837820>:20: FutureWarning: the 'smoothing_slope'' keyword is deprecated, use 'smoothing_trend' instead\n",
      "  model.fit(smoothing_level=a, smoothing_slope=b, smoothing_seasonal=g)\n",
      "C:\\Users\\ashis\\anaconda3\\lib\\site-packages\\statsmodels\\tsa\\holtwinters\\model.py:83: RuntimeWarning: overflow encountered in matmul\n",
      "  return err.T @ err\n",
      "C:\\Users\\ashis\\anaconda3\\lib\\site-packages\\statsmodels\\tsa\\base\\tsa_model.py:471: ValueWarning: No frequency information was provided, so inferred frequency MS will be used.\n",
      "  self._init_dates(dates, freq)\n",
      "<ipython-input-99-a79327837820>:20: FutureWarning: the 'smoothing_slope'' keyword is deprecated, use 'smoothing_trend' instead\n",
      "  model.fit(smoothing_level=a, smoothing_slope=b, smoothing_seasonal=g)\n",
      "C:\\Users\\ashis\\anaconda3\\lib\\site-packages\\statsmodels\\tsa\\holtwinters\\model.py:83: RuntimeWarning: overflow encountered in matmul\n",
      "  return err.T @ err\n"
     ]
    },
    {
     "name": "stdout",
     "output_type": "stream",
     "text": [
      "Checking for {'alpha': 0.2, 'beta': 0.3, 'gamma': 0.1}\n",
      "Checking for {'alpha': 0.2, 'beta': 0.3, 'gamma': 0.2}\n"
     ]
    },
    {
     "name": "stderr",
     "output_type": "stream",
     "text": [
      "C:\\Users\\ashis\\anaconda3\\lib\\site-packages\\statsmodels\\tsa\\base\\tsa_model.py:471: ValueWarning: No frequency information was provided, so inferred frequency MS will be used.\n",
      "  self._init_dates(dates, freq)\n",
      "<ipython-input-99-a79327837820>:20: FutureWarning: the 'smoothing_slope'' keyword is deprecated, use 'smoothing_trend' instead\n",
      "  model.fit(smoothing_level=a, smoothing_slope=b, smoothing_seasonal=g)\n",
      "C:\\Users\\ashis\\anaconda3\\lib\\site-packages\\statsmodels\\tsa\\holtwinters\\model.py:83: RuntimeWarning: overflow encountered in matmul\n",
      "  return err.T @ err\n",
      "C:\\Users\\ashis\\anaconda3\\lib\\site-packages\\statsmodels\\tsa\\base\\tsa_model.py:471: ValueWarning: No frequency information was provided, so inferred frequency MS will be used.\n",
      "  self._init_dates(dates, freq)\n",
      "<ipython-input-99-a79327837820>:20: FutureWarning: the 'smoothing_slope'' keyword is deprecated, use 'smoothing_trend' instead\n",
      "  model.fit(smoothing_level=a, smoothing_slope=b, smoothing_seasonal=g)\n",
      "C:\\Users\\ashis\\anaconda3\\lib\\site-packages\\statsmodels\\tsa\\holtwinters\\model.py:83: RuntimeWarning: overflow encountered in matmul\n",
      "  return err.T @ err\n"
     ]
    },
    {
     "name": "stdout",
     "output_type": "stream",
     "text": [
      "Checking for {'alpha': 0.2, 'beta': 0.3, 'gamma': 0.3}\n",
      "Checking for {'alpha': 0.2, 'beta': 0.3, 'gamma': 0.4}\n"
     ]
    },
    {
     "name": "stderr",
     "output_type": "stream",
     "text": [
      "C:\\Users\\ashis\\anaconda3\\lib\\site-packages\\statsmodels\\tsa\\base\\tsa_model.py:471: ValueWarning: No frequency information was provided, so inferred frequency MS will be used.\n",
      "  self._init_dates(dates, freq)\n",
      "<ipython-input-99-a79327837820>:20: FutureWarning: the 'smoothing_slope'' keyword is deprecated, use 'smoothing_trend' instead\n",
      "  model.fit(smoothing_level=a, smoothing_slope=b, smoothing_seasonal=g)\n",
      "C:\\Users\\ashis\\anaconda3\\lib\\site-packages\\statsmodels\\tsa\\holtwinters\\model.py:83: RuntimeWarning: overflow encountered in matmul\n",
      "  return err.T @ err\n"
     ]
    },
    {
     "name": "stdout",
     "output_type": "stream",
     "text": [
      "Checking for {'alpha': 0.2, 'beta': 0.3, 'gamma': 0.5}\n",
      "Checking for {'alpha': 0.2, 'beta': 0.4, 'gamma': 0.1}\n"
     ]
    },
    {
     "name": "stderr",
     "output_type": "stream",
     "text": [
      "C:\\Users\\ashis\\anaconda3\\lib\\site-packages\\statsmodels\\tsa\\base\\tsa_model.py:471: ValueWarning: No frequency information was provided, so inferred frequency MS will be used.\n",
      "  self._init_dates(dates, freq)\n",
      "<ipython-input-99-a79327837820>:20: FutureWarning: the 'smoothing_slope'' keyword is deprecated, use 'smoothing_trend' instead\n",
      "  model.fit(smoothing_level=a, smoothing_slope=b, smoothing_seasonal=g)\n",
      "C:\\Users\\ashis\\anaconda3\\lib\\site-packages\\statsmodels\\tsa\\holtwinters\\model.py:83: RuntimeWarning: overflow encountered in matmul\n",
      "  return err.T @ err\n",
      "C:\\Users\\ashis\\anaconda3\\lib\\site-packages\\statsmodels\\tsa\\base\\tsa_model.py:471: ValueWarning: No frequency information was provided, so inferred frequency MS will be used.\n",
      "  self._init_dates(dates, freq)\n",
      "<ipython-input-99-a79327837820>:20: FutureWarning: the 'smoothing_slope'' keyword is deprecated, use 'smoothing_trend' instead\n",
      "  model.fit(smoothing_level=a, smoothing_slope=b, smoothing_seasonal=g)\n",
      "C:\\Users\\ashis\\anaconda3\\lib\\site-packages\\statsmodels\\tsa\\holtwinters\\model.py:83: RuntimeWarning: overflow encountered in matmul\n",
      "  return err.T @ err\n"
     ]
    },
    {
     "name": "stdout",
     "output_type": "stream",
     "text": [
      "Checking for {'alpha': 0.2, 'beta': 0.4, 'gamma': 0.2}\n",
      "Checking for {'alpha': 0.2, 'beta': 0.4, 'gamma': 0.3}\n"
     ]
    },
    {
     "name": "stderr",
     "output_type": "stream",
     "text": [
      "C:\\Users\\ashis\\anaconda3\\lib\\site-packages\\statsmodels\\tsa\\base\\tsa_model.py:471: ValueWarning: No frequency information was provided, so inferred frequency MS will be used.\n",
      "  self._init_dates(dates, freq)\n",
      "<ipython-input-99-a79327837820>:20: FutureWarning: the 'smoothing_slope'' keyword is deprecated, use 'smoothing_trend' instead\n",
      "  model.fit(smoothing_level=a, smoothing_slope=b, smoothing_seasonal=g)\n",
      "C:\\Users\\ashis\\anaconda3\\lib\\site-packages\\statsmodels\\tsa\\holtwinters\\model.py:83: RuntimeWarning: overflow encountered in matmul\n",
      "  return err.T @ err\n",
      "C:\\Users\\ashis\\anaconda3\\lib\\site-packages\\statsmodels\\tsa\\base\\tsa_model.py:471: ValueWarning: No frequency information was provided, so inferred frequency MS will be used.\n",
      "  self._init_dates(dates, freq)\n",
      "<ipython-input-99-a79327837820>:20: FutureWarning: the 'smoothing_slope'' keyword is deprecated, use 'smoothing_trend' instead\n",
      "  model.fit(smoothing_level=a, smoothing_slope=b, smoothing_seasonal=g)\n",
      "C:\\Users\\ashis\\anaconda3\\lib\\site-packages\\statsmodels\\tsa\\holtwinters\\model.py:83: RuntimeWarning: overflow encountered in matmul\n",
      "  return err.T @ err\n"
     ]
    },
    {
     "name": "stdout",
     "output_type": "stream",
     "text": [
      "Checking for {'alpha': 0.2, 'beta': 0.4, 'gamma': 0.4}\n",
      "Checking for {'alpha': 0.2, 'beta': 0.4, 'gamma': 0.5}\n"
     ]
    },
    {
     "name": "stderr",
     "output_type": "stream",
     "text": [
      "C:\\Users\\ashis\\anaconda3\\lib\\site-packages\\statsmodels\\tsa\\base\\tsa_model.py:471: ValueWarning: No frequency information was provided, so inferred frequency MS will be used.\n",
      "  self._init_dates(dates, freq)\n",
      "<ipython-input-99-a79327837820>:20: FutureWarning: the 'smoothing_slope'' keyword is deprecated, use 'smoothing_trend' instead\n",
      "  model.fit(smoothing_level=a, smoothing_slope=b, smoothing_seasonal=g)\n",
      "C:\\Users\\ashis\\anaconda3\\lib\\site-packages\\statsmodels\\tsa\\holtwinters\\model.py:83: RuntimeWarning: overflow encountered in matmul\n",
      "  return err.T @ err\n",
      "C:\\Users\\ashis\\anaconda3\\lib\\site-packages\\statsmodels\\tsa\\base\\tsa_model.py:471: ValueWarning: No frequency information was provided, so inferred frequency MS will be used.\n",
      "  self._init_dates(dates, freq)\n",
      "<ipython-input-99-a79327837820>:20: FutureWarning: the 'smoothing_slope'' keyword is deprecated, use 'smoothing_trend' instead\n",
      "  model.fit(smoothing_level=a, smoothing_slope=b, smoothing_seasonal=g)\n",
      "C:\\Users\\ashis\\anaconda3\\lib\\site-packages\\statsmodels\\tsa\\holtwinters\\model.py:83: RuntimeWarning: overflow encountered in matmul\n",
      "  return err.T @ err\n"
     ]
    },
    {
     "name": "stdout",
     "output_type": "stream",
     "text": [
      "Checking for {'alpha': 0.2, 'beta': 0.5, 'gamma': 0.1}\n",
      "Checking for {'alpha': 0.2, 'beta': 0.5, 'gamma': 0.2}\n",
      "Checking for {'alpha': 0.2, 'beta': 0.5, 'gamma': 0.3}\n"
     ]
    },
    {
     "name": "stderr",
     "output_type": "stream",
     "text": [
      "C:\\Users\\ashis\\anaconda3\\lib\\site-packages\\statsmodels\\tsa\\base\\tsa_model.py:471: ValueWarning: No frequency information was provided, so inferred frequency MS will be used.\n",
      "  self._init_dates(dates, freq)\n",
      "<ipython-input-99-a79327837820>:20: FutureWarning: the 'smoothing_slope'' keyword is deprecated, use 'smoothing_trend' instead\n",
      "  model.fit(smoothing_level=a, smoothing_slope=b, smoothing_seasonal=g)\n",
      "C:\\Users\\ashis\\anaconda3\\lib\\site-packages\\statsmodels\\tsa\\holtwinters\\model.py:83: RuntimeWarning: overflow encountered in matmul\n",
      "  return err.T @ err\n",
      "C:\\Users\\ashis\\anaconda3\\lib\\site-packages\\statsmodels\\tsa\\base\\tsa_model.py:471: ValueWarning: No frequency information was provided, so inferred frequency MS will be used.\n",
      "  self._init_dates(dates, freq)\n",
      "<ipython-input-99-a79327837820>:20: FutureWarning: the 'smoothing_slope'' keyword is deprecated, use 'smoothing_trend' instead\n",
      "  model.fit(smoothing_level=a, smoothing_slope=b, smoothing_seasonal=g)\n",
      "C:\\Users\\ashis\\anaconda3\\lib\\site-packages\\statsmodels\\tsa\\holtwinters\\model.py:83: RuntimeWarning: overflow encountered in matmul\n",
      "  return err.T @ err\n",
      "C:\\Users\\ashis\\anaconda3\\lib\\site-packages\\statsmodels\\tsa\\base\\tsa_model.py:471: ValueWarning: No frequency information was provided, so inferred frequency MS will be used.\n",
      "  self._init_dates(dates, freq)\n",
      "<ipython-input-99-a79327837820>:20: FutureWarning: the 'smoothing_slope'' keyword is deprecated, use 'smoothing_trend' instead\n",
      "  model.fit(smoothing_level=a, smoothing_slope=b, smoothing_seasonal=g)\n",
      "C:\\Users\\ashis\\anaconda3\\lib\\site-packages\\statsmodels\\tsa\\holtwinters\\model.py:83: RuntimeWarning: overflow encountered in matmul\n",
      "  return err.T @ err\n",
      "C:\\Users\\ashis\\anaconda3\\lib\\site-packages\\statsmodels\\tsa\\base\\tsa_model.py:471: ValueWarning: No frequency information was provided, so inferred frequency MS will be used.\n",
      "  self._init_dates(dates, freq)\n",
      "<ipython-input-99-a79327837820>:20: FutureWarning: the 'smoothing_slope'' keyword is deprecated, use 'smoothing_trend' instead\n",
      "  model.fit(smoothing_level=a, smoothing_slope=b, smoothing_seasonal=g)\n",
      "C:\\Users\\ashis\\anaconda3\\lib\\site-packages\\statsmodels\\tsa\\holtwinters\\model.py:83: RuntimeWarning: overflow encountered in matmul\n",
      "  return err.T @ err\n",
      "C:\\Users\\ashis\\anaconda3\\lib\\site-packages\\statsmodels\\tsa\\base\\tsa_model.py:471: ValueWarning: No frequency information was provided, so inferred frequency MS will be used.\n",
      "  self._init_dates(dates, freq)\n",
      "<ipython-input-99-a79327837820>:20: FutureWarning: the 'smoothing_slope'' keyword is deprecated, use 'smoothing_trend' instead\n",
      "  model.fit(smoothing_level=a, smoothing_slope=b, smoothing_seasonal=g)\n",
      "C:\\Users\\ashis\\anaconda3\\lib\\site-packages\\statsmodels\\tsa\\holtwinters\\model.py:83: RuntimeWarning: overflow encountered in matmul\n",
      "  return err.T @ err\n"
     ]
    },
    {
     "name": "stdout",
     "output_type": "stream",
     "text": [
      "Checking for {'alpha': 0.2, 'beta': 0.5, 'gamma': 0.4}\n",
      "Checking for {'alpha': 0.2, 'beta': 0.5, 'gamma': 0.5}\n",
      "Checking for {'alpha': 0.3, 'beta': 0.1, 'gamma': 0.1}\n",
      "Checking for {'alpha': 0.3, 'beta': 0.1, 'gamma': 0.2}\n",
      "Checking for {'alpha': 0.3, 'beta': 0.1, 'gamma': 0.3}\n"
     ]
    },
    {
     "name": "stderr",
     "output_type": "stream",
     "text": [
      "C:\\Users\\ashis\\anaconda3\\lib\\site-packages\\statsmodels\\tsa\\base\\tsa_model.py:471: ValueWarning: No frequency information was provided, so inferred frequency MS will be used.\n",
      "  self._init_dates(dates, freq)\n",
      "<ipython-input-99-a79327837820>:20: FutureWarning: the 'smoothing_slope'' keyword is deprecated, use 'smoothing_trend' instead\n",
      "  model.fit(smoothing_level=a, smoothing_slope=b, smoothing_seasonal=g)\n",
      "C:\\Users\\ashis\\anaconda3\\lib\\site-packages\\statsmodels\\tsa\\holtwinters\\model.py:83: RuntimeWarning: overflow encountered in matmul\n",
      "  return err.T @ err\n",
      "C:\\Users\\ashis\\anaconda3\\lib\\site-packages\\statsmodels\\tsa\\base\\tsa_model.py:471: ValueWarning: No frequency information was provided, so inferred frequency MS will be used.\n",
      "  self._init_dates(dates, freq)\n",
      "<ipython-input-99-a79327837820>:20: FutureWarning: the 'smoothing_slope'' keyword is deprecated, use 'smoothing_trend' instead\n",
      "  model.fit(smoothing_level=a, smoothing_slope=b, smoothing_seasonal=g)\n",
      "C:\\Users\\ashis\\anaconda3\\lib\\site-packages\\statsmodels\\tsa\\holtwinters\\model.py:83: RuntimeWarning: overflow encountered in matmul\n",
      "  return err.T @ err\n",
      "C:\\Users\\ashis\\anaconda3\\lib\\site-packages\\statsmodels\\tsa\\base\\tsa_model.py:471: ValueWarning: No frequency information was provided, so inferred frequency MS will be used.\n",
      "  self._init_dates(dates, freq)\n",
      "<ipython-input-99-a79327837820>:20: FutureWarning: the 'smoothing_slope'' keyword is deprecated, use 'smoothing_trend' instead\n",
      "  model.fit(smoothing_level=a, smoothing_slope=b, smoothing_seasonal=g)\n",
      "C:\\Users\\ashis\\anaconda3\\lib\\site-packages\\statsmodels\\tsa\\holtwinters\\model.py:83: RuntimeWarning: overflow encountered in matmul\n",
      "  return err.T @ err\n",
      "C:\\Users\\ashis\\anaconda3\\lib\\site-packages\\statsmodels\\tsa\\base\\tsa_model.py:471: ValueWarning: No frequency information was provided, so inferred frequency MS will be used.\n",
      "  self._init_dates(dates, freq)\n",
      "<ipython-input-99-a79327837820>:20: FutureWarning: the 'smoothing_slope'' keyword is deprecated, use 'smoothing_trend' instead\n",
      "  model.fit(smoothing_level=a, smoothing_slope=b, smoothing_seasonal=g)\n",
      "C:\\Users\\ashis\\anaconda3\\lib\\site-packages\\statsmodels\\tsa\\holtwinters\\model.py:83: RuntimeWarning: overflow encountered in matmul\n",
      "  return err.T @ err\n",
      "C:\\Users\\ashis\\anaconda3\\lib\\site-packages\\statsmodels\\tsa\\base\\tsa_model.py:471: ValueWarning: No frequency information was provided, so inferred frequency MS will be used.\n",
      "  self._init_dates(dates, freq)\n"
     ]
    },
    {
     "name": "stdout",
     "output_type": "stream",
     "text": [
      "Checking for {'alpha': 0.3, 'beta': 0.1, 'gamma': 0.4}\n",
      "Checking for {'alpha': 0.3, 'beta': 0.1, 'gamma': 0.5}\n",
      "Checking for {'alpha': 0.3, 'beta': 0.2, 'gamma': 0.1}\n"
     ]
    },
    {
     "name": "stderr",
     "output_type": "stream",
     "text": [
      "<ipython-input-99-a79327837820>:20: FutureWarning: the 'smoothing_slope'' keyword is deprecated, use 'smoothing_trend' instead\n",
      "  model.fit(smoothing_level=a, smoothing_slope=b, smoothing_seasonal=g)\n",
      "C:\\Users\\ashis\\anaconda3\\lib\\site-packages\\statsmodels\\tsa\\holtwinters\\model.py:83: RuntimeWarning: overflow encountered in matmul\n",
      "  return err.T @ err\n",
      "C:\\Users\\ashis\\anaconda3\\lib\\site-packages\\statsmodels\\tsa\\base\\tsa_model.py:471: ValueWarning: No frequency information was provided, so inferred frequency MS will be used.\n",
      "  self._init_dates(dates, freq)\n",
      "<ipython-input-99-a79327837820>:20: FutureWarning: the 'smoothing_slope'' keyword is deprecated, use 'smoothing_trend' instead\n",
      "  model.fit(smoothing_level=a, smoothing_slope=b, smoothing_seasonal=g)\n",
      "C:\\Users\\ashis\\anaconda3\\lib\\site-packages\\statsmodels\\tsa\\holtwinters\\model.py:83: RuntimeWarning: overflow encountered in matmul\n",
      "  return err.T @ err\n",
      "C:\\Users\\ashis\\anaconda3\\lib\\site-packages\\statsmodels\\tsa\\base\\tsa_model.py:471: ValueWarning: No frequency information was provided, so inferred frequency MS will be used.\n",
      "  self._init_dates(dates, freq)\n",
      "<ipython-input-99-a79327837820>:20: FutureWarning: the 'smoothing_slope'' keyword is deprecated, use 'smoothing_trend' instead\n",
      "  model.fit(smoothing_level=a, smoothing_slope=b, smoothing_seasonal=g)\n",
      "C:\\Users\\ashis\\anaconda3\\lib\\site-packages\\statsmodels\\tsa\\holtwinters\\model.py:83: RuntimeWarning: overflow encountered in matmul\n",
      "  return err.T @ err\n"
     ]
    },
    {
     "name": "stdout",
     "output_type": "stream",
     "text": [
      "Checking for {'alpha': 0.3, 'beta': 0.2, 'gamma': 0.2}\n",
      "Checking for {'alpha': 0.3, 'beta': 0.2, 'gamma': 0.3}\n"
     ]
    },
    {
     "name": "stderr",
     "output_type": "stream",
     "text": [
      "C:\\Users\\ashis\\anaconda3\\lib\\site-packages\\statsmodels\\tsa\\base\\tsa_model.py:471: ValueWarning: No frequency information was provided, so inferred frequency MS will be used.\n",
      "  self._init_dates(dates, freq)\n",
      "<ipython-input-99-a79327837820>:20: FutureWarning: the 'smoothing_slope'' keyword is deprecated, use 'smoothing_trend' instead\n",
      "  model.fit(smoothing_level=a, smoothing_slope=b, smoothing_seasonal=g)\n",
      "C:\\Users\\ashis\\anaconda3\\lib\\site-packages\\statsmodels\\tsa\\holtwinters\\model.py:83: RuntimeWarning: overflow encountered in matmul\n",
      "  return err.T @ err\n",
      "C:\\Users\\ashis\\anaconda3\\lib\\site-packages\\statsmodels\\tsa\\base\\tsa_model.py:471: ValueWarning: No frequency information was provided, so inferred frequency MS will be used.\n",
      "  self._init_dates(dates, freq)\n",
      "<ipython-input-99-a79327837820>:20: FutureWarning: the 'smoothing_slope'' keyword is deprecated, use 'smoothing_trend' instead\n",
      "  model.fit(smoothing_level=a, smoothing_slope=b, smoothing_seasonal=g)\n",
      "C:\\Users\\ashis\\anaconda3\\lib\\site-packages\\statsmodels\\tsa\\holtwinters\\model.py:83: RuntimeWarning: overflow encountered in matmul\n",
      "  return err.T @ err\n",
      "C:\\Users\\ashis\\anaconda3\\lib\\site-packages\\statsmodels\\tsa\\base\\tsa_model.py:471: ValueWarning: No frequency information was provided, so inferred frequency MS will be used.\n",
      "  self._init_dates(dates, freq)\n"
     ]
    },
    {
     "name": "stdout",
     "output_type": "stream",
     "text": [
      "Checking for {'alpha': 0.3, 'beta': 0.2, 'gamma': 0.4}\n",
      "Checking for {'alpha': 0.3, 'beta': 0.2, 'gamma': 0.5}\n",
      "Checking for {'alpha': 0.3, 'beta': 0.3, 'gamma': 0.1}\n"
     ]
    },
    {
     "name": "stderr",
     "output_type": "stream",
     "text": [
      "<ipython-input-99-a79327837820>:20: FutureWarning: the 'smoothing_slope'' keyword is deprecated, use 'smoothing_trend' instead\n",
      "  model.fit(smoothing_level=a, smoothing_slope=b, smoothing_seasonal=g)\n",
      "C:\\Users\\ashis\\anaconda3\\lib\\site-packages\\statsmodels\\tsa\\holtwinters\\model.py:83: RuntimeWarning: overflow encountered in matmul\n",
      "  return err.T @ err\n",
      "C:\\Users\\ashis\\anaconda3\\lib\\site-packages\\statsmodels\\tsa\\base\\tsa_model.py:471: ValueWarning: No frequency information was provided, so inferred frequency MS will be used.\n",
      "  self._init_dates(dates, freq)\n",
      "<ipython-input-99-a79327837820>:20: FutureWarning: the 'smoothing_slope'' keyword is deprecated, use 'smoothing_trend' instead\n",
      "  model.fit(smoothing_level=a, smoothing_slope=b, smoothing_seasonal=g)\n",
      "C:\\Users\\ashis\\anaconda3\\lib\\site-packages\\statsmodels\\tsa\\holtwinters\\model.py:83: RuntimeWarning: overflow encountered in matmul\n",
      "  return err.T @ err\n"
     ]
    },
    {
     "name": "stdout",
     "output_type": "stream",
     "text": [
      "Checking for {'alpha': 0.3, 'beta': 0.3, 'gamma': 0.2}\n",
      "Checking for {'alpha': 0.3, 'beta': 0.3, 'gamma': 0.3}\n"
     ]
    },
    {
     "name": "stderr",
     "output_type": "stream",
     "text": [
      "C:\\Users\\ashis\\anaconda3\\lib\\site-packages\\statsmodels\\tsa\\base\\tsa_model.py:471: ValueWarning: No frequency information was provided, so inferred frequency MS will be used.\n",
      "  self._init_dates(dates, freq)\n",
      "<ipython-input-99-a79327837820>:20: FutureWarning: the 'smoothing_slope'' keyword is deprecated, use 'smoothing_trend' instead\n",
      "  model.fit(smoothing_level=a, smoothing_slope=b, smoothing_seasonal=g)\n",
      "C:\\Users\\ashis\\anaconda3\\lib\\site-packages\\statsmodels\\tsa\\holtwinters\\model.py:83: RuntimeWarning: overflow encountered in matmul\n",
      "  return err.T @ err\n",
      "C:\\Users\\ashis\\anaconda3\\lib\\site-packages\\statsmodels\\tsa\\base\\tsa_model.py:471: ValueWarning: No frequency information was provided, so inferred frequency MS will be used.\n",
      "  self._init_dates(dates, freq)\n",
      "<ipython-input-99-a79327837820>:20: FutureWarning: the 'smoothing_slope'' keyword is deprecated, use 'smoothing_trend' instead\n",
      "  model.fit(smoothing_level=a, smoothing_slope=b, smoothing_seasonal=g)\n",
      "C:\\Users\\ashis\\anaconda3\\lib\\site-packages\\statsmodels\\tsa\\holtwinters\\model.py:83: RuntimeWarning: overflow encountered in matmul\n",
      "  return err.T @ err\n"
     ]
    },
    {
     "name": "stdout",
     "output_type": "stream",
     "text": [
      "Checking for {'alpha': 0.3, 'beta': 0.3, 'gamma': 0.4}\n",
      "Checking for {'alpha': 0.3, 'beta': 0.3, 'gamma': 0.5}\n"
     ]
    },
    {
     "name": "stderr",
     "output_type": "stream",
     "text": [
      "C:\\Users\\ashis\\anaconda3\\lib\\site-packages\\statsmodels\\tsa\\base\\tsa_model.py:471: ValueWarning: No frequency information was provided, so inferred frequency MS will be used.\n",
      "  self._init_dates(dates, freq)\n",
      "<ipython-input-99-a79327837820>:20: FutureWarning: the 'smoothing_slope'' keyword is deprecated, use 'smoothing_trend' instead\n",
      "  model.fit(smoothing_level=a, smoothing_slope=b, smoothing_seasonal=g)\n",
      "C:\\Users\\ashis\\anaconda3\\lib\\site-packages\\statsmodels\\tsa\\holtwinters\\model.py:83: RuntimeWarning: overflow encountered in matmul\n",
      "  return err.T @ err\n",
      "C:\\Users\\ashis\\anaconda3\\lib\\site-packages\\statsmodels\\tsa\\base\\tsa_model.py:471: ValueWarning: No frequency information was provided, so inferred frequency MS will be used.\n",
      "  self._init_dates(dates, freq)\n",
      "<ipython-input-99-a79327837820>:20: FutureWarning: the 'smoothing_slope'' keyword is deprecated, use 'smoothing_trend' instead\n",
      "  model.fit(smoothing_level=a, smoothing_slope=b, smoothing_seasonal=g)\n",
      "C:\\Users\\ashis\\anaconda3\\lib\\site-packages\\statsmodels\\tsa\\holtwinters\\model.py:83: RuntimeWarning: overflow encountered in matmul\n",
      "  return err.T @ err\n"
     ]
    },
    {
     "name": "stdout",
     "output_type": "stream",
     "text": [
      "Checking for {'alpha': 0.3, 'beta': 0.4, 'gamma': 0.1}\n",
      "Checking for {'alpha': 0.3, 'beta': 0.4, 'gamma': 0.2}\n",
      "Checking for {'alpha': 0.3, 'beta': 0.4, 'gamma': 0.3}\n"
     ]
    },
    {
     "name": "stderr",
     "output_type": "stream",
     "text": [
      "C:\\Users\\ashis\\anaconda3\\lib\\site-packages\\statsmodels\\tsa\\base\\tsa_model.py:471: ValueWarning: No frequency information was provided, so inferred frequency MS will be used.\n",
      "  self._init_dates(dates, freq)\n",
      "<ipython-input-99-a79327837820>:20: FutureWarning: the 'smoothing_slope'' keyword is deprecated, use 'smoothing_trend' instead\n",
      "  model.fit(smoothing_level=a, smoothing_slope=b, smoothing_seasonal=g)\n",
      "C:\\Users\\ashis\\anaconda3\\lib\\site-packages\\statsmodels\\tsa\\holtwinters\\model.py:83: RuntimeWarning: overflow encountered in matmul\n",
      "  return err.T @ err\n",
      "C:\\Users\\ashis\\anaconda3\\lib\\site-packages\\statsmodels\\tsa\\base\\tsa_model.py:471: ValueWarning: No frequency information was provided, so inferred frequency MS will be used.\n",
      "  self._init_dates(dates, freq)\n",
      "<ipython-input-99-a79327837820>:20: FutureWarning: the 'smoothing_slope'' keyword is deprecated, use 'smoothing_trend' instead\n",
      "  model.fit(smoothing_level=a, smoothing_slope=b, smoothing_seasonal=g)\n",
      "C:\\Users\\ashis\\anaconda3\\lib\\site-packages\\statsmodels\\tsa\\holtwinters\\model.py:83: RuntimeWarning: overflow encountered in matmul\n",
      "  return err.T @ err\n",
      "C:\\Users\\ashis\\anaconda3\\lib\\site-packages\\statsmodels\\tsa\\base\\tsa_model.py:471: ValueWarning: No frequency information was provided, so inferred frequency MS will be used.\n",
      "  self._init_dates(dates, freq)\n",
      "<ipython-input-99-a79327837820>:20: FutureWarning: the 'smoothing_slope'' keyword is deprecated, use 'smoothing_trend' instead\n",
      "  model.fit(smoothing_level=a, smoothing_slope=b, smoothing_seasonal=g)\n",
      "C:\\Users\\ashis\\anaconda3\\lib\\site-packages\\statsmodels\\tsa\\holtwinters\\model.py:83: RuntimeWarning: overflow encountered in matmul\n",
      "  return err.T @ err\n",
      "C:\\Users\\ashis\\anaconda3\\lib\\site-packages\\statsmodels\\tsa\\base\\tsa_model.py:471: ValueWarning: No frequency information was provided, so inferred frequency MS will be used.\n",
      "  self._init_dates(dates, freq)\n",
      "<ipython-input-99-a79327837820>:20: FutureWarning: the 'smoothing_slope'' keyword is deprecated, use 'smoothing_trend' instead\n",
      "  model.fit(smoothing_level=a, smoothing_slope=b, smoothing_seasonal=g)\n",
      "C:\\Users\\ashis\\anaconda3\\lib\\site-packages\\statsmodels\\tsa\\holtwinters\\model.py:83: RuntimeWarning: overflow encountered in matmul\n",
      "  return err.T @ err\n",
      "C:\\Users\\ashis\\anaconda3\\lib\\site-packages\\statsmodels\\tsa\\base\\tsa_model.py:471: ValueWarning: No frequency information was provided, so inferred frequency MS will be used.\n",
      "  self._init_dates(dates, freq)\n",
      "<ipython-input-99-a79327837820>:20: FutureWarning: the 'smoothing_slope'' keyword is deprecated, use 'smoothing_trend' instead\n",
      "  model.fit(smoothing_level=a, smoothing_slope=b, smoothing_seasonal=g)\n",
      "C:\\Users\\ashis\\anaconda3\\lib\\site-packages\\statsmodels\\tsa\\holtwinters\\model.py:83: RuntimeWarning: overflow encountered in matmul\n",
      "  return err.T @ err\n"
     ]
    },
    {
     "name": "stdout",
     "output_type": "stream",
     "text": [
      "Checking for {'alpha': 0.3, 'beta': 0.4, 'gamma': 0.4}\n",
      "Checking for {'alpha': 0.3, 'beta': 0.4, 'gamma': 0.5}\n",
      "Checking for {'alpha': 0.3, 'beta': 0.5, 'gamma': 0.1}\n",
      "Checking for {'alpha': 0.3, 'beta': 0.5, 'gamma': 0.2}\n"
     ]
    },
    {
     "name": "stderr",
     "output_type": "stream",
     "text": [
      "C:\\Users\\ashis\\anaconda3\\lib\\site-packages\\statsmodels\\tsa\\base\\tsa_model.py:471: ValueWarning: No frequency information was provided, so inferred frequency MS will be used.\n",
      "  self._init_dates(dates, freq)\n",
      "<ipython-input-99-a79327837820>:20: FutureWarning: the 'smoothing_slope'' keyword is deprecated, use 'smoothing_trend' instead\n",
      "  model.fit(smoothing_level=a, smoothing_slope=b, smoothing_seasonal=g)\n",
      "C:\\Users\\ashis\\anaconda3\\lib\\site-packages\\statsmodels\\tsa\\holtwinters\\model.py:83: RuntimeWarning: overflow encountered in matmul\n",
      "  return err.T @ err\n",
      "C:\\Users\\ashis\\anaconda3\\lib\\site-packages\\statsmodels\\tsa\\base\\tsa_model.py:471: ValueWarning: No frequency information was provided, so inferred frequency MS will be used.\n",
      "  self._init_dates(dates, freq)\n",
      "<ipython-input-99-a79327837820>:20: FutureWarning: the 'smoothing_slope'' keyword is deprecated, use 'smoothing_trend' instead\n",
      "  model.fit(smoothing_level=a, smoothing_slope=b, smoothing_seasonal=g)\n",
      "C:\\Users\\ashis\\anaconda3\\lib\\site-packages\\statsmodels\\tsa\\holtwinters\\model.py:83: RuntimeWarning: overflow encountered in matmul\n",
      "  return err.T @ err\n"
     ]
    },
    {
     "name": "stdout",
     "output_type": "stream",
     "text": [
      "Checking for {'alpha': 0.3, 'beta': 0.5, 'gamma': 0.3}\n",
      "Checking for {'alpha': 0.3, 'beta': 0.5, 'gamma': 0.4}\n"
     ]
    },
    {
     "name": "stderr",
     "output_type": "stream",
     "text": [
      "C:\\Users\\ashis\\anaconda3\\lib\\site-packages\\statsmodels\\tsa\\base\\tsa_model.py:471: ValueWarning: No frequency information was provided, so inferred frequency MS will be used.\n",
      "  self._init_dates(dates, freq)\n",
      "<ipython-input-99-a79327837820>:20: FutureWarning: the 'smoothing_slope'' keyword is deprecated, use 'smoothing_trend' instead\n",
      "  model.fit(smoothing_level=a, smoothing_slope=b, smoothing_seasonal=g)\n",
      "C:\\Users\\ashis\\anaconda3\\lib\\site-packages\\statsmodels\\tsa\\holtwinters\\model.py:83: RuntimeWarning: overflow encountered in matmul\n",
      "  return err.T @ err\n",
      "C:\\Users\\ashis\\anaconda3\\lib\\site-packages\\statsmodels\\tsa\\base\\tsa_model.py:471: ValueWarning: No frequency information was provided, so inferred frequency MS will be used.\n",
      "  self._init_dates(dates, freq)\n",
      "<ipython-input-99-a79327837820>:20: FutureWarning: the 'smoothing_slope'' keyword is deprecated, use 'smoothing_trend' instead\n",
      "  model.fit(smoothing_level=a, smoothing_slope=b, smoothing_seasonal=g)\n",
      "C:\\Users\\ashis\\anaconda3\\lib\\site-packages\\statsmodels\\tsa\\holtwinters\\model.py:83: RuntimeWarning: overflow encountered in matmul\n",
      "  return err.T @ err\n"
     ]
    },
    {
     "name": "stdout",
     "output_type": "stream",
     "text": [
      "Checking for {'alpha': 0.3, 'beta': 0.5, 'gamma': 0.5}\n",
      "Checking for {'alpha': 0.4, 'beta': 0.1, 'gamma': 0.1}\n"
     ]
    },
    {
     "name": "stderr",
     "output_type": "stream",
     "text": [
      "C:\\Users\\ashis\\anaconda3\\lib\\site-packages\\statsmodels\\tsa\\base\\tsa_model.py:471: ValueWarning: No frequency information was provided, so inferred frequency MS will be used.\n",
      "  self._init_dates(dates, freq)\n",
      "<ipython-input-99-a79327837820>:20: FutureWarning: the 'smoothing_slope'' keyword is deprecated, use 'smoothing_trend' instead\n",
      "  model.fit(smoothing_level=a, smoothing_slope=b, smoothing_seasonal=g)\n",
      "C:\\Users\\ashis\\anaconda3\\lib\\site-packages\\statsmodels\\tsa\\holtwinters\\model.py:83: RuntimeWarning: overflow encountered in matmul\n",
      "  return err.T @ err\n",
      "C:\\Users\\ashis\\anaconda3\\lib\\site-packages\\statsmodels\\tsa\\holtwinters\\model.py:915: ConvergenceWarning: Optimization failed to converge. Check mle_retvals.\n",
      "  warnings.warn(\n",
      "C:\\Users\\ashis\\anaconda3\\lib\\site-packages\\statsmodels\\tsa\\base\\tsa_model.py:471: ValueWarning: No frequency information was provided, so inferred frequency MS will be used.\n",
      "  self._init_dates(dates, freq)\n",
      "<ipython-input-99-a79327837820>:20: FutureWarning: the 'smoothing_slope'' keyword is deprecated, use 'smoothing_trend' instead\n",
      "  model.fit(smoothing_level=a, smoothing_slope=b, smoothing_seasonal=g)\n",
      "C:\\Users\\ashis\\anaconda3\\lib\\site-packages\\statsmodels\\tsa\\holtwinters\\model.py:83: RuntimeWarning: overflow encountered in matmul\n",
      "  return err.T @ err\n"
     ]
    },
    {
     "name": "stdout",
     "output_type": "stream",
     "text": [
      "Checking for {'alpha': 0.4, 'beta': 0.1, 'gamma': 0.2}\n",
      "Checking for {'alpha': 0.4, 'beta': 0.1, 'gamma': 0.3}\n",
      "Checking for {'alpha': 0.4, 'beta': 0.1, 'gamma': 0.4}\n"
     ]
    },
    {
     "name": "stderr",
     "output_type": "stream",
     "text": [
      "C:\\Users\\ashis\\anaconda3\\lib\\site-packages\\statsmodels\\tsa\\base\\tsa_model.py:471: ValueWarning: No frequency information was provided, so inferred frequency MS will be used.\n",
      "  self._init_dates(dates, freq)\n",
      "<ipython-input-99-a79327837820>:20: FutureWarning: the 'smoothing_slope'' keyword is deprecated, use 'smoothing_trend' instead\n",
      "  model.fit(smoothing_level=a, smoothing_slope=b, smoothing_seasonal=g)\n",
      "C:\\Users\\ashis\\anaconda3\\lib\\site-packages\\statsmodels\\tsa\\holtwinters\\model.py:83: RuntimeWarning: overflow encountered in matmul\n",
      "  return err.T @ err\n",
      "C:\\Users\\ashis\\anaconda3\\lib\\site-packages\\statsmodels\\tsa\\base\\tsa_model.py:471: ValueWarning: No frequency information was provided, so inferred frequency MS will be used.\n",
      "  self._init_dates(dates, freq)\n",
      "<ipython-input-99-a79327837820>:20: FutureWarning: the 'smoothing_slope'' keyword is deprecated, use 'smoothing_trend' instead\n",
      "  model.fit(smoothing_level=a, smoothing_slope=b, smoothing_seasonal=g)\n",
      "C:\\Users\\ashis\\anaconda3\\lib\\site-packages\\statsmodels\\tsa\\holtwinters\\model.py:83: RuntimeWarning: overflow encountered in matmul\n",
      "  return err.T @ err\n",
      "C:\\Users\\ashis\\anaconda3\\lib\\site-packages\\statsmodels\\tsa\\base\\tsa_model.py:471: ValueWarning: No frequency information was provided, so inferred frequency MS will be used.\n",
      "  self._init_dates(dates, freq)\n",
      "<ipython-input-99-a79327837820>:20: FutureWarning: the 'smoothing_slope'' keyword is deprecated, use 'smoothing_trend' instead\n",
      "  model.fit(smoothing_level=a, smoothing_slope=b, smoothing_seasonal=g)\n",
      "C:\\Users\\ashis\\anaconda3\\lib\\site-packages\\statsmodels\\tsa\\holtwinters\\model.py:83: RuntimeWarning: overflow encountered in matmul\n",
      "  return err.T @ err\n",
      "C:\\Users\\ashis\\anaconda3\\lib\\site-packages\\statsmodels\\tsa\\base\\tsa_model.py:471: ValueWarning: No frequency information was provided, so inferred frequency MS will be used.\n",
      "  self._init_dates(dates, freq)\n",
      "<ipython-input-99-a79327837820>:20: FutureWarning: the 'smoothing_slope'' keyword is deprecated, use 'smoothing_trend' instead\n",
      "  model.fit(smoothing_level=a, smoothing_slope=b, smoothing_seasonal=g)\n",
      "C:\\Users\\ashis\\anaconda3\\lib\\site-packages\\statsmodels\\tsa\\holtwinters\\model.py:83: RuntimeWarning: overflow encountered in matmul\n",
      "  return err.T @ err\n",
      "C:\\Users\\ashis\\anaconda3\\lib\\site-packages\\statsmodels\\tsa\\base\\tsa_model.py:471: ValueWarning: No frequency information was provided, so inferred frequency MS will be used.\n",
      "  self._init_dates(dates, freq)\n",
      "<ipython-input-99-a79327837820>:20: FutureWarning: the 'smoothing_slope'' keyword is deprecated, use 'smoothing_trend' instead\n",
      "  model.fit(smoothing_level=a, smoothing_slope=b, smoothing_seasonal=g)\n",
      "C:\\Users\\ashis\\anaconda3\\lib\\site-packages\\statsmodels\\tsa\\holtwinters\\model.py:83: RuntimeWarning: overflow encountered in matmul\n",
      "  return err.T @ err\n"
     ]
    },
    {
     "name": "stdout",
     "output_type": "stream",
     "text": [
      "Checking for {'alpha': 0.4, 'beta': 0.1, 'gamma': 0.5}\n",
      "Checking for {'alpha': 0.4, 'beta': 0.2, 'gamma': 0.1}\n",
      "Checking for {'alpha': 0.4, 'beta': 0.2, 'gamma': 0.2}\n",
      "Checking for {'alpha': 0.4, 'beta': 0.2, 'gamma': 0.3}\n"
     ]
    },
    {
     "name": "stderr",
     "output_type": "stream",
     "text": [
      "C:\\Users\\ashis\\anaconda3\\lib\\site-packages\\statsmodels\\tsa\\base\\tsa_model.py:471: ValueWarning: No frequency information was provided, so inferred frequency MS will be used.\n",
      "  self._init_dates(dates, freq)\n",
      "<ipython-input-99-a79327837820>:20: FutureWarning: the 'smoothing_slope'' keyword is deprecated, use 'smoothing_trend' instead\n",
      "  model.fit(smoothing_level=a, smoothing_slope=b, smoothing_seasonal=g)\n",
      "C:\\Users\\ashis\\anaconda3\\lib\\site-packages\\statsmodels\\tsa\\holtwinters\\model.py:83: RuntimeWarning: overflow encountered in matmul\n",
      "  return err.T @ err\n",
      "C:\\Users\\ashis\\anaconda3\\lib\\site-packages\\statsmodels\\tsa\\base\\tsa_model.py:471: ValueWarning: No frequency information was provided, so inferred frequency MS will be used.\n",
      "  self._init_dates(dates, freq)\n",
      "<ipython-input-99-a79327837820>:20: FutureWarning: the 'smoothing_slope'' keyword is deprecated, use 'smoothing_trend' instead\n",
      "  model.fit(smoothing_level=a, smoothing_slope=b, smoothing_seasonal=g)\n",
      "C:\\Users\\ashis\\anaconda3\\lib\\site-packages\\statsmodels\\tsa\\holtwinters\\model.py:83: RuntimeWarning: overflow encountered in matmul\n",
      "  return err.T @ err\n"
     ]
    },
    {
     "name": "stdout",
     "output_type": "stream",
     "text": [
      "Checking for {'alpha': 0.4, 'beta': 0.2, 'gamma': 0.4}\n",
      "Checking for {'alpha': 0.4, 'beta': 0.2, 'gamma': 0.5}\n"
     ]
    },
    {
     "name": "stderr",
     "output_type": "stream",
     "text": [
      "C:\\Users\\ashis\\anaconda3\\lib\\site-packages\\statsmodels\\tsa\\base\\tsa_model.py:471: ValueWarning: No frequency information was provided, so inferred frequency MS will be used.\n",
      "  self._init_dates(dates, freq)\n",
      "<ipython-input-99-a79327837820>:20: FutureWarning: the 'smoothing_slope'' keyword is deprecated, use 'smoothing_trend' instead\n",
      "  model.fit(smoothing_level=a, smoothing_slope=b, smoothing_seasonal=g)\n",
      "C:\\Users\\ashis\\anaconda3\\lib\\site-packages\\statsmodels\\tsa\\holtwinters\\model.py:83: RuntimeWarning: overflow encountered in matmul\n",
      "  return err.T @ err\n",
      "C:\\Users\\ashis\\anaconda3\\lib\\site-packages\\statsmodels\\tsa\\base\\tsa_model.py:471: ValueWarning: No frequency information was provided, so inferred frequency MS will be used.\n",
      "  self._init_dates(dates, freq)\n",
      "<ipython-input-99-a79327837820>:20: FutureWarning: the 'smoothing_slope'' keyword is deprecated, use 'smoothing_trend' instead\n",
      "  model.fit(smoothing_level=a, smoothing_slope=b, smoothing_seasonal=g)\n",
      "C:\\Users\\ashis\\anaconda3\\lib\\site-packages\\statsmodels\\tsa\\holtwinters\\model.py:83: RuntimeWarning: overflow encountered in matmul\n",
      "  return err.T @ err\n"
     ]
    },
    {
     "name": "stdout",
     "output_type": "stream",
     "text": [
      "Checking for {'alpha': 0.4, 'beta': 0.3, 'gamma': 0.1}\n",
      "Checking for {'alpha': 0.4, 'beta': 0.3, 'gamma': 0.2}\n",
      "Checking for {'alpha': 0.4, 'beta': 0.3, 'gamma': 0.3}\n"
     ]
    },
    {
     "name": "stderr",
     "output_type": "stream",
     "text": [
      "C:\\Users\\ashis\\anaconda3\\lib\\site-packages\\statsmodels\\tsa\\base\\tsa_model.py:471: ValueWarning: No frequency information was provided, so inferred frequency MS will be used.\n",
      "  self._init_dates(dates, freq)\n",
      "<ipython-input-99-a79327837820>:20: FutureWarning: the 'smoothing_slope'' keyword is deprecated, use 'smoothing_trend' instead\n",
      "  model.fit(smoothing_level=a, smoothing_slope=b, smoothing_seasonal=g)\n",
      "C:\\Users\\ashis\\anaconda3\\lib\\site-packages\\statsmodels\\tsa\\holtwinters\\model.py:83: RuntimeWarning: overflow encountered in matmul\n",
      "  return err.T @ err\n",
      "C:\\Users\\ashis\\anaconda3\\lib\\site-packages\\statsmodels\\tsa\\base\\tsa_model.py:471: ValueWarning: No frequency information was provided, so inferred frequency MS will be used.\n",
      "  self._init_dates(dates, freq)\n",
      "<ipython-input-99-a79327837820>:20: FutureWarning: the 'smoothing_slope'' keyword is deprecated, use 'smoothing_trend' instead\n",
      "  model.fit(smoothing_level=a, smoothing_slope=b, smoothing_seasonal=g)\n",
      "C:\\Users\\ashis\\anaconda3\\lib\\site-packages\\statsmodels\\tsa\\holtwinters\\model.py:83: RuntimeWarning: overflow encountered in matmul\n",
      "  return err.T @ err\n",
      "C:\\Users\\ashis\\anaconda3\\lib\\site-packages\\statsmodels\\tsa\\base\\tsa_model.py:471: ValueWarning: No frequency information was provided, so inferred frequency MS will be used.\n",
      "  self._init_dates(dates, freq)\n",
      "<ipython-input-99-a79327837820>:20: FutureWarning: the 'smoothing_slope'' keyword is deprecated, use 'smoothing_trend' instead\n",
      "  model.fit(smoothing_level=a, smoothing_slope=b, smoothing_seasonal=g)\n",
      "C:\\Users\\ashis\\anaconda3\\lib\\site-packages\\statsmodels\\tsa\\holtwinters\\model.py:83: RuntimeWarning: overflow encountered in matmul\n",
      "  return err.T @ err\n"
     ]
    },
    {
     "name": "stdout",
     "output_type": "stream",
     "text": [
      "Checking for {'alpha': 0.4, 'beta': 0.3, 'gamma': 0.4}\n",
      "Checking for {'alpha': 0.4, 'beta': 0.3, 'gamma': 0.5}\n",
      "Checking for {'alpha': 0.4, 'beta': 0.4, 'gamma': 0.1}\n"
     ]
    },
    {
     "name": "stderr",
     "output_type": "stream",
     "text": [
      "C:\\Users\\ashis\\anaconda3\\lib\\site-packages\\statsmodels\\tsa\\base\\tsa_model.py:471: ValueWarning: No frequency information was provided, so inferred frequency MS will be used.\n",
      "  self._init_dates(dates, freq)\n",
      "<ipython-input-99-a79327837820>:20: FutureWarning: the 'smoothing_slope'' keyword is deprecated, use 'smoothing_trend' instead\n",
      "  model.fit(smoothing_level=a, smoothing_slope=b, smoothing_seasonal=g)\n",
      "C:\\Users\\ashis\\anaconda3\\lib\\site-packages\\statsmodels\\tsa\\holtwinters\\model.py:83: RuntimeWarning: overflow encountered in matmul\n",
      "  return err.T @ err\n",
      "C:\\Users\\ashis\\anaconda3\\lib\\site-packages\\statsmodels\\tsa\\base\\tsa_model.py:471: ValueWarning: No frequency information was provided, so inferred frequency MS will be used.\n",
      "  self._init_dates(dates, freq)\n",
      "<ipython-input-99-a79327837820>:20: FutureWarning: the 'smoothing_slope'' keyword is deprecated, use 'smoothing_trend' instead\n",
      "  model.fit(smoothing_level=a, smoothing_slope=b, smoothing_seasonal=g)\n",
      "C:\\Users\\ashis\\anaconda3\\lib\\site-packages\\statsmodels\\tsa\\holtwinters\\model.py:83: RuntimeWarning: overflow encountered in matmul\n",
      "  return err.T @ err\n",
      "C:\\Users\\ashis\\anaconda3\\lib\\site-packages\\statsmodels\\tsa\\base\\tsa_model.py:471: ValueWarning: No frequency information was provided, so inferred frequency MS will be used.\n",
      "  self._init_dates(dates, freq)\n",
      "<ipython-input-99-a79327837820>:20: FutureWarning: the 'smoothing_slope'' keyword is deprecated, use 'smoothing_trend' instead\n",
      "  model.fit(smoothing_level=a, smoothing_slope=b, smoothing_seasonal=g)\n",
      "C:\\Users\\ashis\\anaconda3\\lib\\site-packages\\statsmodels\\tsa\\holtwinters\\model.py:83: RuntimeWarning: overflow encountered in matmul\n",
      "  return err.T @ err\n",
      "C:\\Users\\ashis\\anaconda3\\lib\\site-packages\\statsmodels\\tsa\\base\\tsa_model.py:471: ValueWarning: No frequency information was provided, so inferred frequency MS will be used.\n",
      "  self._init_dates(dates, freq)\n",
      "<ipython-input-99-a79327837820>:20: FutureWarning: the 'smoothing_slope'' keyword is deprecated, use 'smoothing_trend' instead\n",
      "  model.fit(smoothing_level=a, smoothing_slope=b, smoothing_seasonal=g)\n",
      "C:\\Users\\ashis\\anaconda3\\lib\\site-packages\\statsmodels\\tsa\\holtwinters\\model.py:83: RuntimeWarning: overflow encountered in matmul\n",
      "  return err.T @ err\n"
     ]
    },
    {
     "name": "stdout",
     "output_type": "stream",
     "text": [
      "Checking for {'alpha': 0.4, 'beta': 0.4, 'gamma': 0.2}\n",
      "Checking for {'alpha': 0.4, 'beta': 0.4, 'gamma': 0.3}\n"
     ]
    },
    {
     "name": "stderr",
     "output_type": "stream",
     "text": [
      "C:\\Users\\ashis\\anaconda3\\lib\\site-packages\\statsmodels\\tsa\\base\\tsa_model.py:471: ValueWarning: No frequency information was provided, so inferred frequency MS will be used.\n",
      "  self._init_dates(dates, freq)\n",
      "<ipython-input-99-a79327837820>:20: FutureWarning: the 'smoothing_slope'' keyword is deprecated, use 'smoothing_trend' instead\n",
      "  model.fit(smoothing_level=a, smoothing_slope=b, smoothing_seasonal=g)\n",
      "C:\\Users\\ashis\\anaconda3\\lib\\site-packages\\statsmodels\\tsa\\holtwinters\\model.py:83: RuntimeWarning: overflow encountered in matmul\n",
      "  return err.T @ err\n",
      "C:\\Users\\ashis\\anaconda3\\lib\\site-packages\\statsmodels\\tsa\\base\\tsa_model.py:471: ValueWarning: No frequency information was provided, so inferred frequency MS will be used.\n",
      "  self._init_dates(dates, freq)\n"
     ]
    },
    {
     "name": "stdout",
     "output_type": "stream",
     "text": [
      "Checking for {'alpha': 0.4, 'beta': 0.4, 'gamma': 0.4}\n",
      "Checking for {'alpha': 0.4, 'beta': 0.4, 'gamma': 0.5}\n"
     ]
    },
    {
     "name": "stderr",
     "output_type": "stream",
     "text": [
      "<ipython-input-99-a79327837820>:20: FutureWarning: the 'smoothing_slope'' keyword is deprecated, use 'smoothing_trend' instead\n",
      "  model.fit(smoothing_level=a, smoothing_slope=b, smoothing_seasonal=g)\n",
      "C:\\Users\\ashis\\anaconda3\\lib\\site-packages\\statsmodels\\tsa\\holtwinters\\model.py:83: RuntimeWarning: overflow encountered in matmul\n",
      "  return err.T @ err\n",
      "C:\\Users\\ashis\\anaconda3\\lib\\site-packages\\statsmodels\\tsa\\base\\tsa_model.py:471: ValueWarning: No frequency information was provided, so inferred frequency MS will be used.\n",
      "  self._init_dates(dates, freq)\n",
      "<ipython-input-99-a79327837820>:20: FutureWarning: the 'smoothing_slope'' keyword is deprecated, use 'smoothing_trend' instead\n",
      "  model.fit(smoothing_level=a, smoothing_slope=b, smoothing_seasonal=g)\n",
      "C:\\Users\\ashis\\anaconda3\\lib\\site-packages\\statsmodels\\tsa\\holtwinters\\model.py:915: ConvergenceWarning: Optimization failed to converge. Check mle_retvals.\n",
      "  warnings.warn(\n"
     ]
    },
    {
     "name": "stdout",
     "output_type": "stream",
     "text": [
      "Checking for {'alpha': 0.4, 'beta': 0.5, 'gamma': 0.1}\n",
      "Checking for {'alpha': 0.4, 'beta': 0.5, 'gamma': 0.2}\n"
     ]
    },
    {
     "name": "stderr",
     "output_type": "stream",
     "text": [
      "C:\\Users\\ashis\\anaconda3\\lib\\site-packages\\statsmodels\\tsa\\base\\tsa_model.py:471: ValueWarning: No frequency information was provided, so inferred frequency MS will be used.\n",
      "  self._init_dates(dates, freq)\n",
      "<ipython-input-99-a79327837820>:20: FutureWarning: the 'smoothing_slope'' keyword is deprecated, use 'smoothing_trend' instead\n",
      "  model.fit(smoothing_level=a, smoothing_slope=b, smoothing_seasonal=g)\n",
      "C:\\Users\\ashis\\anaconda3\\lib\\site-packages\\statsmodels\\tsa\\holtwinters\\model.py:83: RuntimeWarning: overflow encountered in matmul\n",
      "  return err.T @ err\n",
      "C:\\Users\\ashis\\anaconda3\\lib\\site-packages\\statsmodels\\tsa\\base\\tsa_model.py:471: ValueWarning: No frequency information was provided, so inferred frequency MS will be used.\n",
      "  self._init_dates(dates, freq)\n",
      "<ipython-input-99-a79327837820>:20: FutureWarning: the 'smoothing_slope'' keyword is deprecated, use 'smoothing_trend' instead\n",
      "  model.fit(smoothing_level=a, smoothing_slope=b, smoothing_seasonal=g)\n",
      "C:\\Users\\ashis\\anaconda3\\lib\\site-packages\\statsmodels\\tsa\\holtwinters\\model.py:83: RuntimeWarning: overflow encountered in matmul\n",
      "  return err.T @ err\n",
      "C:\\Users\\ashis\\anaconda3\\lib\\site-packages\\statsmodels\\tsa\\base\\tsa_model.py:471: ValueWarning: No frequency information was provided, so inferred frequency MS will be used.\n",
      "  self._init_dates(dates, freq)\n",
      "<ipython-input-99-a79327837820>:20: FutureWarning: the 'smoothing_slope'' keyword is deprecated, use 'smoothing_trend' instead\n",
      "  model.fit(smoothing_level=a, smoothing_slope=b, smoothing_seasonal=g)\n",
      "C:\\Users\\ashis\\anaconda3\\lib\\site-packages\\statsmodels\\tsa\\holtwinters\\model.py:83: RuntimeWarning: overflow encountered in matmul\n",
      "  return err.T @ err\n"
     ]
    },
    {
     "name": "stdout",
     "output_type": "stream",
     "text": [
      "Checking for {'alpha': 0.4, 'beta': 0.5, 'gamma': 0.3}\n"
     ]
    },
    {
     "name": "stderr",
     "output_type": "stream",
     "text": [
      "C:\\Users\\ashis\\anaconda3\\lib\\site-packages\\statsmodels\\tsa\\holtwinters\\model.py:915: ConvergenceWarning: Optimization failed to converge. Check mle_retvals.\n",
      "  warnings.warn(\n",
      "C:\\Users\\ashis\\anaconda3\\lib\\site-packages\\statsmodels\\tsa\\base\\tsa_model.py:471: ValueWarning: No frequency information was provided, so inferred frequency MS will be used.\n",
      "  self._init_dates(dates, freq)\n",
      "<ipython-input-99-a79327837820>:20: FutureWarning: the 'smoothing_slope'' keyword is deprecated, use 'smoothing_trend' instead\n",
      "  model.fit(smoothing_level=a, smoothing_slope=b, smoothing_seasonal=g)\n",
      "C:\\Users\\ashis\\anaconda3\\lib\\site-packages\\statsmodels\\tsa\\holtwinters\\model.py:915: ConvergenceWarning: Optimization failed to converge. Check mle_retvals.\n",
      "  warnings.warn(\n",
      "C:\\Users\\ashis\\anaconda3\\lib\\site-packages\\statsmodels\\tsa\\base\\tsa_model.py:471: ValueWarning: No frequency information was provided, so inferred frequency MS will be used.\n",
      "  self._init_dates(dates, freq)\n",
      "<ipython-input-99-a79327837820>:20: FutureWarning: the 'smoothing_slope'' keyword is deprecated, use 'smoothing_trend' instead\n",
      "  model.fit(smoothing_level=a, smoothing_slope=b, smoothing_seasonal=g)\n",
      "C:\\Users\\ashis\\anaconda3\\lib\\site-packages\\statsmodels\\tsa\\holtwinters\\model.py:915: ConvergenceWarning: Optimization failed to converge. Check mle_retvals.\n",
      "  warnings.warn(\n"
     ]
    },
    {
     "name": "stdout",
     "output_type": "stream",
     "text": [
      "Checking for {'alpha': 0.4, 'beta': 0.5, 'gamma': 0.4}\n",
      "Checking for {'alpha': 0.4, 'beta': 0.5, 'gamma': 0.5}\n",
      "Checking for {'alpha': 0.5, 'beta': 0.1, 'gamma': 0.1}\n"
     ]
    },
    {
     "name": "stderr",
     "output_type": "stream",
     "text": [
      "C:\\Users\\ashis\\anaconda3\\lib\\site-packages\\statsmodels\\tsa\\base\\tsa_model.py:471: ValueWarning: No frequency information was provided, so inferred frequency MS will be used.\n",
      "  self._init_dates(dates, freq)\n",
      "<ipython-input-99-a79327837820>:20: FutureWarning: the 'smoothing_slope'' keyword is deprecated, use 'smoothing_trend' instead\n",
      "  model.fit(smoothing_level=a, smoothing_slope=b, smoothing_seasonal=g)\n",
      "C:\\Users\\ashis\\anaconda3\\lib\\site-packages\\statsmodels\\tsa\\holtwinters\\model.py:83: RuntimeWarning: overflow encountered in matmul\n",
      "  return err.T @ err\n",
      "C:\\Users\\ashis\\anaconda3\\lib\\site-packages\\statsmodels\\tsa\\base\\tsa_model.py:471: ValueWarning: No frequency information was provided, so inferred frequency MS will be used.\n",
      "  self._init_dates(dates, freq)\n",
      "<ipython-input-99-a79327837820>:20: FutureWarning: the 'smoothing_slope'' keyword is deprecated, use 'smoothing_trend' instead\n",
      "  model.fit(smoothing_level=a, smoothing_slope=b, smoothing_seasonal=g)\n",
      "C:\\Users\\ashis\\anaconda3\\lib\\site-packages\\statsmodels\\tsa\\holtwinters\\model.py:83: RuntimeWarning: overflow encountered in matmul\n",
      "  return err.T @ err\n"
     ]
    },
    {
     "name": "stdout",
     "output_type": "stream",
     "text": [
      "Checking for {'alpha': 0.5, 'beta': 0.1, 'gamma': 0.2}\n",
      "Checking for {'alpha': 0.5, 'beta': 0.1, 'gamma': 0.3}\n"
     ]
    },
    {
     "name": "stderr",
     "output_type": "stream",
     "text": [
      "C:\\Users\\ashis\\anaconda3\\lib\\site-packages\\statsmodels\\tsa\\base\\tsa_model.py:471: ValueWarning: No frequency information was provided, so inferred frequency MS will be used.\n",
      "  self._init_dates(dates, freq)\n",
      "<ipython-input-99-a79327837820>:20: FutureWarning: the 'smoothing_slope'' keyword is deprecated, use 'smoothing_trend' instead\n",
      "  model.fit(smoothing_level=a, smoothing_slope=b, smoothing_seasonal=g)\n",
      "C:\\Users\\ashis\\anaconda3\\lib\\site-packages\\statsmodels\\tsa\\holtwinters\\model.py:83: RuntimeWarning: overflow encountered in matmul\n",
      "  return err.T @ err\n",
      "C:\\Users\\ashis\\anaconda3\\lib\\site-packages\\statsmodels\\tsa\\base\\tsa_model.py:471: ValueWarning: No frequency information was provided, so inferred frequency MS will be used.\n",
      "  self._init_dates(dates, freq)\n",
      "<ipython-input-99-a79327837820>:20: FutureWarning: the 'smoothing_slope'' keyword is deprecated, use 'smoothing_trend' instead\n",
      "  model.fit(smoothing_level=a, smoothing_slope=b, smoothing_seasonal=g)\n",
      "C:\\Users\\ashis\\anaconda3\\lib\\site-packages\\statsmodels\\tsa\\holtwinters\\model.py:83: RuntimeWarning: overflow encountered in matmul\n",
      "  return err.T @ err\n",
      "C:\\Users\\ashis\\anaconda3\\lib\\site-packages\\statsmodels\\tsa\\base\\tsa_model.py:471: ValueWarning: No frequency information was provided, so inferred frequency MS will be used.\n",
      "  self._init_dates(dates, freq)\n"
     ]
    },
    {
     "name": "stdout",
     "output_type": "stream",
     "text": [
      "Checking for {'alpha': 0.5, 'beta': 0.1, 'gamma': 0.4}\n",
      "Checking for {'alpha': 0.5, 'beta': 0.1, 'gamma': 0.5}\n",
      "Checking for {'alpha': 0.5, 'beta': 0.2, 'gamma': 0.1}\n"
     ]
    },
    {
     "name": "stderr",
     "output_type": "stream",
     "text": [
      "<ipython-input-99-a79327837820>:20: FutureWarning: the 'smoothing_slope'' keyword is deprecated, use 'smoothing_trend' instead\n",
      "  model.fit(smoothing_level=a, smoothing_slope=b, smoothing_seasonal=g)\n",
      "C:\\Users\\ashis\\anaconda3\\lib\\site-packages\\statsmodels\\tsa\\holtwinters\\model.py:83: RuntimeWarning: overflow encountered in matmul\n",
      "  return err.T @ err\n",
      "C:\\Users\\ashis\\anaconda3\\lib\\site-packages\\statsmodels\\tsa\\base\\tsa_model.py:471: ValueWarning: No frequency information was provided, so inferred frequency MS will be used.\n",
      "  self._init_dates(dates, freq)\n",
      "<ipython-input-99-a79327837820>:20: FutureWarning: the 'smoothing_slope'' keyword is deprecated, use 'smoothing_trend' instead\n",
      "  model.fit(smoothing_level=a, smoothing_slope=b, smoothing_seasonal=g)\n",
      "C:\\Users\\ashis\\anaconda3\\lib\\site-packages\\statsmodels\\tsa\\holtwinters\\model.py:83: RuntimeWarning: overflow encountered in matmul\n",
      "  return err.T @ err\n",
      "C:\\Users\\ashis\\anaconda3\\lib\\site-packages\\statsmodels\\tsa\\base\\tsa_model.py:471: ValueWarning: No frequency information was provided, so inferred frequency MS will be used.\n",
      "  self._init_dates(dates, freq)\n"
     ]
    },
    {
     "name": "stdout",
     "output_type": "stream",
     "text": [
      "Checking for {'alpha': 0.5, 'beta': 0.2, 'gamma': 0.2}\n",
      "Checking for {'alpha': 0.5, 'beta': 0.2, 'gamma': 0.3}\n"
     ]
    },
    {
     "name": "stderr",
     "output_type": "stream",
     "text": [
      "<ipython-input-99-a79327837820>:20: FutureWarning: the 'smoothing_slope'' keyword is deprecated, use 'smoothing_trend' instead\n",
      "  model.fit(smoothing_level=a, smoothing_slope=b, smoothing_seasonal=g)\n",
      "C:\\Users\\ashis\\anaconda3\\lib\\site-packages\\statsmodels\\tsa\\holtwinters\\model.py:83: RuntimeWarning: overflow encountered in matmul\n",
      "  return err.T @ err\n",
      "C:\\Users\\ashis\\anaconda3\\lib\\site-packages\\statsmodels\\tsa\\base\\tsa_model.py:471: ValueWarning: No frequency information was provided, so inferred frequency MS will be used.\n",
      "  self._init_dates(dates, freq)\n",
      "<ipython-input-99-a79327837820>:20: FutureWarning: the 'smoothing_slope'' keyword is deprecated, use 'smoothing_trend' instead\n",
      "  model.fit(smoothing_level=a, smoothing_slope=b, smoothing_seasonal=g)\n",
      "C:\\Users\\ashis\\anaconda3\\lib\\site-packages\\statsmodels\\tsa\\holtwinters\\model.py:83: RuntimeWarning: overflow encountered in matmul\n",
      "  return err.T @ err\n"
     ]
    },
    {
     "name": "stdout",
     "output_type": "stream",
     "text": [
      "Checking for {'alpha': 0.5, 'beta': 0.2, 'gamma': 0.4}\n",
      "Checking for {'alpha': 0.5, 'beta': 0.2, 'gamma': 0.5}\n"
     ]
    },
    {
     "name": "stderr",
     "output_type": "stream",
     "text": [
      "C:\\Users\\ashis\\anaconda3\\lib\\site-packages\\statsmodels\\tsa\\base\\tsa_model.py:471: ValueWarning: No frequency information was provided, so inferred frequency MS will be used.\n",
      "  self._init_dates(dates, freq)\n",
      "<ipython-input-99-a79327837820>:20: FutureWarning: the 'smoothing_slope'' keyword is deprecated, use 'smoothing_trend' instead\n",
      "  model.fit(smoothing_level=a, smoothing_slope=b, smoothing_seasonal=g)\n",
      "C:\\Users\\ashis\\anaconda3\\lib\\site-packages\\statsmodels\\tsa\\holtwinters\\model.py:83: RuntimeWarning: overflow encountered in matmul\n",
      "  return err.T @ err\n",
      "C:\\Users\\ashis\\anaconda3\\lib\\site-packages\\statsmodels\\tsa\\base\\tsa_model.py:471: ValueWarning: No frequency information was provided, so inferred frequency MS will be used.\n",
      "  self._init_dates(dates, freq)\n",
      "<ipython-input-99-a79327837820>:20: FutureWarning: the 'smoothing_slope'' keyword is deprecated, use 'smoothing_trend' instead\n",
      "  model.fit(smoothing_level=a, smoothing_slope=b, smoothing_seasonal=g)\n",
      "C:\\Users\\ashis\\anaconda3\\lib\\site-packages\\statsmodels\\tsa\\holtwinters\\model.py:83: RuntimeWarning: overflow encountered in matmul\n",
      "  return err.T @ err\n",
      "C:\\Users\\ashis\\anaconda3\\lib\\site-packages\\statsmodels\\tsa\\base\\tsa_model.py:471: ValueWarning: No frequency information was provided, so inferred frequency MS will be used.\n",
      "  self._init_dates(dates, freq)\n",
      "<ipython-input-99-a79327837820>:20: FutureWarning: the 'smoothing_slope'' keyword is deprecated, use 'smoothing_trend' instead\n",
      "  model.fit(smoothing_level=a, smoothing_slope=b, smoothing_seasonal=g)\n",
      "C:\\Users\\ashis\\anaconda3\\lib\\site-packages\\statsmodels\\tsa\\holtwinters\\model.py:83: RuntimeWarning: overflow encountered in matmul\n",
      "  return err.T @ err\n"
     ]
    },
    {
     "name": "stdout",
     "output_type": "stream",
     "text": [
      "Checking for {'alpha': 0.5, 'beta': 0.3, 'gamma': 0.1}\n",
      "Checking for {'alpha': 0.5, 'beta': 0.3, 'gamma': 0.2}\n"
     ]
    },
    {
     "name": "stderr",
     "output_type": "stream",
     "text": [
      "C:\\Users\\ashis\\anaconda3\\lib\\site-packages\\statsmodels\\tsa\\base\\tsa_model.py:471: ValueWarning: No frequency information was provided, so inferred frequency MS will be used.\n",
      "  self._init_dates(dates, freq)\n",
      "<ipython-input-99-a79327837820>:20: FutureWarning: the 'smoothing_slope'' keyword is deprecated, use 'smoothing_trend' instead\n",
      "  model.fit(smoothing_level=a, smoothing_slope=b, smoothing_seasonal=g)\n",
      "C:\\Users\\ashis\\anaconda3\\lib\\site-packages\\statsmodels\\tsa\\holtwinters\\model.py:83: RuntimeWarning: overflow encountered in matmul\n",
      "  return err.T @ err\n",
      "C:\\Users\\ashis\\anaconda3\\lib\\site-packages\\statsmodels\\tsa\\base\\tsa_model.py:471: ValueWarning: No frequency information was provided, so inferred frequency MS will be used.\n",
      "  self._init_dates(dates, freq)\n",
      "<ipython-input-99-a79327837820>:20: FutureWarning: the 'smoothing_slope'' keyword is deprecated, use 'smoothing_trend' instead\n",
      "  model.fit(smoothing_level=a, smoothing_slope=b, smoothing_seasonal=g)\n",
      "C:\\Users\\ashis\\anaconda3\\lib\\site-packages\\statsmodels\\tsa\\holtwinters\\model.py:83: RuntimeWarning: overflow encountered in matmul\n",
      "  return err.T @ err\n"
     ]
    },
    {
     "name": "stdout",
     "output_type": "stream",
     "text": [
      "Checking for {'alpha': 0.5, 'beta': 0.3, 'gamma': 0.3}\n",
      "Checking for {'alpha': 0.5, 'beta': 0.3, 'gamma': 0.4}\n"
     ]
    },
    {
     "name": "stderr",
     "output_type": "stream",
     "text": [
      "C:\\Users\\ashis\\anaconda3\\lib\\site-packages\\statsmodels\\tsa\\base\\tsa_model.py:471: ValueWarning: No frequency information was provided, so inferred frequency MS will be used.\n",
      "  self._init_dates(dates, freq)\n",
      "<ipython-input-99-a79327837820>:20: FutureWarning: the 'smoothing_slope'' keyword is deprecated, use 'smoothing_trend' instead\n",
      "  model.fit(smoothing_level=a, smoothing_slope=b, smoothing_seasonal=g)\n",
      "C:\\Users\\ashis\\anaconda3\\lib\\site-packages\\statsmodels\\tsa\\holtwinters\\model.py:83: RuntimeWarning: overflow encountered in matmul\n",
      "  return err.T @ err\n",
      "C:\\Users\\ashis\\anaconda3\\lib\\site-packages\\statsmodels\\tsa\\base\\tsa_model.py:471: ValueWarning: No frequency information was provided, so inferred frequency MS will be used.\n",
      "  self._init_dates(dates, freq)\n",
      "<ipython-input-99-a79327837820>:20: FutureWarning: the 'smoothing_slope'' keyword is deprecated, use 'smoothing_trend' instead\n",
      "  model.fit(smoothing_level=a, smoothing_slope=b, smoothing_seasonal=g)\n",
      "C:\\Users\\ashis\\anaconda3\\lib\\site-packages\\statsmodels\\tsa\\holtwinters\\model.py:83: RuntimeWarning: overflow encountered in matmul\n",
      "  return err.T @ err\n"
     ]
    },
    {
     "name": "stdout",
     "output_type": "stream",
     "text": [
      "Checking for {'alpha': 0.5, 'beta': 0.3, 'gamma': 0.5}\n"
     ]
    },
    {
     "name": "stderr",
     "output_type": "stream",
     "text": [
      "C:\\Users\\ashis\\anaconda3\\lib\\site-packages\\statsmodels\\tsa\\holtwinters\\model.py:915: ConvergenceWarning: Optimization failed to converge. Check mle_retvals.\n",
      "  warnings.warn(\n",
      "C:\\Users\\ashis\\anaconda3\\lib\\site-packages\\statsmodels\\tsa\\base\\tsa_model.py:471: ValueWarning: No frequency information was provided, so inferred frequency MS will be used.\n",
      "  self._init_dates(dates, freq)\n",
      "<ipython-input-99-a79327837820>:20: FutureWarning: the 'smoothing_slope'' keyword is deprecated, use 'smoothing_trend' instead\n",
      "  model.fit(smoothing_level=a, smoothing_slope=b, smoothing_seasonal=g)\n",
      "C:\\Users\\ashis\\anaconda3\\lib\\site-packages\\statsmodels\\tsa\\holtwinters\\model.py:83: RuntimeWarning: overflow encountered in matmul\n",
      "  return err.T @ err\n",
      "C:\\Users\\ashis\\anaconda3\\lib\\site-packages\\statsmodels\\tsa\\base\\tsa_model.py:471: ValueWarning: No frequency information was provided, so inferred frequency MS will be used.\n",
      "  self._init_dates(dates, freq)\n"
     ]
    },
    {
     "name": "stdout",
     "output_type": "stream",
     "text": [
      "Checking for {'alpha': 0.5, 'beta': 0.4, 'gamma': 0.1}\n",
      "Checking for {'alpha': 0.5, 'beta': 0.4, 'gamma': 0.2}\n"
     ]
    },
    {
     "name": "stderr",
     "output_type": "stream",
     "text": [
      "<ipython-input-99-a79327837820>:20: FutureWarning: the 'smoothing_slope'' keyword is deprecated, use 'smoothing_trend' instead\n",
      "  model.fit(smoothing_level=a, smoothing_slope=b, smoothing_seasonal=g)\n",
      "C:\\Users\\ashis\\anaconda3\\lib\\site-packages\\statsmodels\\tsa\\holtwinters\\model.py:83: RuntimeWarning: overflow encountered in matmul\n",
      "  return err.T @ err\n",
      "C:\\Users\\ashis\\anaconda3\\lib\\site-packages\\statsmodels\\tsa\\base\\tsa_model.py:471: ValueWarning: No frequency information was provided, so inferred frequency MS will be used.\n",
      "  self._init_dates(dates, freq)\n",
      "<ipython-input-99-a79327837820>:20: FutureWarning: the 'smoothing_slope'' keyword is deprecated, use 'smoothing_trend' instead\n",
      "  model.fit(smoothing_level=a, smoothing_slope=b, smoothing_seasonal=g)\n"
     ]
    },
    {
     "name": "stdout",
     "output_type": "stream",
     "text": [
      "Checking for {'alpha': 0.5, 'beta': 0.4, 'gamma': 0.3}\n"
     ]
    },
    {
     "name": "stderr",
     "output_type": "stream",
     "text": [
      "C:\\Users\\ashis\\anaconda3\\lib\\site-packages\\statsmodels\\tsa\\holtwinters\\model.py:83: RuntimeWarning: overflow encountered in matmul\n",
      "  return err.T @ err\n"
     ]
    },
    {
     "name": "stdout",
     "output_type": "stream",
     "text": [
      "Checking for {'alpha': 0.5, 'beta': 0.4, 'gamma': 0.4}\n",
      "Checking for {'alpha': 0.5, 'beta': 0.4, 'gamma': 0.5}\n",
      "Checking for {'alpha': 0.5, 'beta': 0.5, 'gamma': 0.1}\n"
     ]
    },
    {
     "name": "stderr",
     "output_type": "stream",
     "text": [
      "C:\\Users\\ashis\\anaconda3\\lib\\site-packages\\statsmodels\\tsa\\base\\tsa_model.py:471: ValueWarning: No frequency information was provided, so inferred frequency MS will be used.\n",
      "  self._init_dates(dates, freq)\n",
      "<ipython-input-99-a79327837820>:20: FutureWarning: the 'smoothing_slope'' keyword is deprecated, use 'smoothing_trend' instead\n",
      "  model.fit(smoothing_level=a, smoothing_slope=b, smoothing_seasonal=g)\n",
      "C:\\Users\\ashis\\anaconda3\\lib\\site-packages\\statsmodels\\tsa\\holtwinters\\model.py:915: ConvergenceWarning: Optimization failed to converge. Check mle_retvals.\n",
      "  warnings.warn(\n",
      "C:\\Users\\ashis\\anaconda3\\lib\\site-packages\\statsmodels\\tsa\\base\\tsa_model.py:471: ValueWarning: No frequency information was provided, so inferred frequency MS will be used.\n",
      "  self._init_dates(dates, freq)\n",
      "<ipython-input-99-a79327837820>:20: FutureWarning: the 'smoothing_slope'' keyword is deprecated, use 'smoothing_trend' instead\n",
      "  model.fit(smoothing_level=a, smoothing_slope=b, smoothing_seasonal=g)\n",
      "C:\\Users\\ashis\\anaconda3\\lib\\site-packages\\statsmodels\\tsa\\holtwinters\\model.py:915: ConvergenceWarning: Optimization failed to converge. Check mle_retvals.\n",
      "  warnings.warn(\n",
      "C:\\Users\\ashis\\anaconda3\\lib\\site-packages\\statsmodels\\tsa\\base\\tsa_model.py:471: ValueWarning: No frequency information was provided, so inferred frequency MS will be used.\n",
      "  self._init_dates(dates, freq)\n",
      "<ipython-input-99-a79327837820>:20: FutureWarning: the 'smoothing_slope'' keyword is deprecated, use 'smoothing_trend' instead\n",
      "  model.fit(smoothing_level=a, smoothing_slope=b, smoothing_seasonal=g)\n",
      "C:\\Users\\ashis\\anaconda3\\lib\\site-packages\\statsmodels\\tsa\\holtwinters\\model.py:83: RuntimeWarning: overflow encountered in matmul\n",
      "  return err.T @ err\n"
     ]
    },
    {
     "name": "stdout",
     "output_type": "stream",
     "text": [
      "Checking for {'alpha': 0.5, 'beta': 0.5, 'gamma': 0.2}\n",
      "Checking for {'alpha': 0.5, 'beta': 0.5, 'gamma': 0.3}\n",
      "Checking for {'alpha': 0.5, 'beta': 0.5, 'gamma': 0.4}\n",
      "Checking for {'alpha': 0.5, 'beta': 0.5, 'gamma': 0.5}\n"
     ]
    },
    {
     "name": "stderr",
     "output_type": "stream",
     "text": [
      "C:\\Users\\ashis\\anaconda3\\lib\\site-packages\\statsmodels\\tsa\\base\\tsa_model.py:471: ValueWarning: No frequency information was provided, so inferred frequency MS will be used.\n",
      "  self._init_dates(dates, freq)\n",
      "<ipython-input-99-a79327837820>:20: FutureWarning: the 'smoothing_slope'' keyword is deprecated, use 'smoothing_trend' instead\n",
      "  model.fit(smoothing_level=a, smoothing_slope=b, smoothing_seasonal=g)\n",
      "C:\\Users\\ashis\\anaconda3\\lib\\site-packages\\statsmodels\\tsa\\holtwinters\\model.py:83: RuntimeWarning: overflow encountered in matmul\n",
      "  return err.T @ err\n",
      "C:\\Users\\ashis\\anaconda3\\lib\\site-packages\\statsmodels\\tsa\\base\\tsa_model.py:471: ValueWarning: No frequency information was provided, so inferred frequency MS will be used.\n",
      "  self._init_dates(dates, freq)\n",
      "<ipython-input-99-a79327837820>:20: FutureWarning: the 'smoothing_slope'' keyword is deprecated, use 'smoothing_trend' instead\n",
      "  model.fit(smoothing_level=a, smoothing_slope=b, smoothing_seasonal=g)\n",
      "C:\\Users\\ashis\\anaconda3\\lib\\site-packages\\statsmodels\\tsa\\holtwinters\\model.py:915: ConvergenceWarning: Optimization failed to converge. Check mle_retvals.\n",
      "  warnings.warn(\n",
      "C:\\Users\\ashis\\anaconda3\\lib\\site-packages\\statsmodels\\tsa\\base\\tsa_model.py:471: ValueWarning: No frequency information was provided, so inferred frequency MS will be used.\n",
      "  self._init_dates(dates, freq)\n",
      "<ipython-input-99-a79327837820>:20: FutureWarning: the 'smoothing_slope'' keyword is deprecated, use 'smoothing_trend' instead\n",
      "  model.fit(smoothing_level=a, smoothing_slope=b, smoothing_seasonal=g)\n",
      "C:\\Users\\ashis\\anaconda3\\lib\\site-packages\\statsmodels\\tsa\\holtwinters\\model.py:915: ConvergenceWarning: Optimization failed to converge. Check mle_retvals.\n",
      "  warnings.warn(\n",
      "C:\\Users\\ashis\\anaconda3\\lib\\site-packages\\statsmodels\\tsa\\base\\tsa_model.py:471: ValueWarning: No frequency information was provided, so inferred frequency MS will be used.\n",
      "  self._init_dates(dates, freq)\n",
      "<ipython-input-99-a79327837820>:20: FutureWarning: the 'smoothing_slope'' keyword is deprecated, use 'smoothing_trend' instead\n",
      "  model.fit(smoothing_level=a, smoothing_slope=b, smoothing_seasonal=g)\n",
      "C:\\Users\\ashis\\anaconda3\\lib\\site-packages\\statsmodels\\tsa\\holtwinters\\model.py:915: ConvergenceWarning: Optimization failed to converge. Check mle_retvals.\n",
      "  warnings.warn(\n"
     ]
    },
    {
     "data": {
      "text/plain": [
       "{'alpha': 0.1, 'beta': 0.5, 'gamma': 0.2, 'mae': array(0.01382954)}"
      ]
     },
     "execution_count": 114,
     "metadata": {},
     "output_type": "execute_result"
    }
   ],
   "source": [
    "auto_hwm(ts, val_split_date = '2018-12-02', alpha = [0.1, 0.2, 0.3,0.4, 0.5],\n",
    "              beta = [0.1, 0.2, 0.3,0.4, 0.5], gamma = [0.1, 0.2, 0.3,0.4, 0.5], \n",
    "                 trend='mul', seasonal='mul', periods=12, verbose=True)\n",
    "# Till 2018-12-01 we used this for model build ."
   ]
  },
  {
   "cell_type": "code",
   "execution_count": 50,
   "id": "d1b05f9c",
   "metadata": {},
   "outputs": [
    {
     "name": "stderr",
     "output_type": "stream",
     "text": [
      "C:\\Users\\ashis\\anaconda3\\lib\\site-packages\\statsmodels\\tsa\\base\\tsa_model.py:471: ValueWarning: No frequency information was provided, so inferred frequency MS will be used.\n",
      "  self._init_dates(dates, freq)\n",
      "<ipython-input-50-22a79d14fef6>:8: FutureWarning: the 'smoothing_slope'' keyword is deprecated, use 'smoothing_trend' instead\n",
      "  ets_fit = ets_model.fit(smoothing_level=alpha, smoothing_slope=beta, smoothing_seasonal=gamma)\n",
      "C:\\Users\\ashis\\anaconda3\\lib\\site-packages\\statsmodels\\tsa\\holtwinters\\model.py:83: RuntimeWarning: overflow encountered in matmul\n",
      "  return err.T @ err\n"
     ]
    }
   ],
   "source": [
    "# our guessed parameters\n",
    "alpha = 0.1\n",
    "beta = 0.5\n",
    "gamma = 0.2\n",
    "\n",
    "# initialise model\n",
    "ets_model = ExponentialSmoothing(train, trend='mul', seasonal='mul', seasonal_periods=12)\n",
    "ets_fit = ets_model.fit(smoothing_level=alpha, smoothing_slope=beta, smoothing_seasonal=gamma)"
   ]
  },
  {
   "cell_type": "code",
   "execution_count": 51,
   "id": "1851ef8e",
   "metadata": {},
   "outputs": [
    {
     "data": {
      "text/plain": [
       "2019-01-01    104.353493\n",
       "2019-02-01     97.359285\n",
       "2019-03-01     93.349929\n",
       "2019-04-01     87.566307\n",
       "2019-05-01     93.306135\n",
       "2019-06-01    107.665092\n",
       "2019-07-01    118.734299\n",
       "2019-08-01    117.770829\n",
       "2019-09-01    105.537454\n",
       "Freq: MS, dtype: float64"
      ]
     },
     "execution_count": 51,
     "metadata": {},
     "output_type": "execute_result"
    }
   ],
   "source": [
    "fcast = ets_fit.forecast(steps=9)\n",
    "fcast"
   ]
  },
  {
   "cell_type": "code",
   "execution_count": 52,
   "id": "889bd0dc",
   "metadata": {},
   "outputs": [
    {
     "name": "stdout",
     "output_type": "stream",
     "text": [
      "MAPE_test: 0.029113876858864733\n",
      "RMSE_test: 3.836622979186576\n",
      "RMSPE_test: 0.03480106163142939\n"
     ]
    }
   ],
   "source": [
    "#forward testing\n",
    "print(\"MAPE_test:\", np.mean(np.abs(fcast - test)/test ))\n",
    "\n",
    "print(\"RMSE_test:\", np.sqrt( np.square(np.subtract(test,fcast ) ).mean() ))\n",
    "\n",
    "print(\"RMSPE_test:\", np.sqrt(np.mean(np.square(( (fcast - test)/test) ))) )"
   ]
  },
  {
   "cell_type": "code",
   "execution_count": 53,
   "id": "9ade0e79",
   "metadata": {},
   "outputs": [],
   "source": [
    "ETS_MAPE = np.mean(np.abs(fcast - test)/test )\n",
    "\n",
    "ETS_RMSE = np.sqrt( np.square(np.subtract(test,fcast ) ).mean() )\n",
    "\n",
    "ETS_RMSPE = np.sqrt(np.mean(np.square(( (fcast - test)/test) ))) "
   ]
  },
  {
   "cell_type": "code",
   "execution_count": 104,
   "id": "5299ac84",
   "metadata": {},
   "outputs": [],
   "source": [
    "### We are forecast the value using ETS Model :"
   ]
  },
  {
   "cell_type": "code",
   "execution_count": 105,
   "id": "ac253a8e",
   "metadata": {},
   "outputs": [
    {
     "name": "stderr",
     "output_type": "stream",
     "text": [
      "C:\\Users\\ashis\\anaconda3\\lib\\site-packages\\statsmodels\\tsa\\base\\tsa_model.py:471: ValueWarning: No frequency information was provided, so inferred frequency MS will be used.\n",
      "  self._init_dates(dates, freq)\n",
      "<ipython-input-105-7e45e354ba3b>:8: FutureWarning: the 'smoothing_slope'' keyword is deprecated, use 'smoothing_trend' instead\n",
      "  ets_fit_n = ets_model_n.fit(smoothing_level=alpha, smoothing_slope=beta, smoothing_seasonal=gamma)\n",
      "C:\\Users\\ashis\\anaconda3\\lib\\site-packages\\statsmodels\\tsa\\holtwinters\\model.py:83: RuntimeWarning: overflow encountered in matmul\n",
      "  return err.T @ err\n"
     ]
    }
   ],
   "source": [
    "# our guessed parameters\n",
    "alpha = 0.1\n",
    "beta = 0.5\n",
    "gamma = 0.2\n",
    "\n",
    "# initialise model\n",
    "ets_model_n = ExponentialSmoothing(ts, trend='mul', seasonal='mul', seasonal_periods=12)\n",
    "ets_fit_n = ets_model_n.fit(smoothing_level=alpha, smoothing_slope=beta, smoothing_seasonal=gamma)"
   ]
  },
  {
   "cell_type": "code",
   "execution_count": 106,
   "id": "7e6db106",
   "metadata": {},
   "outputs": [
    {
     "data": {
      "text/plain": [
       "2019-10-01     97.885534\n",
       "2019-11-01     96.114157\n",
       "2019-12-01    106.862572\n",
       "2020-01-01    113.859646\n",
       "2020-02-01    104.950195\n",
       "2020-03-01    101.142454\n",
       "2020-04-01     95.504681\n",
       "2020-05-01    102.693661\n",
       "2020-06-01    118.473478\n",
       "Freq: MS, dtype: float64"
      ]
     },
     "execution_count": 106,
     "metadata": {},
     "output_type": "execute_result"
    }
   ],
   "source": [
    "forecast_n = ets_fit_n.forecast(steps=9)\n",
    "forecast_n\n",
    "# we forecast using this model for next 24 months ."
   ]
  },
  {
   "cell_type": "markdown",
   "id": "096f8729",
   "metadata": {},
   "source": [
    "#### Plot which is showing future values :"
   ]
  },
  {
   "cell_type": "code",
   "execution_count": 107,
   "id": "fa9e1e7b",
   "metadata": {},
   "outputs": [
    {
     "data": {
      "text/plain": [
       "[<matplotlib.lines.Line2D at 0x2776d97c0a0>]"
      ]
     },
     "execution_count": 107,
     "metadata": {},
     "output_type": "execute_result"
    },
    {
     "data": {
      "image/png": "[encoded data removed]",
      "text/plain": [
       "<Figure size 432x288 with 1 Axes>"
      ]
     },
     "metadata": {
      "needs_background": "light"
     },
     "output_type": "display_data"
    }
   ],
   "source": [
    "plt.plot(ts, '--', label='obs')\n",
    "plt.plot(forecast_n, '-', label=forecast)"
   ]
  },
  {
   "cell_type": "markdown",
   "id": "8343e708",
   "metadata": {},
   "source": [
    "### <a>SARIMA :"
   ]
  },
  {
   "cell_type": "code",
   "execution_count": 54,
   "id": "1dd2bce7",
   "metadata": {},
   "outputs": [
    {
     "data": {
      "text/plain": [
       "<AxesSubplot:xlabel='DATE'>"
      ]
     },
     "execution_count": 54,
     "metadata": {},
     "output_type": "execute_result"
    },
    {
     "data": {
      "image/png": "[encoded data removed]",
      "text/plain": [
       "<Figure size 432x288 with 1 Axes>"
      ]
     },
     "metadata": {
      "needs_background": "light"
     },
     "output_type": "display_data"
    }
   ],
   "source": [
    "ts.plot()"
   ]
  },
  {
   "cell_type": "code",
   "execution_count": 55,
   "id": "96d58826",
   "metadata": {},
   "outputs": [
    {
     "data": {
      "text/plain": [
       "(-1.7405933729832284,\n",
       " 0.41032816044687603,\n",
       " 15,\n",
       " 545,\n",
       " {'1%': -3.442405720052601,\n",
       "  '5%': -2.866857804790472,\n",
       "  '10%': -2.5696022094099824},\n",
       " 2295.409663118043)"
      ]
     },
     "execution_count": 55,
     "metadata": {},
     "output_type": "execute_result"
    }
   ],
   "source": [
    "adfuller(ts) # It's a statsically test .\n",
    "# test stastics ,\n",
    "# p value .\n",
    "#p value < 0.05 then we can say that it's a stationary data , but here p vaue >0.05 so we need to do differencing here ."
   ]
  },
  {
   "cell_type": "code",
   "execution_count": 56,
   "id": "f07298a4",
   "metadata": {},
   "outputs": [
    {
     "data": {
      "text/plain": [
       "(-7.941665363981172,\n",
       " 3.3013438021516752e-12,\n",
       " 14,\n",
       " 545,\n",
       " {'1%': -3.442405720052601,\n",
       "  '5%': -2.866857804790472,\n",
       "  '10%': -2.5696022094099824},\n",
       " 2292.555416618966)"
      ]
     },
     "execution_count": 56,
     "metadata": {},
     "output_type": "execute_result"
    }
   ],
   "source": [
    "ts.diff(1).dropna() \n",
    "adfuller(ts.diff(1).dropna())     \n",
    "# Here we got p value < 0.05 , it's means ts.diff(1) is a stationary series"
   ]
  },
  {
   "cell_type": "code",
   "execution_count": 57,
   "id": "1e81f45e",
   "metadata": {},
   "outputs": [
    {
     "data": {
      "text/plain": [
       "(-6.8848097229178675,\n",
       " 1.4034181751310378e-09,\n",
       " 14,\n",
       " 545,\n",
       " {'1%': -3.442405720052601,\n",
       "  '5%': -2.866857804790472,\n",
       "  '10%': -2.5696022094099824},\n",
       " -2505.200358302891)"
      ]
     },
     "execution_count": 57,
     "metadata": {},
     "output_type": "execute_result"
    }
   ],
   "source": [
    "adfuller(np.log(ts).diff(1).dropna()) \n",
    "# we getting better p value with log ."
   ]
  },
  {
   "cell_type": "code",
   "execution_count": 58,
   "id": "7b24e3f2",
   "metadata": {},
   "outputs": [
    {
     "data": {
      "text/plain": [
       "<AxesSubplot:xlabel='DATE'>"
      ]
     },
     "execution_count": 58,
     "metadata": {},
     "output_type": "execute_result"
    },
    {
     "data": {
      "image/png": "[encoded data removed]",
      "text/plain": [
       "<Figure size 432x288 with 1 Axes>"
      ]
     },
     "metadata": {
      "needs_background": "light"
     },
     "output_type": "display_data"
    }
   ],
   "source": [
    "ts.diff(1).dropna().plot() \n",
    "# Here mean may be comstant over time but variance isn't ."
   ]
  },
  {
   "cell_type": "code",
   "execution_count": 59,
   "id": "6fc641f1",
   "metadata": {},
   "outputs": [],
   "source": [
    "ln_ts = np.log(ts)\n",
    "ln_ts_diff1 = ln_ts.diff(1).dropna()  # we need to drop null values then only we can use it to plot ."
   ]
  },
  {
   "cell_type": "code",
   "execution_count": 60,
   "id": "96db30c4",
   "metadata": {},
   "outputs": [
    {
     "data": {
      "text/plain": [
       "<AxesSubplot:xlabel='DATE'>"
      ]
     },
     "execution_count": 60,
     "metadata": {},
     "output_type": "execute_result"
    },
    {
     "data": {
      "image/png": "[encoded data removed]",
      "text/plain": [
       "<Figure size 432x288 with 1 Axes>"
      ]
     },
     "metadata": {
      "needs_background": "light"
     },
     "output_type": "display_data"
    }
   ],
   "source": [
    "ln_ts_diff1.plot()\n",
    "# Here mean and variance is constant over time ."
   ]
  },
  {
   "cell_type": "code",
   "execution_count": 61,
   "id": "4ec2c560",
   "metadata": {},
   "outputs": [],
   "source": [
    "from statsmodels.tsa.stattools import acf, pacf_ols"
   ]
  },
  {
   "cell_type": "code",
   "execution_count": 62,
   "id": "38110a36",
   "metadata": {},
   "outputs": [
    {
     "data": {
      "image/png": "[encoded data removed]",
      "text/plain": [
       "<Figure size 432x288 with 1 Axes>"
      ]
     },
     "execution_count": 62,
     "metadata": {},
     "output_type": "execute_result"
    },
    {
     "data": {
      "image/png": "[encoded data removed]",
      "text/plain": [
       "<Figure size 432x288 with 1 Axes>"
      ]
     },
     "metadata": {
      "needs_background": "light"
     },
     "output_type": "display_data"
    }
   ],
   "source": [
    "smt.graphics.plot_acf(ts, lags=24) \n",
    "# Auto corr fun\" - here we are doing it b/w ts & 24 lag i.e lag_24_yt\n",
    "# Non stationary series bcz none value is crossing zero or becoming zeros ."
   ]
  },
  {
   "cell_type": "code",
   "execution_count": 63,
   "id": "e87c7eed",
   "metadata": {},
   "outputs": [
    {
     "data": {
      "image/png": "[encoded data removed]",
      "text/plain": [
       "<Figure size 432x288 with 1 Axes>"
      ]
     },
     "execution_count": 63,
     "metadata": {},
     "output_type": "execute_result"
    },
    {
     "data": {
      "image/png": "[encoded data removed]",
      "text/plain": [
       "<Figure size 432x288 with 1 Axes>"
      ]
     },
     "metadata": {
      "needs_background": "light"
     },
     "output_type": "display_data"
    }
   ],
   "source": [
    "smt.graphics.plot_acf(ln_ts_diff1, lags=24)\n",
    "# here we see a pattern after every 12 months i.e. we can say it's seasonality ..\n",
    "# It's a stationary series bcz the value is crossing zeros then we can say this .\n",
    "# even u have ADF test to check for stationary series . but if u want to see u can see with plot .\n",
    "# q value will be 1."
   ]
  },
  {
   "cell_type": "code",
   "execution_count": 64,
   "id": "13f4f8d0",
   "metadata": {},
   "outputs": [
    {
     "data": {
      "image/png": "[encoded data removed]",
      "text/plain": [
       "<Figure size 432x288 with 1 Axes>"
      ]
     },
     "execution_count": 64,
     "metadata": {},
     "output_type": "execute_result"
    },
    {
     "data": {
      "image/png": "[encoded data removed]",
      "text/plain": [
       "<Figure size 432x288 with 1 Axes>"
      ]
     },
     "metadata": {
      "needs_background": "light"
     },
     "output_type": "display_data"
    }
   ],
   "source": [
    "smt.graphics.plot_pacf(ln_ts_diff1, lags=12, method='ols')\n",
    "#pacf used mainly for P value calculation .\n",
    "# p value will be 1."
   ]
  },
  {
   "cell_type": "code",
   "execution_count": 65,
   "id": "278c4bce",
   "metadata": {},
   "outputs": [
    {
     "data": {
      "text/plain": [
       "(-6.8848097229178675,\n",
       " 1.4034181751310378e-09,\n",
       " 14,\n",
       " 545,\n",
       " {'1%': -3.442405720052601,\n",
       "  '5%': -2.866857804790472,\n",
       "  '10%': -2.5696022094099824},\n",
       " -2505.200358302891)"
      ]
     },
     "execution_count": 65,
     "metadata": {},
     "output_type": "execute_result"
    }
   ],
   "source": [
    "adfuller(ln_ts.diff(1).dropna())"
   ]
  },
  {
   "cell_type": "raw",
   "id": "7c030a09",
   "metadata": {},
   "source": [
    "#Based on PACF - you can find the value of p =1, P=1\n",
    "\n",
    "#Box-Jenkins process - helps to get approximate values of p,d,q \n",
    "\n",
    "#using above p,d,q values, we will come up with ranges to check which value is best value\n",
    "\n",
    "#Model = SARIMA\n",
    "#Model input time series = ln_ts\n",
    "#(p,d,q) = (1,1,1)\n",
    "#(P,D,Q,T) = (1,0,1,12)"
   ]
  },
  {
   "cell_type": "code",
   "execution_count": 66,
   "id": "6fb3933c",
   "metadata": {},
   "outputs": [
    {
     "data": {
      "text/plain": [
       "DATE\n",
       "1973-01-01    3.582763\n",
       "1973-02-01    3.587218\n",
       "1973-03-01    3.557132\n",
       "1973-04-01    3.521691\n",
       "1973-05-01    3.511865\n",
       "                ...   \n",
       "2018-08-01    4.751094\n",
       "2018-09-01    4.638673\n",
       "2018-10-01    4.550177\n",
       "2018-11-01    4.520787\n",
       "2018-12-01    4.624858\n",
       "Name: Electricty_Consumption_in_TW, Length: 552, dtype: float64"
      ]
     },
     "execution_count": 66,
     "metadata": {},
     "output_type": "execute_result"
    }
   ],
   "source": [
    "ln_train = np.log(train)\n",
    "ln_train"
   ]
  },
  {
   "cell_type": "code",
   "execution_count": 67,
   "id": "a70271e4",
   "metadata": {},
   "outputs": [
    {
     "name": "stderr",
     "output_type": "stream",
     "text": [
      "C:\\Users\\ashis\\anaconda3\\lib\\site-packages\\statsmodels\\tsa\\base\\tsa_model.py:471: ValueWarning: No frequency information was provided, so inferred frequency MS will be used.\n",
      "  self._init_dates(dates, freq)\n",
      "C:\\Users\\ashis\\anaconda3\\lib\\site-packages\\statsmodels\\tsa\\base\\tsa_model.py:471: ValueWarning: No frequency information was provided, so inferred frequency MS will be used.\n",
      "  self._init_dates(dates, freq)\n"
     ]
    }
   ],
   "source": [
    "import statsmodels.api as sm\n",
    "\n",
    "model = sm.tsa.statespace.SARIMAX(ln_train, order = (1,1,1), seasonal_order= (1,0,1,12),\n",
    "                                             enforce_stationarity=False,\n",
    "                                             enforce_invertibility=False).fit()"
   ]
  },
  {
   "cell_type": "code",
   "execution_count": 68,
   "id": "dc964a3c",
   "metadata": {},
   "outputs": [
    {
     "name": "stdout",
     "output_type": "stream",
     "text": [
      "                                     SARIMAX Results                                      \n",
      "==========================================================================================\n",
      "Dep. Variable:       Electricty_Consumption_in_TW   No. Observations:                  552\n",
      "Model:             SARIMAX(1, 1, 1)x(1, 0, 1, 12)   Log Likelihood                1319.062\n",
      "Date:                            Tue, 28 Mar 2023   AIC                          -2628.124\n",
      "Time:                                    19:19:31   BIC                          -2606.694\n",
      "Sample:                                01-01-1973   HQIC                         -2619.741\n",
      "                                     - 12-01-2018                                         \n",
      "Covariance Type:                              opg                                         \n",
      "==============================================================================\n",
      "                 coef    std err          z      P>|z|      [0.025      0.975]\n",
      "------------------------------------------------------------------------------\n",
      "ar.L1          0.6204      0.054     11.404      0.000       0.514       0.727\n",
      "ma.L1         -0.8928      0.034    -26.342      0.000      -0.959      -0.826\n",
      "ar.S.L12       1.0074      0.003    368.462      0.000       1.002       1.013\n",
      "ma.S.L12      -0.8227      0.028    -29.258      0.000      -0.878      -0.768\n",
      "sigma2         0.0004   2.55e-05     16.450      0.000       0.000       0.000\n",
      "===================================================================================\n",
      "Ljung-Box (L1) (Q):                   1.33   Jarque-Bera (JB):                 1.67\n",
      "Prob(Q):                              0.25   Prob(JB):                         0.43\n",
      "Heteroskedasticity (H):               1.25   Skew:                             0.12\n",
      "Prob(H) (two-sided):                  0.14   Kurtosis:                         3.13\n",
      "===================================================================================\n",
      "\n",
      "Warnings:\n",
      "[1] Covariance matrix calculated using the outer product of gradients (complex-step).\n"
     ]
    }
   ],
   "source": [
    "print(model.summary())"
   ]
  },
  {
   "cell_type": "code",
   "execution_count": 69,
   "id": "d3ab84bb",
   "metadata": {},
   "outputs": [
    {
     "data": {
      "text/plain": [
       "2019-01-01    106.910533\n",
       "2019-02-01     99.066000\n",
       "2019-03-01     94.379524\n",
       "2019-04-01     88.013146\n",
       "2019-05-01     93.594486\n",
       "2019-06-01    108.150770\n",
       "2019-07-01    119.437751\n",
       "2019-08-01    118.538446\n",
       "2019-09-01    105.756694\n",
       "Freq: MS, Name: predicted_mean, dtype: float64"
      ]
     },
     "execution_count": 69,
     "metadata": {},
     "output_type": "execute_result"
    }
   ],
   "source": [
    "fcst = np.exp(model.forecast(9))\n",
    "fcst"
   ]
  },
  {
   "cell_type": "code",
   "execution_count": 70,
   "id": "52544798",
   "metadata": {},
   "outputs": [
    {
     "data": {
      "text/plain": [
       "DATE\n",
       "2019-01-01    111.8520\n",
       "2019-02-01     97.3261\n",
       "2019-03-01     93.8406\n",
       "2019-04-01     89.1873\n",
       "2019-05-01     97.5860\n",
       "2019-06-01    110.8580\n",
       "2019-07-01    122.1014\n",
       "2019-08-01    121.7765\n",
       "2019-09-01    109.7190\n",
       "Name: Electricty_Consumption_in_TW, dtype: float64"
      ]
     },
     "execution_count": 70,
     "metadata": {},
     "output_type": "execute_result"
    }
   ],
   "source": [
    "actual = (test)\n",
    "actual"
   ]
  },
  {
   "cell_type": "code",
   "execution_count": 71,
   "id": "81a66dd9",
   "metadata": {},
   "outputs": [
    {
     "name": "stdout",
     "output_type": "stream",
     "text": [
      "MAPE_test: 0.02564503167586124\n",
      "RMSE_test: 3.085010257489176\n",
      "RMSPE_test: 0.028351214395751386\n"
     ]
    }
   ],
   "source": [
    "#forward testing :\n",
    "\n",
    "print(\"MAPE_test:\", np.mean(np.abs(actual-fcst)/actual))\n",
    "\n",
    "print(\"RMSE_test:\", np.sqrt( np.square(np.subtract(actual,fcst ) ).mean() ))\n",
    "\n",
    "print(\"RMSPE_test:\", np.sqrt(np.mean(np.square(( (fcst - actual)/actual) ))) )\n",
    "\n",
    "# if any model give me less than 5 % error in MAPE it's good "
   ]
  },
  {
   "cell_type": "code",
   "execution_count": 72,
   "id": "26970507",
   "metadata": {},
   "outputs": [],
   "source": [
    "SARIMA_MAPE = np.mean(np.abs(fcast - test)/test )\n",
    "\n",
    "SARIMA_RMSE = np.sqrt( np.square(np.subtract(test,fcast ) ).mean() )\n",
    "\n",
    "SARIMA_RMSPE = np.sqrt(np.mean(np.square(( (fcast - test)/test) ))) "
   ]
  },
  {
   "cell_type": "code",
   "execution_count": 73,
   "id": "a6efac36",
   "metadata": {},
   "outputs": [],
   "source": [
    "#backward testing\n",
    "act = train['2018-12-01':]\n",
    "\n",
    "pred = np.exp(model.fittedvalues['2018-12-01':])"
   ]
  },
  {
   "cell_type": "code",
   "execution_count": 74,
   "id": "0dc0a12f",
   "metadata": {},
   "outputs": [],
   "source": [
    "pred = np.exp(model.fittedvalues)['2018-12-01':]\n",
    "act = np.exp(ln_ts)['2018-12-01':]"
   ]
  },
  {
   "cell_type": "code",
   "execution_count": 75,
   "id": "47cc018d",
   "metadata": {},
   "outputs": [
    {
     "name": "stdout",
     "output_type": "stream",
     "text": [
      "train_error_last9month: 0.004570373852922766\n"
     ]
    }
   ],
   "source": [
    "print('train_error_last9month:', np.mean(np.abs(act-pred)/act))"
   ]
  },
  {
   "cell_type": "code",
   "execution_count": 108,
   "id": "4b75b7ba",
   "metadata": {},
   "outputs": [],
   "source": [
    "### We are forecast the value using SARIMA Model :"
   ]
  },
  {
   "cell_type": "code",
   "execution_count": 100,
   "id": "7c68b049",
   "metadata": {},
   "outputs": [
    {
     "name": "stderr",
     "output_type": "stream",
     "text": [
      "C:\\Users\\ashis\\anaconda3\\lib\\site-packages\\statsmodels\\tsa\\base\\tsa_model.py:471: ValueWarning: No frequency information was provided, so inferred frequency MS will be used.\n",
      "  self._init_dates(dates, freq)\n",
      "C:\\Users\\ashis\\anaconda3\\lib\\site-packages\\statsmodels\\tsa\\base\\tsa_model.py:471: ValueWarning: No frequency information was provided, so inferred frequency MS will be used.\n",
      "  self._init_dates(dates, freq)\n"
     ]
    }
   ],
   "source": [
    "import statsmodels.api as sm\n",
    "\n",
    "model_n = sm.tsa.statespace.SARIMAX(ln_ts, order = (1,1,1), seasonal_order= (1,0,1,12),\n",
    "                                             enforce_stationarity=False,\n",
    "                                             enforce_invertibility=False).fit()"
   ]
  },
  {
   "cell_type": "code",
   "execution_count": 101,
   "id": "642faefe",
   "metadata": {},
   "outputs": [
    {
     "data": {
      "text/plain": [
       "2019-10-01     96.391325\n",
       "2019-11-01     93.769479\n",
       "2019-12-01    103.839150\n",
       "2020-01-01    109.987491\n",
       "2020-02-01    100.752704\n",
       "2020-03-01     96.225114\n",
       "2020-04-01     90.030982\n",
       "2020-05-01     96.327972\n",
       "2020-06-01    111.116305\n",
       "2020-07-01    122.771039\n",
       "2020-08-01    121.948907\n",
       "2020-09-01    108.897008\n",
       "2020-10-01     96.112134\n",
       "2020-11-01     93.800098\n",
       "2020-12-01    104.173303\n",
       "2021-01-01    110.532594\n",
       "2021-02-01    101.264369\n",
       "2021-03-01     96.726750\n",
       "2021-04-01     90.481249\n",
       "2021-05-01     96.877398\n",
       "2021-06-01    111.884561\n",
       "2021-07-01    123.722573\n",
       "2021-08-01    122.892921\n",
       "2021-09-01    109.647957\n",
       "Freq: MS, Name: predicted_mean, dtype: float64"
      ]
     },
     "execution_count": 101,
     "metadata": {},
     "output_type": "execute_result"
    }
   ],
   "source": [
    "forecast= np.exp(model_n.forecast(steps=24))\n",
    "forecast \n",
    "# we forecast using this model for next 24 months ."
   ]
  },
  {
   "cell_type": "markdown",
   "id": "74189530",
   "metadata": {},
   "source": [
    "#### Plot which is showing future values :"
   ]
  },
  {
   "cell_type": "code",
   "execution_count": 103,
   "id": "bb499787",
   "metadata": {},
   "outputs": [
    {
     "data": {
      "text/plain": [
       "[<matplotlib.lines.Line2D at 0x2776d937b80>]"
      ]
     },
     "execution_count": 103,
     "metadata": {},
     "output_type": "execute_result"
    },
    {
     "data": {
      "image/png": "[encoded data removed]",
      "text/plain": [
       "<Figure size 432x288 with 1 Axes>"
      ]
     },
     "metadata": {
      "needs_background": "light"
     },
     "output_type": "display_data"
    }
   ],
   "source": [
    "plt.plot(ts, '--', label='obs')\n",
    "plt.plot(forecast, '-', label=forecast)"
   ]
  },
  {
   "cell_type": "markdown",
   "id": "dce971e6",
   "metadata": {},
   "source": [
    "#### Other way to get best values of p,d,q according to minimum AIC :"
   ]
  },
  {
   "cell_type": "code",
   "execution_count": 78,
   "id": "c324250c",
   "metadata": {},
   "outputs": [],
   "source": [
    "import sys\n",
    "import itertools\n",
    "import warnings\n",
    "\n",
    "def auto_arima(timeseries, regressors=None, p=range(0, 2), d=range(0, 2), q=range(0, 2),\n",
    "              P=range(0, 2), D=range(0, 1), Q=range(0, 2)):\n",
    "\n",
    "    # Generate all different combinations of p, d and q triplets\n",
    "    pdq = list(itertools.product(p, d, q))\n",
    "\n",
    "    # Generate all different combinations of seasonal p, q and q triplets\n",
    "    seasonal_pdq = [(x[0], x[1], x[2], 12) for x in list(itertools.product(P, D, Q))]\n",
    "    \n",
    "    warnings.filterwarnings(\"ignore\") # specify to ignore warning messages\n",
    "\n",
    "    best_aic = np.inf\n",
    "    best_pdq = None\n",
    "    best_seasonal_pdq = None\n",
    "    best_results = None\n",
    "    \n",
    "    for param in pdq:\n",
    "        for param_seasonal in seasonal_pdq:\n",
    "\n",
    "            try:\n",
    "                temp_model = sm.tsa.statespace.SARIMAX(endog=timeseries,\n",
    "                                                 exog=regressors,\n",
    "                                                 order = param,\n",
    "                                                 seasonal_order = param_seasonal,\n",
    "                                                 enforce_stationarity=False,\n",
    "                                                 enforce_invertibility=False)\n",
    "                temp_results = temp_model.fit()\n",
    "\n",
    "                print(\"SARIMAX{}x{}12 - AIC:{}\".format(param, param_seasonal, temp_results.aic))\n",
    "                \n",
    "                if temp_results.aic < best_aic:\n",
    "                    best_aic = temp_results.aic\n",
    "                    best_pdq = param\n",
    "                    best_seasonal_pdq = param_seasonal\n",
    "                    best_results = temp_results\n",
    "                \n",
    "            except:\n",
    "                #print(\"Unexpected error:\", sys.exc_info()[0])\n",
    "                continue\n",
    "    print(\"Best SARIMAX{}x{}12 model - AIC:{}\".format(best_pdq, best_seasonal_pdq, best_aic))\n",
    "    print(best_results.summary().tables[0])\n",
    "    print(best_results.summary().tables[1])\n",
    "    #return best_results"
   ]
  },
  {
   "cell_type": "code",
   "execution_count": 79,
   "id": "87aae8ff",
   "metadata": {},
   "outputs": [
    {
     "name": "stdout",
     "output_type": "stream",
     "text": [
      "SARIMAX(0, 0, 0)x(0, 0, 0, 12)12 - AIC:3225.9689567972077\n",
      "SARIMAX(0, 0, 0)x(0, 0, 1, 12)12 - AIC:2460.3880425650095\n",
      "SARIMAX(0, 0, 0)x(0, 0, 2, 12)12 - AIC:2431.2316000364503\n",
      "SARIMAX(0, 0, 0)x(0, 1, 0, 12)12 - AIC:-1885.4463049020064\n",
      "SARIMAX(0, 0, 0)x(0, 1, 1, 12)12 - AIC:-1885.808880347872\n",
      "SARIMAX(0, 0, 0)x(0, 1, 2, 12)12 - AIC:-1856.2629548754278\n",
      "SARIMAX(0, 0, 0)x(1, 0, 0, 12)12 - AIC:-2029.9478344670015\n",
      "SARIMAX(0, 0, 0)x(1, 0, 1, 12)12 - AIC:-2040.716822262778\n",
      "SARIMAX(0, 0, 0)x(1, 0, 2, 12)12 - AIC:-2027.1104398574441\n",
      "SARIMAX(0, 0, 0)x(1, 1, 0, 12)12 - AIC:-1892.5962911544805\n",
      "SARIMAX(0, 0, 0)x(1, 1, 1, 12)12 - AIC:-2039.531597720782\n",
      "SARIMAX(0, 0, 0)x(1, 1, 2, 12)12 - AIC:-2072.1223062058634\n",
      "SARIMAX(0, 0, 0)x(2, 0, 0, 12)12 - AIC:-2034.45818707046\n",
      "SARIMAX(0, 0, 0)x(2, 0, 1, 12)12 - AIC:-2033.3458081385897\n",
      "SARIMAX(0, 0, 0)x(2, 0, 2, 12)12 - AIC:-2026.0985365159622\n",
      "SARIMAX(0, 0, 0)x(2, 1, 0, 12)12 - AIC:-1883.818480533435\n",
      "SARIMAX(0, 0, 0)x(2, 1, 1, 12)12 - AIC:-2050.57485319301\n",
      "SARIMAX(0, 0, 0)x(2, 1, 2, 12)12 - AIC:-2046.2908621117294\n",
      "SARIMAX(0, 0, 1)x(0, 0, 0, 12)12 - AIC:2459.5525874806494\n",
      "SARIMAX(0, 0, 1)x(0, 0, 1, 12)12 - AIC:1711.3648344827902\n",
      "SARIMAX(0, 0, 1)x(0, 0, 2, 12)12 - AIC:1700.3812440593515\n",
      "SARIMAX(0, 0, 1)x(0, 1, 0, 12)12 - AIC:-2252.7245561534937\n",
      "SARIMAX(0, 0, 1)x(0, 1, 1, 12)12 - AIC:-2220.228129194094\n",
      "SARIMAX(0, 0, 1)x(0, 1, 2, 12)12 - AIC:-2178.273937321594\n",
      "SARIMAX(0, 0, 1)x(1, 0, 0, 12)12 - AIC:-2344.897373631601\n",
      "SARIMAX(0, 0, 1)x(1, 0, 1, 12)12 - AIC:-2372.3419230598147\n",
      "SARIMAX(0, 0, 1)x(1, 0, 2, 12)12 - AIC:-1991.0321825576902\n",
      "SARIMAX(0, 0, 1)x(1, 1, 0, 12)12 - AIC:-2230.0496760759534\n",
      "SARIMAX(0, 0, 1)x(1, 1, 1, 12)12 - AIC:-2314.9534883286856\n",
      "SARIMAX(0, 0, 1)x(1, 1, 2, 12)12 - AIC:-2349.9851962055272\n",
      "SARIMAX(0, 0, 1)x(2, 0, 0, 12)12 - AIC:-2345.440310613564\n",
      "SARIMAX(0, 0, 1)x(2, 0, 1, 12)12 - AIC:-2344.279148509846\n",
      "SARIMAX(0, 0, 1)x(2, 0, 2, 12)12 - AIC:-1992.7548966185673\n",
      "SARIMAX(0, 0, 1)x(2, 1, 0, 12)12 - AIC:-2186.5448023848257\n",
      "SARIMAX(0, 0, 1)x(2, 1, 1, 12)12 - AIC:-2325.4087923294437\n",
      "SARIMAX(0, 0, 1)x(2, 1, 2, 12)12 - AIC:-2326.020959418801\n",
      "SARIMAX(0, 0, 2)x(0, 0, 0, 12)12 - AIC:1739.942224632201\n",
      "SARIMAX(0, 0, 2)x(0, 0, 1, 12)12 - AIC:1076.1528323466089\n",
      "SARIMAX(0, 0, 2)x(0, 0, 2, 12)12 - AIC:443.38644118254695\n",
      "SARIMAX(0, 0, 2)x(0, 1, 0, 12)12 - AIC:-2315.855259136883\n",
      "SARIMAX(0, 0, 2)x(0, 1, 1, 12)12 - AIC:-2281.7243292713383\n",
      "SARIMAX(0, 0, 2)x(0, 1, 2, 12)12 - AIC:-2235.891545932694\n",
      "SARIMAX(0, 0, 2)x(1, 0, 0, 12)12 - AIC:-2380.8247288767157\n",
      "SARIMAX(0, 0, 2)x(1, 0, 1, 12)12 - AIC:-2418.8433196066067\n",
      "SARIMAX(0, 0, 2)x(1, 0, 2, 12)12 - AIC:-2371.686000030033\n",
      "SARIMAX(0, 0, 2)x(1, 1, 0, 12)12 - AIC:-2298.126780583004\n",
      "SARIMAX(0, 0, 2)x(1, 1, 1, 12)12 - AIC:-2281.3558404066953\n",
      "SARIMAX(0, 0, 2)x(1, 1, 2, 12)12 - AIC:-2392.104132448708\n",
      "SARIMAX(0, 0, 2)x(2, 0, 0, 12)12 - AIC:-2385.209614622334\n",
      "SARIMAX(0, 0, 2)x(2, 0, 1, 12)12 - AIC:-2387.3993812115473\n",
      "SARIMAX(0, 0, 2)x(2, 0, 2, 12)12 - AIC:-2370.547629138875\n",
      "SARIMAX(0, 0, 2)x(2, 1, 0, 12)12 - AIC:-2242.0414717224107\n",
      "SARIMAX(0, 0, 2)x(2, 1, 1, 12)12 - AIC:-2360.1425207174743\n",
      "SARIMAX(0, 0, 2)x(2, 1, 2, 12)12 - AIC:-2366.981483486955\n",
      "SARIMAX(1, 0, 0)x(0, 0, 0, 12)12 - AIC:-1313.6045375680296\n",
      "SARIMAX(1, 0, 0)x(0, 0, 1, 12)12 - AIC:-1723.5593329750484\n",
      "SARIMAX(1, 0, 0)x(0, 0, 2, 12)12 - AIC:-1666.7070277165215\n",
      "SARIMAX(1, 0, 0)x(0, 1, 0, 12)12 - AIC:-2444.8113348235447\n",
      "SARIMAX(1, 0, 0)x(0, 1, 1, 12)12 - AIC:-2561.5987426961237\n",
      "SARIMAX(1, 0, 0)x(0, 1, 2, 12)12 - AIC:-2503.605233976953\n",
      "SARIMAX(1, 0, 0)x(1, 0, 0, 12)12 - AIC:-2460.5764794494057\n",
      "SARIMAX(1, 0, 0)x(1, 0, 1, 12)12 - AIC:-2634.145158062176\n",
      "SARIMAX(1, 0, 0)x(1, 0, 2, 12)12 - AIC:-2572.2953822732825\n",
      "SARIMAX(1, 0, 0)x(1, 1, 0, 12)12 - AIC:-2461.7826797630814\n",
      "SARIMAX(1, 0, 0)x(1, 1, 1, 12)12 - AIC:-2559.5944205554415\n",
      "SARIMAX(1, 0, 0)x(1, 1, 2, 12)12 - AIC:-2502.309421981339\n",
      "SARIMAX(1, 0, 0)x(2, 0, 0, 12)12 - AIC:-2482.4344585907656\n",
      "SARIMAX(1, 0, 0)x(2, 0, 1, 12)12 - AIC:-2570.8412484854507\n",
      "SARIMAX(1, 0, 0)x(2, 0, 2, 12)12 - AIC:-2574.2519758025696\n",
      "SARIMAX(1, 0, 0)x(2, 1, 0, 12)12 - AIC:-2455.190545017256\n",
      "SARIMAX(1, 0, 0)x(2, 1, 1, 12)12 - AIC:-2516.2238836767815\n",
      "SARIMAX(1, 0, 0)x(2, 1, 2, 12)12 - AIC:-2515.339122188888\n",
      "SARIMAX(1, 0, 1)x(0, 0, 0, 12)12 - AIC:-1556.6009734573122\n",
      "SARIMAX(1, 0, 1)x(0, 0, 1, 12)12 - AIC:-1841.4010484647897\n",
      "SARIMAX(1, 0, 1)x(0, 0, 2, 12)12 - AIC:-1459.2728577984099\n",
      "SARIMAX(1, 0, 1)x(0, 1, 0, 12)12 - AIC:-2437.9580747939535\n",
      "SARIMAX(1, 0, 1)x(0, 1, 1, 12)12 - AIC:-2566.3788421139966\n",
      "SARIMAX(1, 0, 1)x(0, 1, 2, 12)12 - AIC:-2506.036852808452\n",
      "SARIMAX(1, 0, 1)x(1, 0, 0, 12)12 - AIC:-2458.668069847647\n",
      "SARIMAX(1, 0, 1)x(1, 0, 1, 12)12 - AIC:-2633.6143726230666\n",
      "SARIMAX(1, 0, 1)x(1, 0, 2, 12)12 - AIC:-2569.034841629242\n",
      "SARIMAX(1, 0, 1)x(1, 1, 0, 12)12 - AIC:-2464.248005101973\n",
      "SARIMAX(1, 0, 1)x(1, 1, 1, 12)12 - AIC:-2557.061868908499\n",
      "SARIMAX(1, 0, 1)x(1, 1, 2, 12)12 - AIC:-2504.39078052201\n",
      "SARIMAX(1, 0, 1)x(2, 0, 0, 12)12 - AIC:-2480.8909732428874\n",
      "SARIMAX(1, 0, 1)x(2, 0, 1, 12)12 - AIC:-2559.451708005796\n",
      "SARIMAX(1, 0, 1)x(2, 0, 2, 12)12 - AIC:-2573.160507381358\n",
      "SARIMAX(1, 0, 1)x(2, 1, 0, 12)12 - AIC:-2459.2803048808046\n",
      "SARIMAX(1, 0, 1)x(2, 1, 1, 12)12 - AIC:-2527.902307075426\n",
      "SARIMAX(1, 0, 1)x(2, 1, 2, 12)12 - AIC:-2518.5536769225587\n",
      "SARIMAX(1, 0, 2)x(0, 0, 0, 12)12 - AIC:-1572.927153234438\n",
      "SARIMAX(1, 0, 2)x(0, 0, 1, 12)12 - AIC:-1928.208452313314\n",
      "SARIMAX(1, 0, 2)x(0, 0, 2, 12)12 - AIC:-1728.1787921181947\n",
      "SARIMAX(1, 0, 2)x(0, 1, 0, 12)12 - AIC:-2457.8705299139565\n",
      "SARIMAX(1, 0, 2)x(0, 1, 1, 12)12 - AIC:-2609.5548324135143\n",
      "SARIMAX(1, 0, 2)x(0, 1, 2, 12)12 - AIC:-2545.6814437813455\n",
      "SARIMAX(1, 0, 2)x(1, 0, 0, 12)12 - AIC:-2475.6313452598324\n",
      "SARIMAX(1, 0, 2)x(1, 0, 1, 12)12 - AIC:-2663.560664974705\n",
      "SARIMAX(1, 0, 2)x(1, 0, 2, 12)12 - AIC:-2601.3832367418154\n",
      "SARIMAX(1, 0, 2)x(1, 1, 0, 12)12 - AIC:-2498.893554422005\n",
      "SARIMAX(1, 0, 2)x(1, 1, 1, 12)12 - AIC:-2596.233357644121\n",
      "SARIMAX(1, 0, 2)x(1, 1, 2, 12)12 - AIC:-2543.84294361252\n",
      "SARIMAX(1, 0, 2)x(2, 0, 0, 12)12 - AIC:-2503.252312964406\n",
      "SARIMAX(1, 0, 2)x(2, 0, 1, 12)12 - AIC:-2599.1060331567405\n",
      "SARIMAX(1, 0, 2)x(2, 0, 2, 12)12 - AIC:-2604.9693040723396\n",
      "SARIMAX(1, 0, 2)x(2, 1, 0, 12)12 - AIC:-2501.293815117064\n",
      "SARIMAX(1, 0, 2)x(2, 1, 1, 12)12 - AIC:-2567.2135702582736\n",
      "SARIMAX(1, 0, 2)x(2, 1, 2, 12)12 - AIC:-2552.2765061725513\n",
      "SARIMAX(2, 0, 0)x(0, 0, 0, 12)12 - AIC:-1423.4178817513412\n",
      "SARIMAX(2, 0, 0)x(0, 0, 1, 12)12 - AIC:-1780.4766589998678\n",
      "SARIMAX(2, 0, 0)x(0, 0, 2, 12)12 - AIC:-1665.0811708287852\n",
      "SARIMAX(2, 0, 0)x(0, 1, 0, 12)12 - AIC:-2437.7019069385738\n",
      "SARIMAX(2, 0, 0)x(0, 1, 1, 12)12 - AIC:-2565.8394459037686\n",
      "SARIMAX(2, 0, 0)x(0, 1, 2, 12)12 - AIC:-2506.8583335215817\n",
      "SARIMAX(2, 0, 0)x(1, 0, 0, 12)12 - AIC:-2453.1337493674573\n",
      "SARIMAX(2, 0, 0)x(1, 0, 1, 12)12 - AIC:-2630.631238563381\n",
      "SARIMAX(2, 0, 0)x(1, 0, 2, 12)12 - AIC:-2573.9237487151167\n",
      "SARIMAX(2, 0, 0)x(1, 1, 0, 12)12 - AIC:-2456.465620786228\n",
      "SARIMAX(2, 0, 0)x(1, 1, 1, 12)12 - AIC:-2552.3970052745935\n",
      "SARIMAX(2, 0, 0)x(1, 1, 2, 12)12 - AIC:-2504.454045528483\n",
      "SARIMAX(2, 0, 0)x(2, 0, 0, 12)12 - AIC:-2475.058504643791\n",
      "SARIMAX(2, 0, 0)x(2, 0, 1, 12)12 - AIC:-2566.5974110609895\n",
      "SARIMAX(2, 0, 0)x(2, 0, 2, 12)12 - AIC:-2569.980730142596\n",
      "SARIMAX(2, 0, 0)x(2, 1, 0, 12)12 - AIC:-2450.4339700035075\n",
      "SARIMAX(2, 0, 0)x(2, 1, 1, 12)12 - AIC:-2516.177300425809\n",
      "SARIMAX(2, 0, 0)x(2, 1, 2, 12)12 - AIC:-2511.453459421918\n",
      "SARIMAX(2, 0, 1)x(0, 0, 0, 12)12 - AIC:-1561.2767620241189\n",
      "SARIMAX(2, 0, 1)x(0, 0, 1, 12)12 - AIC:-1839.4169286204628\n",
      "SARIMAX(2, 0, 1)x(0, 0, 2, 12)12 - AIC:-1649.372571810357\n",
      "SARIMAX(2, 0, 1)x(0, 1, 0, 12)12 - AIC:-2436.703338311703\n",
      "SARIMAX(2, 0, 1)x(0, 1, 1, 12)12 - AIC:-2476.540758690264\n",
      "SARIMAX(2, 0, 1)x(0, 1, 2, 12)12 - AIC:-2133.018587992049\n",
      "SARIMAX(2, 0, 1)x(1, 0, 0, 12)12 - AIC:-2460.745281514869\n",
      "SARIMAX(2, 0, 1)x(1, 0, 1, 12)12 - AIC:-2625.2395051230005\n",
      "SARIMAX(2, 0, 1)x(1, 0, 2, 12)12 - AIC:-2562.9713719234487\n",
      "SARIMAX(2, 0, 1)x(1, 1, 0, 12)12 - AIC:-2366.9743952756126\n",
      "SARIMAX(2, 0, 1)x(1, 1, 1, 12)12 - AIC:-2373.9054638839552\n",
      "SARIMAX(2, 0, 1)x(1, 1, 2, 12)12 - AIC:-2496.197707597904\n",
      "SARIMAX(2, 0, 1)x(2, 0, 0, 12)12 - AIC:-2478.8317079896174\n",
      "SARIMAX(2, 0, 1)x(2, 0, 1, 12)12 - AIC:-2561.0073860936245\n",
      "SARIMAX(2, 0, 1)x(2, 0, 2, 12)12 - AIC:-2564.8197804548554\n",
      "SARIMAX(2, 0, 1)x(2, 1, 0, 12)12 - AIC:-1646.3506046615562\n",
      "SARIMAX(2, 0, 1)x(2, 1, 1, 12)12 - AIC:-1255.5092717483797\n",
      "SARIMAX(2, 0, 1)x(2, 1, 2, 12)12 - AIC:-2298.0735377369706\n",
      "SARIMAX(2, 0, 2)x(0, 0, 0, 12)12 - AIC:-1675.9749702590339\n",
      "SARIMAX(2, 0, 2)x(0, 0, 1, 12)12 - AIC:-1918.9131997225588\n",
      "SARIMAX(2, 0, 2)x(0, 0, 2, 12)12 - AIC:-1347.8213658613636\n",
      "SARIMAX(2, 0, 2)x(0, 1, 0, 12)12 - AIC:-2457.806889346776\n",
      "SARIMAX(2, 0, 2)x(0, 1, 1, 12)12 - AIC:-2591.5845559990057\n",
      "SARIMAX(2, 0, 2)x(0, 1, 2, 12)12 - AIC:-2551.15031911075\n",
      "SARIMAX(2, 0, 2)x(1, 0, 0, 12)12 - AIC:-2465.403261577338\n",
      "SARIMAX(2, 0, 2)x(1, 0, 1, 12)12 - AIC:-2671.2126899964283\n",
      "SARIMAX(2, 0, 2)x(1, 0, 2, 12)12 - AIC:-2606.3905304265054\n",
      "SARIMAX(2, 0, 2)x(1, 1, 0, 12)12 - AIC:-2491.6102153787606\n",
      "SARIMAX(2, 0, 2)x(1, 1, 1, 12)12 - AIC:-2594.304075475609\n",
      "SARIMAX(2, 0, 2)x(1, 1, 2, 12)12 - AIC:-2546.078587791507\n",
      "SARIMAX(2, 0, 2)x(2, 0, 0, 12)12 - AIC:-2490.0480537206695\n",
      "SARIMAX(2, 0, 2)x(2, 0, 1, 12)12 - AIC:-2598.9896830178795\n",
      "SARIMAX(2, 0, 2)x(2, 0, 2, 12)12 - AIC:-2609.0114405257796\n",
      "SARIMAX(2, 0, 2)x(2, 1, 0, 12)12 - AIC:-2481.3484525334707\n",
      "SARIMAX(2, 0, 2)x(2, 1, 1, 12)12 - AIC:-2560.8899453629724\n",
      "SARIMAX(2, 0, 2)x(2, 1, 2, 12)12 - AIC:-2538.023873837757\n",
      "Best SARIMAX(2, 0, 2)x(1, 0, 1, 12)12 model - AIC:-2671.2126899964283\n",
      "                                      SARIMAX Results                                       \n",
      "============================================================================================\n",
      "Dep. Variable:         Electricty_Consumption_in_TW   No. Observations:                  561\n",
      "Model:             SARIMAX(2, 0, 2)x(1, 0, [1], 12)   Log Likelihood                1342.606\n",
      "Date:                              Tue, 28 Mar 2023   AIC                          -2671.213\n",
      "Time:                                      12:38:54   BIC                          -2641.094\n",
      "Sample:                                  01-01-1973   HQIC                         -2659.439\n",
      "                                       - 09-01-2019                                         \n",
      "Covariance Type:                                opg                                         \n",
      "============================================================================================\n",
      "==============================================================================\n",
      "                 coef    std err          z      P>|z|      [0.025      0.975]\n",
      "------------------------------------------------------------------------------\n",
      "ar.L1          1.3690      0.107     12.769      0.000       1.159       1.579\n",
      "ar.L2         -0.3754      0.105     -3.563      0.000      -0.582      -0.169\n",
      "ma.L1         -0.5892      0.110     -5.349      0.000      -0.805      -0.373\n",
      "ma.L2         -0.2088      0.066     -3.152      0.002      -0.339      -0.079\n",
      "ar.S.L12       1.0038      0.001    827.738      0.000       1.001       1.006\n",
      "ma.S.L12      -0.8110      0.029    -28.409      0.000      -0.867      -0.755\n",
      "sigma2         0.0004    2.5e-05     16.712      0.000       0.000       0.000\n",
      "==============================================================================\n"
     ]
    }
   ],
   "source": [
    "best_results = auto_arima(ln_ts,  p=range(0, 3), d=range(0,1), q=range(0, 3),\n",
    "                         P=range(0, 3), D=range(0, 2), Q=range(0, 3))"
   ]
  },
  {
   "cell_type": "code",
   "execution_count": 76,
   "id": "696dd2d4",
   "metadata": {},
   "outputs": [
    {
     "name": "stderr",
     "output_type": "stream",
     "text": [
      "C:\\Users\\ashis\\anaconda3\\lib\\site-packages\\statsmodels\\tsa\\base\\tsa_model.py:471: ValueWarning: No frequency information was provided, so inferred frequency MS will be used.\n",
      "  self._init_dates(dates, freq)\n",
      "C:\\Users\\ashis\\anaconda3\\lib\\site-packages\\statsmodels\\tsa\\base\\tsa_model.py:471: ValueWarning: No frequency information was provided, so inferred frequency MS will be used.\n",
      "  self._init_dates(dates, freq)\n"
     ]
    },
    {
     "name": "stdout",
     "output_type": "stream",
     "text": [
      "                                      SARIMAX Results                                       \n",
      "============================================================================================\n",
      "Dep. Variable:         Electricty_Consumption_in_TW   No. Observations:                  552\n",
      "Model:             SARIMAX(2, 0, 2)x(1, 0, [1], 12)   Log Likelihood                1320.982\n",
      "Date:                              Tue, 28 Mar 2023   AIC                          -2627.964\n",
      "Time:                                      19:19:44   BIC                          -2597.962\n",
      "Sample:                                  01-01-1973   HQIC                         -2616.227\n",
      "                                       - 12-01-2018                                         \n",
      "Covariance Type:                                opg                                         \n",
      "==============================================================================\n",
      "                 coef    std err          z      P>|z|      [0.025      0.975]\n",
      "------------------------------------------------------------------------------\n",
      "ar.L1          1.3445      0.124     10.842      0.000       1.101       1.588\n",
      "ar.L2         -0.3477      0.123     -2.829      0.005      -0.589      -0.107\n",
      "ma.L1         -0.5944      0.129     -4.614      0.000      -0.847      -0.342\n",
      "ma.L2         -0.1595      0.070     -2.277      0.023      -0.297      -0.022\n",
      "ar.S.L12       1.0046      0.002    547.066      0.000       1.001       1.008\n",
      "ma.S.L12      -0.8216      0.027    -30.461      0.000      -0.874      -0.769\n",
      "sigma2         0.0004   2.32e-05     17.159      0.000       0.000       0.000\n",
      "===================================================================================\n",
      "Ljung-Box (L1) (Q):                   0.85   Jarque-Bera (JB):                 2.99\n",
      "Prob(Q):                              0.36   Prob(JB):                         0.22\n",
      "Heteroskedasticity (H):               1.29   Skew:                             0.14\n",
      "Prob(H) (two-sided):                  0.09   Kurtosis:                         3.22\n",
      "===================================================================================\n",
      "\n",
      "Warnings:\n",
      "[1] Covariance matrix calculated using the outer product of gradients (complex-step).\n"
     ]
    },
    {
     "name": "stderr",
     "output_type": "stream",
     "text": [
      "C:\\Users\\ashis\\anaconda3\\lib\\site-packages\\statsmodels\\base\\model.py:604: ConvergenceWarning: Maximum Likelihood optimization failed to converge. Check mle_retvals\n",
      "  warnings.warn(\"Maximum Likelihood optimization failed to \"\n"
     ]
    }
   ],
   "source": [
    "import statsmodels.api as sm\n",
    "\n",
    "model1 = sm.tsa.statespace.SARIMAX(ln_train, order = (2,0,2), seasonal_order= (1,0,1,12),\n",
    "                                             enforce_stationarity=False,\n",
    "                                             enforce_invertibility=False).fit()\n",
    "\n",
    "print(model1.summary())\n",
    "\n",
    "# we got best value of p,d,q on the basis of min. AIC ."
   ]
  },
  {
   "cell_type": "code",
   "execution_count": 77,
   "id": "60384be4",
   "metadata": {},
   "outputs": [
    {
     "data": {
      "text/plain": [
       "DATE\n",
       "1973-01-01    3.582763\n",
       "1973-02-01    3.587218\n",
       "1973-03-01    3.557132\n",
       "1973-04-01    3.521691\n",
       "1973-05-01    3.511865\n",
       "                ...   \n",
       "2018-08-01    4.751094\n",
       "2018-09-01    4.638673\n",
       "2018-10-01    4.550177\n",
       "2018-11-01    4.520787\n",
       "2018-12-01    4.624858\n",
       "Name: Electricty_Consumption_in_TW, Length: 552, dtype: float64"
      ]
     },
     "execution_count": 77,
     "metadata": {},
     "output_type": "execute_result"
    }
   ],
   "source": [
    "ln_train"
   ]
  },
  {
   "cell_type": "code",
   "execution_count": 79,
   "id": "6f5f6876",
   "metadata": {},
   "outputs": [
    {
     "data": {
      "text/plain": [
       "2019-01-01    106.913365\n",
       "2019-02-01     99.212674\n",
       "2019-03-01     94.693489\n",
       "2019-04-01     88.492451\n",
       "2019-05-01     94.108022\n",
       "2019-06-01    108.599806\n",
       "2019-07-01    119.839951\n",
       "2019-08-01    119.016952\n",
       "2019-09-01    106.424791\n",
       "Freq: MS, Name: predicted_mean, dtype: float64"
      ]
     },
     "execution_count": 79,
     "metadata": {},
     "output_type": "execute_result"
    }
   ],
   "source": [
    "fcst = np.exp(model1.forecast(9))\n",
    "fcst"
   ]
  },
  {
   "cell_type": "code",
   "execution_count": 80,
   "id": "5d5ab1a9",
   "metadata": {},
   "outputs": [
    {
     "data": {
      "text/plain": [
       "DATE\n",
       "2019-01-01    111.8520\n",
       "2019-02-01     97.3261\n",
       "2019-03-01     93.8406\n",
       "2019-04-01     89.1873\n",
       "2019-05-01     97.5860\n",
       "2019-06-01    110.8580\n",
       "2019-07-01    122.1014\n",
       "2019-08-01    121.7765\n",
       "2019-09-01    109.7190\n",
       "Name: Electricty_Consumption_in_TW, dtype: float64"
      ]
     },
     "execution_count": 80,
     "metadata": {},
     "output_type": "execute_result"
    }
   ],
   "source": [
    "actual = (test)\n",
    "actual"
   ]
  },
  {
   "cell_type": "code",
   "execution_count": 81,
   "id": "9d36a4da",
   "metadata": {},
   "outputs": [
    {
     "name": "stdout",
     "output_type": "stream",
     "text": [
      "MAPE_test: 0.02307034639935089\n",
      "RMSE_test: 2.7875986315595256\n",
      "RMSPE_test: 0.025629202156788784\n"
     ]
    }
   ],
   "source": [
    "#forward testing :\n",
    "\n",
    "print(\"MAPE_test:\", np.mean(np.abs(actual-fcst)/actual))\n",
    "\n",
    "print(\"RMSE_test:\", np.sqrt( np.square(np.subtract(actual,fcst ) ).mean() ))\n",
    "\n",
    "print(\"RMSPE_test:\", np.sqrt(np.mean(np.square(( (fcst - actual)/actual) ))) )\n",
    "\n",
    "# if any model give me less than 5 % error in MAPE it's good \n"
   ]
  },
  {
   "cell_type": "code",
   "execution_count": 82,
   "id": "26538b1e",
   "metadata": {},
   "outputs": [],
   "source": [
    "SARIMA_MAPE_OPTIMUM = np.mean(np.abs(fcast - test)/test )\n",
    "\n",
    "SARIMA_RMSE_OPTIMUM = np.sqrt( np.square(np.subtract(test,fcast ) ).mean() )\n",
    "\n",
    "SARIMA_RMSPE_OPTIMUM = np.sqrt(np.mean(np.square(( (fcast - test)/test) ))) "
   ]
  },
  {
   "cell_type": "code",
   "execution_count": 83,
   "id": "798dd54c",
   "metadata": {},
   "outputs": [],
   "source": [
    "#backward testing\n",
    "act = train['2018-12-01':]"
   ]
  },
  {
   "cell_type": "code",
   "execution_count": 84,
   "id": "edc2d168",
   "metadata": {},
   "outputs": [],
   "source": [
    "pred = np.exp(model1.fittedvalues['2018-12-01':])"
   ]
  },
  {
   "cell_type": "code",
   "execution_count": 85,
   "id": "ebaf56c9",
   "metadata": {},
   "outputs": [],
   "source": [
    "pred = np.exp(model1.fittedvalues)['2018-12-01':]\n",
    "act = np.exp(ln_ts)['2018-12-01':]"
   ]
  },
  {
   "cell_type": "code",
   "execution_count": 86,
   "id": "b23a8df7",
   "metadata": {},
   "outputs": [
    {
     "name": "stdout",
     "output_type": "stream",
     "text": [
      "train_error_last9month: 0.0076120098291126235\n"
     ]
    }
   ],
   "source": [
    "print('train_error_last9month:', np.mean(np.abs(act-pred)/act))"
   ]
  },
  {
   "cell_type": "code",
   "execution_count": 109,
   "id": "2345e3fa",
   "metadata": {},
   "outputs": [],
   "source": [
    "### We are forecast the value using SARIMA_OPTIMUM Model :"
   ]
  },
  {
   "cell_type": "code",
   "execution_count": 97,
   "id": "20bd11fa",
   "metadata": {},
   "outputs": [
    {
     "name": "stderr",
     "output_type": "stream",
     "text": [
      "C:\\Users\\ashis\\anaconda3\\lib\\site-packages\\statsmodels\\tsa\\base\\tsa_model.py:471: ValueWarning: No frequency information was provided, so inferred frequency MS will be used.\n",
      "  self._init_dates(dates, freq)\n",
      "C:\\Users\\ashis\\anaconda3\\lib\\site-packages\\statsmodels\\tsa\\base\\tsa_model.py:471: ValueWarning: No frequency information was provided, so inferred frequency MS will be used.\n",
      "  self._init_dates(dates, freq)\n",
      "C:\\Users\\ashis\\anaconda3\\lib\\site-packages\\statsmodels\\base\\model.py:604: ConvergenceWarning: Maximum Likelihood optimization failed to converge. Check mle_retvals\n",
      "  warnings.warn(\"Maximum Likelihood optimization failed to \"\n"
     ]
    }
   ],
   "source": [
    "model2 = sm.tsa.statespace.SARIMAX(ln_ts, order = (2,0,2), seasonal_order= (1,0,1,12),\n",
    "                                             enforce_stationarity=False,\n",
    "                                             enforce_invertibility=False).fit()"
   ]
  },
  {
   "cell_type": "code",
   "execution_count": 98,
   "id": "4cca3b9c",
   "metadata": {},
   "outputs": [
    {
     "data": {
      "text/plain": [
       "2019-10-01     96.838896\n",
       "2019-11-01     94.276907\n",
       "2019-12-01    104.335281\n",
       "2020-01-01    110.594931\n",
       "2020-02-01    101.516860\n",
       "2020-03-01     97.184285\n",
       "2020-04-01     91.134164\n",
       "2020-05-01     97.483791\n",
       "2020-06-01    112.202503\n",
       "2020-07-01    123.802923\n",
       "2020-08-01    123.018573\n",
       "2020-09-01    110.179197\n",
       "2020-10-01     97.615126\n",
       "2020-11-01     95.352330\n",
       "2020-12-01    105.706947\n",
       "2021-01-01    112.132964\n",
       "2021-02-01    102.918468\n",
       "2021-03-01     98.520504\n",
       "2021-04-01     92.370676\n",
       "2021-05-01     98.836177\n",
       "2021-06-01    113.823998\n",
       "2021-07-01    125.643361\n",
       "2021-08-01    124.848836\n",
       "2021-09-01    111.775871\n",
       "Freq: MS, Name: predicted_mean, dtype: float64"
      ]
     },
     "execution_count": 98,
     "metadata": {},
     "output_type": "execute_result"
    }
   ],
   "source": [
    "fcast= np.exp(model2.forecast(steps=24))\n",
    "fcast \n",
    "# we forecast using this model for next 24 months ."
   ]
  },
  {
   "cell_type": "markdown",
   "id": "80da6ac2",
   "metadata": {},
   "source": [
    "#### Plot which is showing future values :"
   ]
  },
  {
   "cell_type": "code",
   "execution_count": 99,
   "id": "cbebb988",
   "metadata": {},
   "outputs": [
    {
     "data": {
      "text/plain": [
       "[<matplotlib.lines.Line2D at 0x2776c8ee1c0>]"
      ]
     },
     "execution_count": 99,
     "metadata": {},
     "output_type": "execute_result"
    },
    {
     "data": {
      "image/png": "[encoded data removed]",
      "text/plain": [
       "<Figure size 432x288 with 1 Axes>"
      ]
     },
     "metadata": {
      "needs_background": "light"
     },
     "output_type": "display_data"
    }
   ],
   "source": [
    "plt.plot(ts, '--', label='obs')\n",
    "plt.plot(fcast, '-', label=fcast)"
   ]
  },
  {
   "cell_type": "markdown",
   "id": "66393712",
   "metadata": {},
   "source": [
    "#### <a>Comparing metrics of each model"
   ]
  },
  {
   "cell_type": "code",
   "execution_count": 87,
   "id": "7c127062",
   "metadata": {},
   "outputs": [],
   "source": [
    "#Getting accuracy and log loss for each model\n",
    "metric_data = pd.DataFrame({'Model' : ['ETS', 'SARIMA', 'SARIMA_OPTIMUM'], \n",
    "                        'MAPE' : [ETS_MAPE, SARIMA_MAPE ,SARIMA_MAPE_OPTIMUM ],\n",
    "                        'RMSE' : [ETS_RMSE, SARIMA_RMSE , SARIMA_RMSE_OPTIMUM],    \n",
    "                        'RMSPE' : [ETS_RMSPE,SARIMA_RMSPE,SARIMA_RMSPE_OPTIMUM]\n",
    "                           })"
   ]
  },
  {
   "cell_type": "code",
   "execution_count": 88,
   "id": "899e8c2b",
   "metadata": {},
   "outputs": [
    {
     "data": {
      "text/html": [
       "<div>\n",
       "<style scoped>\n",
       "    .dataframe tbody tr th:only-of-type {\n",
       "        vertical-align: middle;\n",
       "    }\n",
       "\n",
       "    .dataframe tbody tr th {\n",
       "        vertical-align: top;\n",
       "    }\n",
       "\n",
       "    .dataframe thead th {\n",
       "        text-align: right;\n",
       "    }\n",
       "</style>\n",
       "<table border=\"1\" class=\"dataframe\">\n",
       "  <thead>\n",
       "    <tr style=\"text-align: right;\">\n",
       "      <th></th>\n",
       "      <th>Model</th>\n",
       "      <th>MAPE</th>\n",
       "      <th>RMSE</th>\n",
       "      <th>RMSPE</th>\n",
       "    </tr>\n",
       "  </thead>\n",
       "  <tbody>\n",
       "    <tr>\n",
       "      <th>0</th>\n",
       "      <td>ETS</td>\n",
       "      <td>0.029114</td>\n",
       "      <td>3.836623</td>\n",
       "      <td>0.034801</td>\n",
       "    </tr>\n",
       "    <tr>\n",
       "      <th>1</th>\n",
       "      <td>SARIMA</td>\n",
       "      <td>0.029114</td>\n",
       "      <td>3.836623</td>\n",
       "      <td>0.034801</td>\n",
       "    </tr>\n",
       "    <tr>\n",
       "      <th>2</th>\n",
       "      <td>SARIMA_OPTIMUM</td>\n",
       "      <td>0.023070</td>\n",
       "      <td>2.787599</td>\n",
       "      <td>0.025629</td>\n",
       "    </tr>\n",
       "  </tbody>\n",
       "</table>\n",
       "</div>"
      ],
      "text/plain": [
       "            Model      MAPE      RMSE     RMSPE\n",
       "0             ETS  0.029114  3.836623  0.034801\n",
       "1          SARIMA  0.029114  3.836623  0.034801\n",
       "2  SARIMA_OPTIMUM  0.023070  2.787599  0.025629"
      ]
     },
     "execution_count": 88,
     "metadata": {},
     "output_type": "execute_result"
    }
   ],
   "source": [
    "metric_data"
   ]
  },
  {
   "cell_type": "code",
   "execution_count": 92,
   "id": "2a3fd386",
   "metadata": {},
   "outputs": [],
   "source": [
    "metric_data[['MAPE','RMSE','RMSPE']] = metric_data[['MAPE','RMSE','RMSPE']].applymap(lambda x : round((x*100),3))\n"
   ]
  },
  {
   "cell_type": "code",
   "execution_count": 93,
   "id": "75bb0727",
   "metadata": {},
   "outputs": [
    {
     "data": {
      "text/html": [
       "<div>\n",
       "<style scoped>\n",
       "    .dataframe tbody tr th:only-of-type {\n",
       "        vertical-align: middle;\n",
       "    }\n",
       "\n",
       "    .dataframe tbody tr th {\n",
       "        vertical-align: top;\n",
       "    }\n",
       "\n",
       "    .dataframe thead th {\n",
       "        text-align: right;\n",
       "    }\n",
       "</style>\n",
       "<table border=\"1\" class=\"dataframe\">\n",
       "  <thead>\n",
       "    <tr style=\"text-align: right;\">\n",
       "      <th></th>\n",
       "      <th>Model</th>\n",
       "      <th>MAPE</th>\n",
       "      <th>RMSE</th>\n",
       "      <th>RMSPE</th>\n",
       "    </tr>\n",
       "  </thead>\n",
       "  <tbody>\n",
       "    <tr>\n",
       "      <th>0</th>\n",
       "      <td>ETS</td>\n",
       "      <td>291.1</td>\n",
       "      <td>38366.2</td>\n",
       "      <td>3.480</td>\n",
       "    </tr>\n",
       "    <tr>\n",
       "      <th>1</th>\n",
       "      <td>SARIMA</td>\n",
       "      <td>291.1</td>\n",
       "      <td>38366.2</td>\n",
       "      <td>3.480</td>\n",
       "    </tr>\n",
       "    <tr>\n",
       "      <th>2</th>\n",
       "      <td>SARIMA_OPTIMUM</td>\n",
       "      <td>230.7</td>\n",
       "      <td>27876.0</td>\n",
       "      <td>2.563</td>\n",
       "    </tr>\n",
       "  </tbody>\n",
       "</table>\n",
       "</div>"
      ],
      "text/plain": [
       "            Model   MAPE     RMSE  RMSPE\n",
       "0             ETS  291.1  38366.2  3.480\n",
       "1          SARIMA  291.1  38366.2  3.480\n",
       "2  SARIMA_OPTIMUM  230.7  27876.0  2.563"
      ]
     },
     "execution_count": 93,
     "metadata": {},
     "output_type": "execute_result"
    }
   ],
   "source": [
    "metric_data"
   ]
  },
  {
   "cell_type": "code",
   "execution_count": 94,
   "id": "35842e7b",
   "metadata": {},
   "outputs": [
    {
     "data": {
      "image/png": "[encoded data removed]",
      "text/plain": [
       "<Figure size 432x288 with 1 Axes>"
      ]
     },
     "metadata": {
      "needs_background": "light"
     },
     "output_type": "display_data"
    }
   ],
   "source": [
    "#Visualizing each model's accuracy and log loss metric\n",
    "metric_data.plot(x = 'Model', y = ['MAPE','RMSE','RMSPE'], kind = 'barh')\n",
    "plt.legend(loc = 2)\n",
    "plt.show()\n"
   ]
  },
  {
   "cell_type": "raw",
   "id": "2027f401",
   "metadata": {},
   "source": [
    "We will choose SARIMA_OPTIMUM  model as its having low error  with respect to other two models ."
   ]
  },
  {
   "cell_type": "markdown",
   "id": "fb57d709",
   "metadata": {},
   "source": []
  },
  {
   "cell_type": "code",
   "execution_count": 106,
   "id": "96a80bf1",
   "metadata": {},
   "outputs": [
    {
     "data": {
      "image/png": "[encoded data removed]",
      "text/plain": [
       "<Figure size 1152x864 with 4 Axes>"
      ]
     },
     "metadata": {
      "needs_background": "light"
     },
     "output_type": "display_data"
    }
   ],
   "source": [
    "model.plot_diagnostics(lags=24, figsize=(16,12))\n",
    "plt.show()\n",
    "\n",
    "# Some criteria we need to check whether it's need to follow or not ?\n",
    "#checks:\n",
    "#1. Errors should follow normal distribution (plot2, plot3)\n",
    "#2. Errors should not have any autocorrelation (plot 4) # It can be white noised or random walk .\n",
    "\n",
    "# if so many values are deviating in plot 3 then we can say it's not follow normal distribution ."
   ]
  },
  {
   "cell_type": "code",
   "execution_count": null,
   "id": "f2ce5d87",
   "metadata": {},
   "outputs": [],
   "source": []
  }
 ],
 "metadata": {
  "kernelspec": {
   "display_name": "Python 3 (ipykernel)",
   "language": "python",
   "name": "python3"
  },
  "language_info": {
   "codemirror_mode": {
    "name": "ipython",
    "version": 3
   },
   "file_extension": ".py",
   "mimetype": "text/x-python",
   "name": "python",
   "nbconvert_exporter": "python",
   "pygments_lexer": "ipython3",
   "version": "3.9.13"
  }
 },
 "nbformat": 4,
 "nbformat_minor": 5
}
